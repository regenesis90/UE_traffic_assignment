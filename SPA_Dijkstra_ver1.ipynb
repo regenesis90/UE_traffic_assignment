{
 "cells": [
  {
   "cell_type": "markdown",
   "id": "af11bd69-69c1-4f76-b042-1b6a51d4e24a",
   "metadata": {},
   "source": [
    "# Import"
   ]
  },
  {
   "cell_type": "code",
   "execution_count": 1,
   "id": "3543b089-8148-46b9-8f09-f55ff8d976d2",
   "metadata": {
    "execution": {
     "iopub.execute_input": "2022-06-08T11:02:39.696163Z",
     "iopub.status.busy": "2022-06-08T11:02:39.696163Z",
     "iopub.status.idle": "2022-06-08T11:02:40.062343Z",
     "shell.execute_reply": "2022-06-08T11:02:40.062343Z",
     "shell.execute_reply.started": "2022-06-08T11:02:39.696163Z"
    },
    "tags": []
   },
   "outputs": [],
   "source": [
    "import pandas as pd\n",
    "import numpy as np\n",
    "from io import StringIO\n",
    "\n",
    "import os\n",
    "\n",
    "from tqdm import tqdm"
   ]
  },
  {
   "cell_type": "markdown",
   "id": "dd835ef3-f566-4d0e-acdc-057028259b2a",
   "metadata": {},
   "source": [
    "# Load Dataset"
   ]
  },
  {
   "cell_type": "code",
   "execution_count": 3,
   "id": "4b7b793d-20cf-4b5c-8b4c-056ae4ad5b66",
   "metadata": {
    "execution": {
     "iopub.execute_input": "2022-06-08T11:02:40.926258Z",
     "iopub.status.busy": "2022-06-08T11:02:40.926258Z",
     "iopub.status.idle": "2022-06-08T11:02:40.932246Z",
     "shell.execute_reply": "2022-06-08T11:02:40.932246Z",
     "shell.execute_reply.started": "2022-06-08T11:02:40.926258Z"
    },
    "tags": []
   },
   "outputs": [],
   "source": [
    "data_dir = 'dataset'"
   ]
  },
  {
   "cell_type": "code",
   "execution_count": 4,
   "id": "feb71f78-ae7c-4b06-9f8a-38f92173e511",
   "metadata": {
    "execution": {
     "iopub.execute_input": "2022-06-08T11:02:41.966072Z",
     "iopub.status.busy": "2022-06-08T11:02:41.966072Z",
     "iopub.status.idle": "2022-06-08T11:02:41.979036Z",
     "shell.execute_reply": "2022-06-08T11:02:41.979036Z",
     "shell.execute_reply.started": "2022-06-08T11:02:41.966072Z"
    },
    "tags": []
   },
   "outputs": [],
   "source": [
    "network_file = 'Network.csv'\n",
    "network_path = os.path.join(data_dir, network_file)"
   ]
  },
  {
   "cell_type": "code",
   "execution_count": 5,
   "id": "70f95d3a-454e-45a1-b75e-90ebcd79d7c2",
   "metadata": {
    "execution": {
     "iopub.execute_input": "2022-06-08T11:02:42.422286Z",
     "iopub.status.busy": "2022-06-08T11:02:42.422286Z",
     "iopub.status.idle": "2022-06-08T11:02:42.430265Z",
     "shell.execute_reply": "2022-06-08T11:02:42.430265Z",
     "shell.execute_reply.started": "2022-06-08T11:02:42.422286Z"
    },
    "tags": []
   },
   "outputs": [],
   "source": [
    "network = pd.read_csv(network_path, encoding = 'cp949')"
   ]
  },
  {
   "cell_type": "code",
   "execution_count": 6,
   "id": "48053c7e-26a8-44af-9915-e81e1cc6bc33",
   "metadata": {
    "execution": {
     "iopub.execute_input": "2022-06-08T11:02:42.850914Z",
     "iopub.status.busy": "2022-06-08T11:02:42.850914Z",
     "iopub.status.idle": "2022-06-08T11:02:42.865875Z",
     "shell.execute_reply": "2022-06-08T11:02:42.865875Z",
     "shell.execute_reply.started": "2022-06-08T11:02:42.850914Z"
    },
    "tags": []
   },
   "outputs": [
    {
     "data": {
      "text/html": [
       "<div>\n",
       "<style scoped>\n",
       "    .dataframe tbody tr th:only-of-type {\n",
       "        vertical-align: middle;\n",
       "    }\n",
       "\n",
       "    .dataframe tbody tr th {\n",
       "        vertical-align: top;\n",
       "    }\n",
       "\n",
       "    .dataframe thead th {\n",
       "        text-align: right;\n",
       "    }\n",
       "</style>\n",
       "<table border=\"1\" class=\"dataframe\">\n",
       "  <thead>\n",
       "    <tr style=\"text-align: right;\">\n",
       "      <th></th>\n",
       "      <th>Init node</th>\n",
       "      <th>Term node</th>\n",
       "      <th>Free Flow Time</th>\n",
       "      <th>Power</th>\n",
       "      <th>Capacity</th>\n",
       "      <th>B</th>\n",
       "      <th>Length</th>\n",
       "    </tr>\n",
       "  </thead>\n",
       "  <tbody>\n",
       "    <tr>\n",
       "      <th>0</th>\n",
       "      <td>1</td>\n",
       "      <td>2</td>\n",
       "      <td>1</td>\n",
       "      <td>4</td>\n",
       "      <td>1</td>\n",
       "      <td>0.15</td>\n",
       "      <td>1</td>\n",
       "    </tr>\n",
       "    <tr>\n",
       "      <th>1</th>\n",
       "      <td>1</td>\n",
       "      <td>3</td>\n",
       "      <td>1</td>\n",
       "      <td>4</td>\n",
       "      <td>3</td>\n",
       "      <td>0.15</td>\n",
       "      <td>1</td>\n",
       "    </tr>\n",
       "    <tr>\n",
       "      <th>2</th>\n",
       "      <td>3</td>\n",
       "      <td>2</td>\n",
       "      <td>1</td>\n",
       "      <td>4</td>\n",
       "      <td>2</td>\n",
       "      <td>0.15</td>\n",
       "      <td>1</td>\n",
       "    </tr>\n",
       "  </tbody>\n",
       "</table>\n",
       "</div>"
      ],
      "text/plain": [
       "   Init node   Term node   Free Flow Time   Power  Capacity      B  Length \n",
       "0           1           2                1      4          1  0.15        1\n",
       "1           1           3                1      4          3  0.15        1\n",
       "2           3           2                1      4          2  0.15        1"
      ]
     },
     "execution_count": 6,
     "metadata": {},
     "output_type": "execute_result"
    }
   ],
   "source": [
    "network.head(3)"
   ]
  },
  {
   "cell_type": "markdown",
   "id": "e7cb42a8-5b20-4fb1-80ea-d87a5c42e8cf",
   "metadata": {},
   "source": [
    "# Cost 생성"
   ]
  },
  {
   "cell_type": "code",
   "execution_count": 7,
   "id": "6510867b-6f00-4ead-ab77-8ac83295f3ed",
   "metadata": {
    "execution": {
     "iopub.execute_input": "2022-06-08T11:02:44.799085Z",
     "iopub.status.busy": "2022-06-08T11:02:44.799085Z",
     "iopub.status.idle": "2022-06-08T11:02:44.816040Z",
     "shell.execute_reply": "2022-06-08T11:02:44.815073Z",
     "shell.execute_reply.started": "2022-06-08T11:02:44.799085Z"
    },
    "tags": []
   },
   "outputs": [
    {
     "data": {
      "text/plain": [
       "Index(['Init node ', 'Term node ', 'Free Flow Time ', 'Power', 'Capacity ',\n",
       "       'B', 'Length '],\n",
       "      dtype='object')"
      ]
     },
     "execution_count": 7,
     "metadata": {},
     "output_type": "execute_result"
    }
   ],
   "source": [
    "network.columns"
   ]
  },
  {
   "cell_type": "code",
   "execution_count": 10,
   "id": "a6c146e0-7822-4d76-8b70-28aacd7de5c8",
   "metadata": {
    "execution": {
     "iopub.execute_input": "2022-06-08T11:02:51.268041Z",
     "iopub.status.busy": "2022-06-08T11:02:51.268041Z",
     "iopub.status.idle": "2022-06-08T11:02:51.274025Z",
     "shell.execute_reply": "2022-06-08T11:02:51.274025Z",
     "shell.execute_reply.started": "2022-06-08T11:02:51.268041Z"
    },
    "tags": []
   },
   "outputs": [],
   "source": [
    "# O, D, FFT, alpha, Capacity, beta, Length, Toll 만 남기고 나머지는 지운다.\n",
    "# Volume, Cost라는 빈 컬럼을 생성한다.\n",
    "# cost를 구한다.\n",
    "net1 = pd.DataFrame({\n",
    "    'O' : network['Init node '],\n",
    "    'D' : network['Term node '],\n",
    "    'FFT' : network['Free Flow Time '],\n",
    "    'alpha' : network['Power'],\n",
    "    'Capacity' : network['Capacity '],\n",
    "    'beta' : network['B'],\n",
    "    'Length' : network['Length '],\n",
    "    'Link_num' : [i for i in range(1, len(network)+1)],\n",
    "    #'Toll' : network['Toll '],\n",
    "    'Volume' : 0,\n",
    "    'Cost' : 0\n",
    "})"
   ]
  },
  {
   "cell_type": "code",
   "execution_count": 11,
   "id": "9dba4bdc-2520-4538-8712-f8c8ef2e056f",
   "metadata": {
    "execution": {
     "iopub.execute_input": "2022-06-08T11:02:52.965950Z",
     "iopub.status.busy": "2022-06-08T11:02:52.965950Z",
     "iopub.status.idle": "2022-06-08T11:02:52.974955Z",
     "shell.execute_reply": "2022-06-08T11:02:52.974955Z",
     "shell.execute_reply.started": "2022-06-08T11:02:52.965950Z"
    },
    "tags": []
   },
   "outputs": [
    {
     "data": {
      "text/html": [
       "<div>\n",
       "<style scoped>\n",
       "    .dataframe tbody tr th:only-of-type {\n",
       "        vertical-align: middle;\n",
       "    }\n",
       "\n",
       "    .dataframe tbody tr th {\n",
       "        vertical-align: top;\n",
       "    }\n",
       "\n",
       "    .dataframe thead th {\n",
       "        text-align: right;\n",
       "    }\n",
       "</style>\n",
       "<table border=\"1\" class=\"dataframe\">\n",
       "  <thead>\n",
       "    <tr style=\"text-align: right;\">\n",
       "      <th></th>\n",
       "      <th>O</th>\n",
       "      <th>D</th>\n",
       "      <th>FFT</th>\n",
       "      <th>alpha</th>\n",
       "      <th>Capacity</th>\n",
       "      <th>beta</th>\n",
       "      <th>Length</th>\n",
       "      <th>Volume</th>\n",
       "      <th>Cost</th>\n",
       "    </tr>\n",
       "  </thead>\n",
       "  <tbody>\n",
       "    <tr>\n",
       "      <th>0</th>\n",
       "      <td>1</td>\n",
       "      <td>2</td>\n",
       "      <td>1</td>\n",
       "      <td>4</td>\n",
       "      <td>1</td>\n",
       "      <td>0.15</td>\n",
       "      <td>1</td>\n",
       "      <td>0</td>\n",
       "      <td>0</td>\n",
       "    </tr>\n",
       "    <tr>\n",
       "      <th>1</th>\n",
       "      <td>1</td>\n",
       "      <td>3</td>\n",
       "      <td>1</td>\n",
       "      <td>4</td>\n",
       "      <td>3</td>\n",
       "      <td>0.15</td>\n",
       "      <td>1</td>\n",
       "      <td>0</td>\n",
       "      <td>0</td>\n",
       "    </tr>\n",
       "    <tr>\n",
       "      <th>2</th>\n",
       "      <td>3</td>\n",
       "      <td>2</td>\n",
       "      <td>1</td>\n",
       "      <td>4</td>\n",
       "      <td>2</td>\n",
       "      <td>0.15</td>\n",
       "      <td>1</td>\n",
       "      <td>0</td>\n",
       "      <td>0</td>\n",
       "    </tr>\n",
       "  </tbody>\n",
       "</table>\n",
       "</div>"
      ],
      "text/plain": [
       "   O  D  FFT  alpha  Capacity  beta  Length  Volume  Cost\n",
       "0  1  2    1      4         1  0.15       1       0     0\n",
       "1  1  3    1      4         3  0.15       1       0     0\n",
       "2  3  2    1      4         2  0.15       1       0     0"
      ]
     },
     "execution_count": 11,
     "metadata": {},
     "output_type": "execute_result"
    }
   ],
   "source": [
    "net1.head(3)"
   ]
  },
  {
   "cell_type": "code",
   "execution_count": 13,
   "id": "dfb5d93b-6cff-4c44-a66b-28ebebb819c9",
   "metadata": {
    "execution": {
     "iopub.execute_input": "2022-06-08T11:02:59.756017Z",
     "iopub.status.busy": "2022-06-08T11:02:59.756017Z",
     "iopub.status.idle": "2022-06-08T11:02:59.768986Z",
     "shell.execute_reply": "2022-06-08T11:02:59.768986Z",
     "shell.execute_reply.started": "2022-06-08T11:02:59.756017Z"
    },
    "tags": []
   },
   "outputs": [],
   "source": [
    "net1['Cost'] = net1['FFT'] * ((1 + net1['alpha']/net1['Capacity']) ** net1['beta'])# + (net1['Length'] * net1['Toll'])"
   ]
  },
  {
   "cell_type": "code",
   "execution_count": 14,
   "id": "0cc96a1b-d5c9-45b5-93f7-f8c3e8ce5ebc",
   "metadata": {
    "execution": {
     "iopub.execute_input": "2022-06-08T11:03:01.053927Z",
     "iopub.status.busy": "2022-06-08T11:03:01.052903Z",
     "iopub.status.idle": "2022-06-08T11:03:01.058886Z",
     "shell.execute_reply": "2022-06-08T11:03:01.058886Z",
     "shell.execute_reply.started": "2022-06-08T11:03:01.053927Z"
    },
    "tags": []
   },
   "outputs": [],
   "source": [
    "Cost1 = pd.DataFrame({\n",
    "    'From' : net1['O'],\n",
    "    'To' : net1['D'],\n",
    "    'cost' : net1['Cost']\n",
    "})"
   ]
  },
  {
   "cell_type": "code",
   "execution_count": 15,
   "id": "9c5734b3-fa21-4266-8a05-1c821448156c",
   "metadata": {
    "execution": {
     "iopub.execute_input": "2022-06-08T11:03:01.587424Z",
     "iopub.status.busy": "2022-06-08T11:03:01.586400Z",
     "iopub.status.idle": "2022-06-08T11:03:01.604351Z",
     "shell.execute_reply": "2022-06-08T11:03:01.603356Z",
     "shell.execute_reply.started": "2022-06-08T11:03:01.587424Z"
    },
    "tags": []
   },
   "outputs": [
    {
     "data": {
      "text/html": [
       "<div>\n",
       "<style scoped>\n",
       "    .dataframe tbody tr th:only-of-type {\n",
       "        vertical-align: middle;\n",
       "    }\n",
       "\n",
       "    .dataframe tbody tr th {\n",
       "        vertical-align: top;\n",
       "    }\n",
       "\n",
       "    .dataframe thead th {\n",
       "        text-align: right;\n",
       "    }\n",
       "</style>\n",
       "<table border=\"1\" class=\"dataframe\">\n",
       "  <thead>\n",
       "    <tr style=\"text-align: right;\">\n",
       "      <th></th>\n",
       "      <th>From</th>\n",
       "      <th>To</th>\n",
       "      <th>cost</th>\n",
       "    </tr>\n",
       "  </thead>\n",
       "  <tbody>\n",
       "    <tr>\n",
       "      <th>0</th>\n",
       "      <td>1</td>\n",
       "      <td>2</td>\n",
       "      <td>1.273050</td>\n",
       "    </tr>\n",
       "    <tr>\n",
       "      <th>1</th>\n",
       "      <td>1</td>\n",
       "      <td>3</td>\n",
       "      <td>1.135525</td>\n",
       "    </tr>\n",
       "    <tr>\n",
       "      <th>2</th>\n",
       "      <td>3</td>\n",
       "      <td>2</td>\n",
       "      <td>1.179148</td>\n",
       "    </tr>\n",
       "  </tbody>\n",
       "</table>\n",
       "</div>"
      ],
      "text/plain": [
       "   From  To      cost\n",
       "0     1   2  1.273050\n",
       "1     1   3  1.135525\n",
       "2     3   2  1.179148"
      ]
     },
     "execution_count": 15,
     "metadata": {},
     "output_type": "execute_result"
    }
   ],
   "source": [
    "Cost1.head(3)"
   ]
  },
  {
   "cell_type": "markdown",
   "id": "6c7486a5-0cf5-4124-8226-bf904f9fe3a1",
   "metadata": {},
   "source": [
    "# Node set to find optimize"
   ]
  },
  {
   "cell_type": "code",
   "execution_count": 16,
   "id": "6a90718c-1d40-4c88-ab53-7eb224b6398e",
   "metadata": {
    "execution": {
     "iopub.execute_input": "2022-06-08T11:03:03.398270Z",
     "iopub.status.busy": "2022-06-08T11:03:03.397272Z",
     "iopub.status.idle": "2022-06-08T11:03:03.418215Z",
     "shell.execute_reply": "2022-06-08T11:03:03.418215Z",
     "shell.execute_reply.started": "2022-06-08T11:03:03.398270Z"
    },
    "tags": []
   },
   "outputs": [],
   "source": [
    "node1 = pd.DataFrame({'node' : net1['O'],\n",
    "                      'start' : 0,\n",
    "                      'end' : 0}).drop_duplicates()\n",
    "\n",
    "node1 = node1.sort_values(by = 'node') # node 컬럼에 대해 오름차순 정렬"
   ]
  },
  {
   "cell_type": "code",
   "execution_count": 17,
   "id": "201a9d88-f584-4291-9ca0-55a7e25112a7",
   "metadata": {
    "execution": {
     "iopub.execute_input": "2022-06-08T11:03:03.963164Z",
     "iopub.status.busy": "2022-06-08T11:03:03.962166Z",
     "iopub.status.idle": "2022-06-08T11:03:03.979093Z",
     "shell.execute_reply": "2022-06-08T11:03:03.979093Z",
     "shell.execute_reply.started": "2022-06-08T11:03:03.963164Z"
    },
    "tags": []
   },
   "outputs": [
    {
     "data": {
      "text/html": [
       "<div>\n",
       "<style scoped>\n",
       "    .dataframe tbody tr th:only-of-type {\n",
       "        vertical-align: middle;\n",
       "    }\n",
       "\n",
       "    .dataframe tbody tr th {\n",
       "        vertical-align: top;\n",
       "    }\n",
       "\n",
       "    .dataframe thead th {\n",
       "        text-align: right;\n",
       "    }\n",
       "</style>\n",
       "<table border=\"1\" class=\"dataframe\">\n",
       "  <thead>\n",
       "    <tr style=\"text-align: right;\">\n",
       "      <th></th>\n",
       "      <th>node</th>\n",
       "      <th>start</th>\n",
       "      <th>end</th>\n",
       "    </tr>\n",
       "  </thead>\n",
       "  <tbody>\n",
       "    <tr>\n",
       "      <th>0</th>\n",
       "      <td>1</td>\n",
       "      <td>0</td>\n",
       "      <td>0</td>\n",
       "    </tr>\n",
       "    <tr>\n",
       "      <th>2</th>\n",
       "      <td>3</td>\n",
       "      <td>0</td>\n",
       "      <td>0</td>\n",
       "    </tr>\n",
       "    <tr>\n",
       "      <th>4</th>\n",
       "      <td>4</td>\n",
       "      <td>0</td>\n",
       "      <td>0</td>\n",
       "    </tr>\n",
       "  </tbody>\n",
       "</table>\n",
       "</div>"
      ],
      "text/plain": [
       "   node  start  end\n",
       "0     1      0    0\n",
       "2     3      0    0\n",
       "4     4      0    0"
      ]
     },
     "execution_count": 17,
     "metadata": {},
     "output_type": "execute_result"
    }
   ],
   "source": [
    "node1.head(3)"
   ]
  },
  {
   "cell_type": "code",
   "execution_count": 18,
   "id": "62969649-8288-4f39-83b0-02542fa329e0",
   "metadata": {
    "execution": {
     "iopub.execute_input": "2022-06-08T11:03:08.414747Z",
     "iopub.status.busy": "2022-06-08T11:03:08.414562Z",
     "iopub.status.idle": "2022-06-08T11:03:08.420732Z",
     "shell.execute_reply": "2022-06-08T11:03:08.420732Z",
     "shell.execute_reply.started": "2022-06-08T11:03:08.414747Z"
    },
    "tags": []
   },
   "outputs": [],
   "source": [
    "# net1 데이터프레임을 O, D에 대하여 오름차순 정렬\n",
    "net1 = net1.sort_values(by = ['O', 'D'])\n",
    "# Cost를 일단 정수 값으로 설정하기\n",
    "net1['Cost'] = net1['Cost'].round(0)"
   ]
  },
  {
   "cell_type": "code",
   "execution_count": 19,
   "id": "44cc079f-cd9c-455a-bd01-7cd31cf533ea",
   "metadata": {
    "execution": {
     "iopub.execute_input": "2022-06-08T11:03:09.059065Z",
     "iopub.status.busy": "2022-06-08T11:03:09.059065Z",
     "iopub.status.idle": "2022-06-08T11:03:09.069012Z",
     "shell.execute_reply": "2022-06-08T11:03:09.069012Z",
     "shell.execute_reply.started": "2022-06-08T11:03:09.059065Z"
    },
    "tags": []
   },
   "outputs": [
    {
     "data": {
      "text/html": [
       "<div>\n",
       "<style scoped>\n",
       "    .dataframe tbody tr th:only-of-type {\n",
       "        vertical-align: middle;\n",
       "    }\n",
       "\n",
       "    .dataframe tbody tr th {\n",
       "        vertical-align: top;\n",
       "    }\n",
       "\n",
       "    .dataframe thead th {\n",
       "        text-align: right;\n",
       "    }\n",
       "</style>\n",
       "<table border=\"1\" class=\"dataframe\">\n",
       "  <thead>\n",
       "    <tr style=\"text-align: right;\">\n",
       "      <th></th>\n",
       "      <th>O</th>\n",
       "      <th>D</th>\n",
       "      <th>FFT</th>\n",
       "      <th>alpha</th>\n",
       "      <th>Capacity</th>\n",
       "      <th>beta</th>\n",
       "      <th>Length</th>\n",
       "      <th>Volume</th>\n",
       "      <th>Cost</th>\n",
       "    </tr>\n",
       "  </thead>\n",
       "  <tbody>\n",
       "    <tr>\n",
       "      <th>0</th>\n",
       "      <td>1</td>\n",
       "      <td>2</td>\n",
       "      <td>1</td>\n",
       "      <td>4</td>\n",
       "      <td>1</td>\n",
       "      <td>0.15</td>\n",
       "      <td>1</td>\n",
       "      <td>0</td>\n",
       "      <td>1.0</td>\n",
       "    </tr>\n",
       "    <tr>\n",
       "      <th>1</th>\n",
       "      <td>1</td>\n",
       "      <td>3</td>\n",
       "      <td>1</td>\n",
       "      <td>4</td>\n",
       "      <td>3</td>\n",
       "      <td>0.15</td>\n",
       "      <td>1</td>\n",
       "      <td>0</td>\n",
       "      <td>1.0</td>\n",
       "    </tr>\n",
       "    <tr>\n",
       "      <th>2</th>\n",
       "      <td>3</td>\n",
       "      <td>2</td>\n",
       "      <td>1</td>\n",
       "      <td>4</td>\n",
       "      <td>2</td>\n",
       "      <td>0.15</td>\n",
       "      <td>1</td>\n",
       "      <td>0</td>\n",
       "      <td>1.0</td>\n",
       "    </tr>\n",
       "    <tr>\n",
       "      <th>3</th>\n",
       "      <td>3</td>\n",
       "      <td>4</td>\n",
       "      <td>1</td>\n",
       "      <td>4</td>\n",
       "      <td>4</td>\n",
       "      <td>0.15</td>\n",
       "      <td>1</td>\n",
       "      <td>0</td>\n",
       "      <td>1.0</td>\n",
       "    </tr>\n",
       "    <tr>\n",
       "      <th>4</th>\n",
       "      <td>4</td>\n",
       "      <td>2</td>\n",
       "      <td>1</td>\n",
       "      <td>4</td>\n",
       "      <td>5</td>\n",
       "      <td>0.15</td>\n",
       "      <td>1</td>\n",
       "      <td>0</td>\n",
       "      <td>1.0</td>\n",
       "    </tr>\n",
       "  </tbody>\n",
       "</table>\n",
       "</div>"
      ],
      "text/plain": [
       "   O  D  FFT  alpha  Capacity  beta  Length  Volume  Cost\n",
       "0  1  2    1      4         1  0.15       1       0   1.0\n",
       "1  1  3    1      4         3  0.15       1       0   1.0\n",
       "2  3  2    1      4         2  0.15       1       0   1.0\n",
       "3  3  4    1      4         4  0.15       1       0   1.0\n",
       "4  4  2    1      4         5  0.15       1       0   1.0"
      ]
     },
     "execution_count": 19,
     "metadata": {},
     "output_type": "execute_result"
    }
   ],
   "source": [
    "net1.head()"
   ]
  },
  {
   "cell_type": "markdown",
   "id": "1d7b64f1-911c-4c8b-b121-65771495ffe0",
   "metadata": {},
   "source": [
    "## 노드 넘버 설정\n",
    "* 각 출발지로부터 뻗어나가는 링크에 번호매긴거"
   ]
  },
  {
   "cell_type": "code",
   "execution_count": 20,
   "id": "c8450e17-368b-448a-8202-f52bb3781895",
   "metadata": {
    "execution": {
     "iopub.execute_input": "2022-06-08T11:03:10.851330Z",
     "iopub.status.busy": "2022-06-08T11:03:10.851330Z",
     "iopub.status.idle": "2022-06-08T11:03:10.872242Z",
     "shell.execute_reply": "2022-06-08T11:03:10.870248Z",
     "shell.execute_reply.started": "2022-06-08T11:03:10.851330Z"
    },
    "tags": []
   },
   "outputs": [
    {
     "data": {
      "text/html": [
       "<div>\n",
       "<style scoped>\n",
       "    .dataframe tbody tr th:only-of-type {\n",
       "        vertical-align: middle;\n",
       "    }\n",
       "\n",
       "    .dataframe tbody tr th {\n",
       "        vertical-align: top;\n",
       "    }\n",
       "\n",
       "    .dataframe thead th {\n",
       "        text-align: right;\n",
       "    }\n",
       "</style>\n",
       "<table border=\"1\" class=\"dataframe\">\n",
       "  <thead>\n",
       "    <tr style=\"text-align: right;\">\n",
       "      <th></th>\n",
       "      <th>O</th>\n",
       "      <th>D</th>\n",
       "      <th>FFT</th>\n",
       "      <th>alpha</th>\n",
       "      <th>Capacity</th>\n",
       "      <th>beta</th>\n",
       "      <th>Length</th>\n",
       "      <th>Volume</th>\n",
       "      <th>Cost</th>\n",
       "      <th>link_num</th>\n",
       "    </tr>\n",
       "  </thead>\n",
       "  <tbody>\n",
       "    <tr>\n",
       "      <th>0</th>\n",
       "      <td>1</td>\n",
       "      <td>2</td>\n",
       "      <td>1</td>\n",
       "      <td>4</td>\n",
       "      <td>1</td>\n",
       "      <td>0.15</td>\n",
       "      <td>1</td>\n",
       "      <td>0</td>\n",
       "      <td>1.0</td>\n",
       "      <td>1</td>\n",
       "    </tr>\n",
       "    <tr>\n",
       "      <th>1</th>\n",
       "      <td>1</td>\n",
       "      <td>3</td>\n",
       "      <td>1</td>\n",
       "      <td>4</td>\n",
       "      <td>3</td>\n",
       "      <td>0.15</td>\n",
       "      <td>1</td>\n",
       "      <td>0</td>\n",
       "      <td>1.0</td>\n",
       "      <td>2</td>\n",
       "    </tr>\n",
       "    <tr>\n",
       "      <th>2</th>\n",
       "      <td>3</td>\n",
       "      <td>2</td>\n",
       "      <td>1</td>\n",
       "      <td>4</td>\n",
       "      <td>2</td>\n",
       "      <td>0.15</td>\n",
       "      <td>1</td>\n",
       "      <td>0</td>\n",
       "      <td>1.0</td>\n",
       "      <td>3</td>\n",
       "    </tr>\n",
       "    <tr>\n",
       "      <th>3</th>\n",
       "      <td>3</td>\n",
       "      <td>4</td>\n",
       "      <td>1</td>\n",
       "      <td>4</td>\n",
       "      <td>4</td>\n",
       "      <td>0.15</td>\n",
       "      <td>1</td>\n",
       "      <td>0</td>\n",
       "      <td>1.0</td>\n",
       "      <td>4</td>\n",
       "    </tr>\n",
       "    <tr>\n",
       "      <th>4</th>\n",
       "      <td>4</td>\n",
       "      <td>2</td>\n",
       "      <td>1</td>\n",
       "      <td>4</td>\n",
       "      <td>5</td>\n",
       "      <td>0.15</td>\n",
       "      <td>1</td>\n",
       "      <td>0</td>\n",
       "      <td>1.0</td>\n",
       "      <td>5</td>\n",
       "    </tr>\n",
       "  </tbody>\n",
       "</table>\n",
       "</div>"
      ],
      "text/plain": [
       "   O  D  FFT  alpha  Capacity  beta  Length  Volume  Cost  link_num\n",
       "0  1  2    1      4         1  0.15       1       0   1.0         1\n",
       "1  1  3    1      4         3  0.15       1       0   1.0         2\n",
       "2  3  2    1      4         2  0.15       1       0   1.0         3\n",
       "3  3  4    1      4         4  0.15       1       0   1.0         4\n",
       "4  4  2    1      4         5  0.15       1       0   1.0         5"
      ]
     },
     "execution_count": 20,
     "metadata": {},
     "output_type": "execute_result"
    }
   ],
   "source": [
    "# 76개의 node = (O, D) 페어링에 대해 번호를 매겨주기\n",
    "net1['link_num'] = [i for i in range(1, len(net1)+1)]\n",
    "\n",
    "net1.head()"
   ]
  },
  {
   "cell_type": "code",
   "execution_count": 21,
   "id": "d7f7cfeb-4f68-4d05-8668-2d6c947914d7",
   "metadata": {
    "execution": {
     "iopub.execute_input": "2022-06-08T11:03:13.203769Z",
     "iopub.status.busy": "2022-06-08T11:03:13.203769Z",
     "iopub.status.idle": "2022-06-08T11:03:13.219391Z",
     "shell.execute_reply": "2022-06-08T11:03:13.219391Z",
     "shell.execute_reply.started": "2022-06-08T11:03:13.203769Z"
    },
    "tags": []
   },
   "outputs": [],
   "source": [
    "# 각 기점별 링크넘버 start-end를 node1이라는 데이터프레임에 저장하기\n",
    "nodes = net1['O'].unique()\n",
    "start_list = []\n",
    "end_list = []\n",
    "\n",
    "for node in nodes:\n",
    "    des_list = net1[net1['O'] == node]['link_num']\n",
    "    des_list.sort_values() # 오름차순 정렬\n",
    "    start = des_list.iloc[0]\n",
    "    end = des_list.iloc[-1]\n",
    "    start_list.append(start)\n",
    "    end_list.append(end)\n",
    "    \n",
    "node1 = pd.DataFrame({\n",
    "    'node' : nodes,\n",
    "    'start' : start_list,\n",
    "    'end' : end_list\n",
    "})"
   ]
  },
  {
   "cell_type": "code",
   "execution_count": 22,
   "id": "4150fb53-b936-4be1-973a-ae1a80d99c1d",
   "metadata": {
    "execution": {
     "iopub.execute_input": "2022-06-08T11:03:14.644999Z",
     "iopub.status.busy": "2022-06-08T11:03:14.644999Z",
     "iopub.status.idle": "2022-06-08T11:03:14.660818Z",
     "shell.execute_reply": "2022-06-08T11:03:14.660621Z",
     "shell.execute_reply.started": "2022-06-08T11:03:14.644999Z"
    },
    "tags": []
   },
   "outputs": [
    {
     "data": {
      "text/html": [
       "<div>\n",
       "<style scoped>\n",
       "    .dataframe tbody tr th:only-of-type {\n",
       "        vertical-align: middle;\n",
       "    }\n",
       "\n",
       "    .dataframe tbody tr th {\n",
       "        vertical-align: top;\n",
       "    }\n",
       "\n",
       "    .dataframe thead th {\n",
       "        text-align: right;\n",
       "    }\n",
       "</style>\n",
       "<table border=\"1\" class=\"dataframe\">\n",
       "  <thead>\n",
       "    <tr style=\"text-align: right;\">\n",
       "      <th></th>\n",
       "      <th>node</th>\n",
       "      <th>start</th>\n",
       "      <th>end</th>\n",
       "    </tr>\n",
       "  </thead>\n",
       "  <tbody>\n",
       "    <tr>\n",
       "      <th>0</th>\n",
       "      <td>1</td>\n",
       "      <td>1</td>\n",
       "      <td>2</td>\n",
       "    </tr>\n",
       "    <tr>\n",
       "      <th>1</th>\n",
       "      <td>3</td>\n",
       "      <td>3</td>\n",
       "      <td>4</td>\n",
       "    </tr>\n",
       "    <tr>\n",
       "      <th>2</th>\n",
       "      <td>4</td>\n",
       "      <td>5</td>\n",
       "      <td>5</td>\n",
       "    </tr>\n",
       "  </tbody>\n",
       "</table>\n",
       "</div>"
      ],
      "text/plain": [
       "   node  start  end\n",
       "0     1      1    2\n",
       "1     3      3    4\n",
       "2     4      5    5"
      ]
     },
     "execution_count": 22,
     "metadata": {},
     "output_type": "execute_result"
    }
   ],
   "source": [
    "node1"
   ]
  },
  {
   "cell_type": "markdown",
   "id": "699f4e6d-0cd5-4f92-81a2-f8e6fad741c2",
   "metadata": {},
   "source": [
    "# Dijkstra"
   ]
  },
  {
   "cell_type": "code",
   "execution_count": 57,
   "id": "48299b43-7e0e-4d4a-9e20-c8eeb3f8a765",
   "metadata": {
    "execution": {
     "iopub.execute_input": "2022-06-08T11:16:19.336461Z",
     "iopub.status.busy": "2022-06-08T11:16:19.336461Z",
     "iopub.status.idle": "2022-06-08T11:16:19.346436Z",
     "shell.execute_reply": "2022-06-08T11:16:19.346436Z",
     "shell.execute_reply.started": "2022-06-08T11:16:19.336461Z"
    },
    "tags": []
   },
   "outputs": [],
   "source": [
    "def Dijkstra(origin, net1):\n",
    "    \n",
    "    Pk = pd.DataFrame({\n",
    "        'To' : net1['O'].unique(),\n",
    "        'From' : 0,\n",
    "        'C1' : 999,\n",
    "        'Fin' : 0\n",
    "    })\n",
    "    \n",
    "    Pk.loc[Pk['To'] == origin, 'C1'] = 0\n",
    "    \n",
    "    Pk = Pk.sort_values(by = ['C1', 'To']).reset_index(drop = True)\n",
    "    print(f'PK :\\n {Pk}')\n",
    "    \n",
    "    while True:\n",
    "        if sum(Pk['Fin']) == len(Pk):\n",
    "            break\n",
    "\n",
    "        a = Pk.loc[0, 'To'] #Pk 데이터프레임의 1행 1열 데이터\n",
    "        ac = Pk.loc[0, 'C1'] # Pk 데이터프레임의 1행 3열 데이터\n",
    "        \n",
    "        print(a)\n",
    "        \n",
    "        #print(a, ac)\n",
    "        \n",
    "        Pk.loc[0, 'Fin'] = 1\n",
    "        Pk = Pk.sort_values(by = ['To']).reset_index(drop = True)\n",
    "        \n",
    "        print(f'PK :\\n {Pk}')\n",
    "            \n",
    "        # DN : Dijkstra next updating node, D : Dijkstra iteration term\n",
    "        node1_a = node1[node1['node'] == a]\n",
    "        link_start = node1_a['start'].iloc[0]\n",
    "        link_end = node1_a['end'].iloc[0]\n",
    "        \n",
    "        print(link_start, link_end)\n",
    "         \n",
    "        DN = net1[(net1['link_num'] >= link_start) & (net1['link_num'] <= link_end)]\n",
    "        print(DN)\n",
    "        DN = DN[['D', 'Cost']]\n",
    "        DN.rename(columns = {'D' : 'To', 'Cost' : 'C'}, inplace = True)\n",
    "            \n",
    "        print(DN)\n",
    "            \n",
    "        Pk = pd.merge(Pk, DN, on = ['To'], how = 'left') \n",
    "        \n",
    "        print(f'PK :\\n {Pk}')\n",
    "            \n",
    "        Pk = Pk.fillna(999) # Pk의 C 값 중 값이 없어 NaN인 값들을 999로 채우기\n",
    "            #Pk = Pk.sort_values(by = 'To').reset_index(drop = True)\n",
    "            \n",
    "        upset = list(Pk[Pk['C1'] > (Pk['C'] + ac)]['To']) ######### 진짜 여기서 죽는줄알았네 ㅆㅂ\n",
    "        print(upset)\n",
    "        #print(upset)\n",
    "        #print(Pk)\n",
    "            \n",
    "        if len(upset) > 0:\n",
    "            Pk.loc[Pk['To'].isin(upset), 'Fin'] = 0\n",
    "            Pk.loc[Pk['To'].isin(upset), 'C1'] = Pk.loc[Pk['To'].isin(upset), 'C'] + ac\n",
    "            Pk.loc[Pk['To'].isin(upset), 'From'] = a\n",
    "            \n",
    "        Pk = Pk.iloc[:, 0:-1]\n",
    "        Pk = Pk.sort_values(by = ['Fin', 'C1', 'To']).reset_index(drop = True)\n",
    "        print('=' * 40)\n",
    "    \n",
    "    out = pd.DataFrame({\n",
    "        'O' : Pk['From'],\n",
    "        'D' : Pk['To'],\n",
    "        'SP' : Pk['C1']\n",
    "    })\n",
    "    \n",
    "    out = out.sort_values(by = 'SP').reset_index(drop = True)\n",
    "    \n",
    "    return out"
   ]
  },
  {
   "cell_type": "code",
   "execution_count": 58,
   "id": "d47baf34-6f69-4a8b-b228-89d8f1060f6c",
   "metadata": {
    "execution": {
     "iopub.execute_input": "2022-06-08T11:16:22.480225Z",
     "iopub.status.busy": "2022-06-08T11:16:22.480225Z",
     "iopub.status.idle": "2022-06-08T11:16:22.540063Z",
     "shell.execute_reply": "2022-06-08T11:16:22.540063Z",
     "shell.execute_reply.started": "2022-06-08T11:16:22.480225Z"
    },
    "tags": []
   },
   "outputs": [
    {
     "name": "stdout",
     "output_type": "stream",
     "text": [
      "PK :\n",
      "    To  From   C1  Fin\n",
      "0   1     0    0    0\n",
      "1   3     0  999    0\n",
      "2   4     0  999    0\n",
      "1\n",
      "PK :\n",
      "    To  From   C1  Fin\n",
      "0   1     0    0    1\n",
      "1   3     0  999    0\n",
      "2   4     0  999    0\n",
      "1 2\n",
      "   O  D  FFT  alpha  Capacity  beta  Length  Volume  Cost  link_num\n",
      "0  1  2    1      4         1  0.15       1       0   1.0         1\n",
      "1  1  3    1      4         3  0.15       1       0   1.0         2\n",
      "   To    C\n",
      "0   2  1.0\n",
      "1   3  1.0\n",
      "PK :\n",
      "    To  From   C1  Fin    C\n",
      "0   1     0    0    1  NaN\n",
      "1   3     0  999    0  1.0\n",
      "2   4     0  999    0  NaN\n",
      "[3]\n",
      "========================================\n",
      "3\n",
      "PK :\n",
      "    To  From     C1  Fin\n",
      "0   1     0    0.0    1\n",
      "1   3     1    1.0    1\n",
      "2   4     0  999.0    0\n",
      "3 4\n",
      "   O  D  FFT  alpha  Capacity  beta  Length  Volume  Cost  link_num\n",
      "2  3  2    1      4         2  0.15       1       0   1.0         3\n",
      "3  3  4    1      4         4  0.15       1       0   1.0         4\n",
      "   To    C\n",
      "2   2  1.0\n",
      "3   4  1.0\n",
      "PK :\n",
      "    To  From     C1  Fin    C\n",
      "0   1     0    0.0    1  NaN\n",
      "1   3     1    1.0    1  NaN\n",
      "2   4     0  999.0    0  1.0\n",
      "[4]\n",
      "========================================\n",
      "4\n",
      "PK :\n",
      "    To  From   C1  Fin\n",
      "0   1     0  0.0    1\n",
      "1   3     1  1.0    1\n",
      "2   4     3  2.0    1\n",
      "5 5\n",
      "   O  D  FFT  alpha  Capacity  beta  Length  Volume  Cost  link_num\n",
      "4  4  2    1      4         5  0.15       1       0   1.0         5\n",
      "   To    C\n",
      "4   2  1.0\n",
      "PK :\n",
      "    To  From   C1  Fin   C\n",
      "0   1     0  0.0    1 NaN\n",
      "1   3     1  1.0    1 NaN\n",
      "2   4     3  2.0    1 NaN\n",
      "[]\n",
      "========================================\n"
     ]
    },
    {
     "data": {
      "text/html": [
       "<div>\n",
       "<style scoped>\n",
       "    .dataframe tbody tr th:only-of-type {\n",
       "        vertical-align: middle;\n",
       "    }\n",
       "\n",
       "    .dataframe tbody tr th {\n",
       "        vertical-align: top;\n",
       "    }\n",
       "\n",
       "    .dataframe thead th {\n",
       "        text-align: right;\n",
       "    }\n",
       "</style>\n",
       "<table border=\"1\" class=\"dataframe\">\n",
       "  <thead>\n",
       "    <tr style=\"text-align: right;\">\n",
       "      <th></th>\n",
       "      <th>O</th>\n",
       "      <th>D</th>\n",
       "      <th>SP</th>\n",
       "    </tr>\n",
       "  </thead>\n",
       "  <tbody>\n",
       "    <tr>\n",
       "      <th>0</th>\n",
       "      <td>0</td>\n",
       "      <td>1</td>\n",
       "      <td>0.0</td>\n",
       "    </tr>\n",
       "    <tr>\n",
       "      <th>1</th>\n",
       "      <td>1</td>\n",
       "      <td>3</td>\n",
       "      <td>1.0</td>\n",
       "    </tr>\n",
       "    <tr>\n",
       "      <th>2</th>\n",
       "      <td>3</td>\n",
       "      <td>4</td>\n",
       "      <td>2.0</td>\n",
       "    </tr>\n",
       "  </tbody>\n",
       "</table>\n",
       "</div>"
      ],
      "text/plain": [
       "   O  D   SP\n",
       "0  0  1  0.0\n",
       "1  1  3  1.0\n",
       "2  3  4  2.0"
      ]
     },
     "execution_count": 58,
     "metadata": {},
     "output_type": "execute_result"
    }
   ],
   "source": [
    "Dijkstra(1, net1)"
   ]
  },
  {
   "cell_type": "markdown",
   "id": "8154b2b8-a1c2-42ad-a31b-9548fa6edd05",
   "metadata": {},
   "source": [
    "# Shortest Path of Dijkstra"
   ]
  },
  {
   "cell_type": "code",
   "execution_count": 25,
   "id": "e3ad2bf1-059a-435f-950e-819dd4d4eb7c",
   "metadata": {
    "execution": {
     "iopub.execute_input": "2022-06-08T11:03:43.740354Z",
     "iopub.status.busy": "2022-06-08T11:03:43.739305Z",
     "iopub.status.idle": "2022-06-08T11:03:43.757285Z",
     "shell.execute_reply": "2022-06-08T11:03:43.757285Z",
     "shell.execute_reply.started": "2022-06-08T11:03:43.740354Z"
    },
    "tags": []
   },
   "outputs": [],
   "source": [
    "def SPD(a, b, net1):\n",
    "    mintree = Dijkstra(a, net1)\n",
    "    out = mintree[mintree['D'] == b]\n",
    "    \n",
    "    while True:\n",
    "        if out['O'].iloc[0] == a:\n",
    "            break\n",
    "        \n",
    "        added = mintree[mintree['D'] == out['O'].iloc[0]]\n",
    "        out = pd.concat([added, out], ignore_index = True)\n",
    "        #print(out)\n",
    "    \n",
    "    return out"
   ]
  },
  {
   "cell_type": "code",
   "execution_count": 32,
   "id": "dc4429a9-7104-4e97-88e3-fef2ea60b9d1",
   "metadata": {
    "execution": {
     "iopub.execute_input": "2022-06-08T11:05:32.896753Z",
     "iopub.status.busy": "2022-06-08T11:05:32.896753Z",
     "iopub.status.idle": "2022-06-08T11:05:32.931659Z",
     "shell.execute_reply": "2022-06-08T11:05:32.931659Z",
     "shell.execute_reply.started": "2022-06-08T11:05:32.896753Z"
    },
    "tags": []
   },
   "outputs": [
    {
     "data": {
      "text/html": [
       "<div>\n",
       "<style scoped>\n",
       "    .dataframe tbody tr th:only-of-type {\n",
       "        vertical-align: middle;\n",
       "    }\n",
       "\n",
       "    .dataframe tbody tr th {\n",
       "        vertical-align: top;\n",
       "    }\n",
       "\n",
       "    .dataframe thead th {\n",
       "        text-align: right;\n",
       "    }\n",
       "</style>\n",
       "<table border=\"1\" class=\"dataframe\">\n",
       "  <thead>\n",
       "    <tr style=\"text-align: right;\">\n",
       "      <th></th>\n",
       "      <th>O</th>\n",
       "      <th>D</th>\n",
       "      <th>SP</th>\n",
       "    </tr>\n",
       "  </thead>\n",
       "  <tbody>\n",
       "    <tr>\n",
       "      <th>0</th>\n",
       "      <td>0</td>\n",
       "      <td>4</td>\n",
       "      <td>0</td>\n",
       "    </tr>\n",
       "    <tr>\n",
       "      <th>1</th>\n",
       "      <td>0</td>\n",
       "      <td>1</td>\n",
       "      <td>999</td>\n",
       "    </tr>\n",
       "    <tr>\n",
       "      <th>2</th>\n",
       "      <td>0</td>\n",
       "      <td>3</td>\n",
       "      <td>999</td>\n",
       "    </tr>\n",
       "  </tbody>\n",
       "</table>\n",
       "</div>"
      ],
      "text/plain": [
       "   O  D   SP\n",
       "0  0  4    0\n",
       "1  0  1  999\n",
       "2  0  3  999"
      ]
     },
     "execution_count": 32,
     "metadata": {},
     "output_type": "execute_result"
    }
   ],
   "source": [
    "Dijkstra(4, net1)"
   ]
  }
 ],
 "metadata": {
  "kernelspec": {
   "display_name": "Python 3",
   "language": "python",
   "name": "python3"
  },
  "language_info": {
   "codemirror_mode": {
    "name": "ipython",
    "version": 3
   },
   "file_extension": ".py",
   "mimetype": "text/x-python",
   "name": "python",
   "nbconvert_exporter": "python",
   "pygments_lexer": "ipython3",
   "version": "3.8.8"
  }
 },
 "nbformat": 4,
 "nbformat_minor": 5
}
