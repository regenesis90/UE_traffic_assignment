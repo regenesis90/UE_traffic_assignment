{
 "cells": [
  {
   "cell_type": "markdown",
   "id": "41f77bc4-d658-43fb-8f14-8be0ae53b4e0",
   "metadata": {},
   "source": [
    "# Imports"
   ]
  },
  {
   "cell_type": "code",
   "execution_count": 1,
   "id": "67225ffa-8fba-430f-9ab2-98c847df5e4e",
   "metadata": {
    "execution": {
     "iopub.execute_input": "2022-06-08T06:19:51.471638Z",
     "iopub.status.busy": "2022-06-08T06:19:51.471638Z",
     "iopub.status.idle": "2022-06-08T06:19:52.216771Z",
     "shell.execute_reply": "2022-06-08T06:19:52.216771Z",
     "shell.execute_reply.started": "2022-06-08T06:19:51.471638Z"
    },
    "tags": []
   },
   "outputs": [],
   "source": [
    "import pandas as pd\n",
    "import numpy as np\n",
    "\n",
    "import os\n",
    "from tqdm import tqdm\n",
    "\n",
    "from sympy import Symbol, solve # 방정식 해 구하기\n",
    "\n",
    "from datetime import datetime"
   ]
  },
  {
   "cell_type": "markdown",
   "id": "f25e5fd3-42dd-4431-985d-4d9654169a9f",
   "metadata": {},
   "source": [
    "# Define Functions\n",
    "* 필요 함수 정의"
   ]
  },
  {
   "cell_type": "code",
   "execution_count": 2,
   "id": "7523ba71-a37b-41f6-a467-571664ec6d77",
   "metadata": {
    "execution": {
     "iopub.execute_input": "2022-06-08T06:19:52.216771Z",
     "iopub.status.busy": "2022-06-08T06:19:52.216771Z",
     "iopub.status.idle": "2022-06-08T06:19:52.232982Z",
     "shell.execute_reply": "2022-06-08T06:19:52.231984Z",
     "shell.execute_reply.started": "2022-06-08T06:19:52.216771Z"
    },
    "tags": []
   },
   "outputs": [],
   "source": [
    "def preprocessing(network):\n",
    "    \"\"\"네트워크 객체의 컬럼 이름 및 순서를 정리해줌\n",
    "    - O, D, FFT, alpha, Capacity, beta, Length 등 만 남기고 나머지는 지운다.\n",
    "    \"\"\"\n",
    "    net = pd.DataFrame({\n",
    "        'O' : network['Init node '],\n",
    "        'D' : network['Term node '],\n",
    "        'FFT' : network['Free Flow Time '],\n",
    "        'Power' : network['Power'],\n",
    "        'Capacity' : network['Capacity '],\n",
    "        'B' : network['B'].round(2),\n",
    "        'Length' : network['Length '],\n",
    "        #'Toll' : network['Toll '],\n",
    "        'Link_num' : [i for i in range(1, len(network)+1)],\n",
    "        'x_n' : 0,\n",
    "        'y_n' : 0,\n",
    "        'Direction' : 0,\n",
    "        'x_n1' : 0,\n",
    "        'Cost' : 0\n",
    "    })\n",
    "   \n",
    "    net = net.sort_values(by = ['O', 'D']) # net1 데이터프레임을 O, D에 대하여 오름차순 정렬\n",
    "    net.set_index('Link_num', drop = False, inplace = True)# 링크 번호로 네트워크 각 링크의 인덱스를 지정\n",
    "    \n",
    "    return net"
   ]
  },
  {
   "cell_type": "code",
   "execution_count": 3,
   "id": "30fb3573-0a09-40ec-880a-bca3e8658915",
   "metadata": {
    "execution": {
     "iopub.execute_input": "2022-06-08T06:19:52.235974Z",
     "iopub.status.busy": "2022-06-08T06:19:52.234977Z",
     "iopub.status.idle": "2022-06-08T06:19:52.248964Z",
     "shell.execute_reply": "2022-06-08T06:19:52.247968Z",
     "shell.execute_reply.started": "2022-06-08T06:19:52.235974Z"
    },
    "tags": []
   },
   "outputs": [],
   "source": [
    "# net_cost.info()\n",
    "# 데이터 축소 :: int64 -> int16, float64 -> float16으로 바꾸어 데이터 크기를 단축해 준다.\n",
    "\n",
    "def type_change(network):\n",
    "    \"\"\"net_cost네트워크의 변수들 타입을 int16, float16으로 변화시켜 데이터 메모리 절감\"\"\"\n",
    "    network[['O', 'D', 'FFT', 'Power', 'Length', 'Link_num']] = network[['O', 'D', 'FFT', 'Power', 'Length', 'Link_num']].astype(np.int16)\n",
    "    network[['Capacity', 'B', 'x_n', 'y_n', 'Direction', 'x_n1', 'Cost']] = network[['Capacity', 'B', 'x_n', 'y_n', 'Direction', 'x_n1', 'Cost']].astype(np.float16)\n",
    "\n",
    "    return network"
   ]
  },
  {
   "cell_type": "code",
   "execution_count": 4,
   "id": "d021d4ab-67cf-4405-8ed0-02af95dabb14",
   "metadata": {
    "execution": {
     "iopub.execute_input": "2022-06-08T06:19:52.249970Z",
     "iopub.status.busy": "2022-06-08T06:19:52.249970Z",
     "iopub.status.idle": "2022-06-08T06:19:52.263131Z",
     "shell.execute_reply": "2022-06-08T06:19:52.263131Z",
     "shell.execute_reply.started": "2022-06-08T06:19:52.249970Z"
    },
    "tags": []
   },
   "outputs": [],
   "source": [
    "def node_range(network):\n",
    "    \"\"\"Sioux-Falls Network의 각 기점(Origin)에서 출발하는 링크 번호의 범위를 데이터프레임에 저장하는 함수\"\"\"\n",
    "    origin_nodes = network['O'].unique()\n",
    "    start_list = []\n",
    "    end_list = []\n",
    "    \n",
    "    for origin in origin_nodes:\n",
    "        link_list = network[network['O'] == origin]['Link_num'] # 기점이 origin인 모든 링크 번호 리스트 추출\n",
    "        link_list.sort_values() # 기점 origin에 연결된 링크 번호들을 오름차순으로 정렬\n",
    "        \n",
    "        start = link_list.iloc[0] # 링크 리스트의 첫번째 링크(가장 먼저 번호 링크)\n",
    "        end = link_list.iloc[-1] # 링크 리스트의 마지막 링크(가장 마지막 번호 링크)\n",
    "        \n",
    "        start_list.append(start)\n",
    "        end_list.append(end)\n",
    "        \n",
    "    node_link_df = pd.DataFrame({\n",
    "        'origin' : origin_nodes,\n",
    "        'start_link' : start_list,\n",
    "        'end_link' : end_list\n",
    "    })\n",
    "    \n",
    "    node_link_df.set_index('origin', drop = False, inplace = True)# 링크 번호로 네트워크 각 링크의 인덱스를 지정\n",
    "    \n",
    "    return node_link_df"
   ]
  },
  {
   "cell_type": "code",
   "execution_count": 5,
   "id": "21e0527a-c56e-4fd4-8a39-9ba3c1d9bb54",
   "metadata": {
    "execution": {
     "iopub.execute_input": "2022-06-08T06:19:52.264129Z",
     "iopub.status.busy": "2022-06-08T06:19:52.264129Z",
     "iopub.status.idle": "2022-06-08T06:19:52.278116Z",
     "shell.execute_reply": "2022-06-08T06:19:52.278116Z",
     "shell.execute_reply.started": "2022-06-08T06:19:52.264129Z"
    },
    "tags": []
   },
   "outputs": [],
   "source": [
    "def calculate_initial_cost(network):\n",
    "    \"\"\"\n",
    "    BPR 함수를 사용하여 링크 통행비용을 계산하는 함수.\n",
    "    최초 비용을 계산해주므로, Cost 자리에 Free Flow Time을 적용해야 한다.\n",
    "    :: 필요 변수 :: FFT, Power, B, X0, Capacity, Length, Toll\n",
    "    :: BPR 함수 :: Cost = Free Flow Time * (1 + (B * (X_n / Capacity))**Power)\n",
    "    \"\"\"\n",
    "    network['Cost'] = network['FFT'] * (1 + network['B'] * ((network['x_n'] / network['Capacity'])**network['Power'])) #+ (net1['Length'] * net1['Toll'])\n",
    "    \n",
    "    return network"
   ]
  },
  {
   "cell_type": "code",
   "execution_count": 6,
   "id": "f2494848-d5a9-42c4-b881-d18f933314a8",
   "metadata": {
    "execution": {
     "iopub.execute_input": "2022-06-08T06:19:52.279089Z",
     "iopub.status.busy": "2022-06-08T06:19:52.279089Z",
     "iopub.status.idle": "2022-06-08T06:19:52.294049Z",
     "shell.execute_reply": "2022-06-08T06:19:52.294049Z",
     "shell.execute_reply.started": "2022-06-08T06:19:52.279089Z"
    }
   },
   "outputs": [],
   "source": [
    "def calculate_iterative_cost(network):\n",
    "    \"\"\"\n",
    "    BPR 함수를 사용하여 Iteration을 돌면서 링크 통행비용을 계산하는 함수. \n",
    "    매 iteration마다 갱신되는 x_n 등을 이용하므로, 매 iteration마다 다시 계산해주어야 한다.\n",
    "    :: 필요 변수 :: FFT, Power, B, X0, Capacity, Length, Toll\n",
    "    :: BPR 함수 :: Cost1 = Cost * (1 + (B * (X_n / Capacity))**Power)\n",
    "    \"\"\"\n",
    "    network['Cost'] = network['Cost'] * (1 + network['B'] * ((network['x_n'] / network['Capacity'])**network['Power'])) #+ (net1['Length'] * net1['Toll'])\n",
    "    \n",
    "    return network"
   ]
  },
  {
   "cell_type": "code",
   "execution_count": 7,
   "id": "1bd4ecf9-d766-4759-864a-47ff4459f121",
   "metadata": {
    "execution": {
     "iopub.execute_input": "2022-06-08T06:19:52.295046Z",
     "iopub.status.busy": "2022-06-08T06:19:52.295046Z",
     "iopub.status.idle": "2022-06-08T06:19:52.310032Z",
     "shell.execute_reply": "2022-06-08T06:19:52.310032Z",
     "shell.execute_reply.started": "2022-06-08T06:19:52.295046Z"
    },
    "tags": []
   },
   "outputs": [],
   "source": [
    "def tree_Dijkstra(origin, network):\n",
    "    \"\"\"Dijkstra 방법을 이용해 Shortest Path를 구하기 위한 경로 트리를 구해주는 과정.\n",
    "    이때 network는 반드시 cost 컬럼을 포함하고 있어야 합니다.\"\"\"\n",
    "    \n",
    "    SP_df = pd.DataFrame({\n",
    "        'To' : network['O'].unique(),\n",
    "        'From' : 0,\n",
    "        'C1' : 999,\n",
    "        'Fin' : 0\n",
    "    })\n",
    "    \n",
    "    SP_df.loc[SP_df['To'] == origin, 'C1'] = 0 # 'To' 열 값이 origin과 같은 행의 C1 열 값을 0으로 치환하기\n",
    "    SP_df = SP_df.sort_values(by = ['C1', 'To']).reset_index(drop = True) # cost_df 를 C1과 To값에 따라서 정렬하기\n",
    "    \n",
    "    node_link = node_range(network) # 각 origin을 기점으로 하는 링크번호 범위 데이터프레임\n",
    "    \n",
    "    while True:\n",
    "        if sum(SP_df['Fin']) == len(SP_df):\n",
    "            break\n",
    "\n",
    "        a = SP_df.loc[0, 'To'] # cost_df의 1행 1열 데이터\n",
    "        ac = SP_df.loc[0, 'C1'] # cost_df의 1행 3열 데이터\n",
    "        \n",
    "        SP_df.loc[0, 'Fin'] = 1\n",
    "        SP_df = SP_df.sort_values(by = ['To']).reset_index(drop = True)\n",
    "            \n",
    "        # DN : Dijkstra next updating node, D : Dijkstra iteration term\n",
    "        node_a = node_link[node_link['origin'] == a] # node_range의 링크 중, origin이 a인 행만 추출\n",
    "        start_link_a = node_a['start_link'].iloc[0] # origin a에 연결된 link들 중 첫번째 번호\n",
    "        end_link_a = node_a['end_link'].iloc[0] # origin a에 연결된 link들 중 마지막 번호\n",
    "            \n",
    "        DN = network[(network['Link_num'] >= start_link_a) & (network['Link_num'] <= end_link_a)]\n",
    "        \n",
    "        DN = DN[['D', 'Cost']]\n",
    "        DN.rename(columns = {'D' : 'To', 'Cost' : 'C'}, inplace = True)\n",
    "            \n",
    "        SP_df = pd.merge(SP_df, DN, on = ['To'], how = 'left') \n",
    "            \n",
    "        SP_df = SP_df.fillna(999) # SP_df의 C 값 중 값이 없어 NaN인 값들을 999로 채우기\n",
    "        #SP_df = SP_df.sort_values(by = 'To').reset_index(drop = True)\n",
    "            \n",
    "        upset = list(SP_df[SP_df['C1'] > (SP_df['C'] + ac)]['To']) ######### 진짜 여기서 죽는줄알았음 헛갈림 주의\n",
    "        \n",
    "        #print(upset)\n",
    "        #print(Pk)\n",
    "            \n",
    "        if len(upset) > 0:\n",
    "            SP_df.loc[SP_df['To'].isin(upset), 'Fin'] = 0\n",
    "            SP_df.loc[SP_df['To'].isin(upset), 'C1'] = SP_df.loc[SP_df['To'].isin(upset), 'C'] + ac\n",
    "            SP_df.loc[SP_df['To'].isin(upset), 'From'] = a\n",
    "            \n",
    "        SP_df = SP_df.iloc[:, 0:-1]\n",
    "        SP_df = SP_df.sort_values(by = ['Fin', 'C1', 'To']).reset_index(drop = True)\n",
    "    \n",
    "    SP_output = pd.DataFrame({\n",
    "        'O' : SP_df['From'],\n",
    "        'D' : SP_df['To'],\n",
    "        'SP' : SP_df['C1']\n",
    "    })\n",
    "    \n",
    "    SP_output = SP_output.sort_values(by = 'SP').reset_index(drop = True)\n",
    "    \n",
    "    return SP_output"
   ]
  },
  {
   "cell_type": "code",
   "execution_count": 8,
   "id": "3c74a1f9-2286-46e6-99c1-bbf3373ab8a4",
   "metadata": {
    "execution": {
     "iopub.execute_input": "2022-06-08T06:19:52.311006Z",
     "iopub.status.busy": "2022-06-08T06:19:52.311006Z",
     "iopub.status.idle": "2022-06-08T06:19:52.326987Z",
     "shell.execute_reply": "2022-06-08T06:19:52.325967Z",
     "shell.execute_reply.started": "2022-06-08T06:19:52.311006Z"
    },
    "tags": []
   },
   "outputs": [],
   "source": [
    "def SPD_Dijkstra(origin, destination, network):\n",
    "    \"\"\"주어진 네트워크 및 비용(SP)을 바탕으로,\n",
    "    origin >> destination으로 향하는 최단 경로를 구해주는 함수.\n",
    "    network 데이터프레임은 반드시 cost 열을 포함하고 있어야 합니다.\"\"\"\n",
    "    \n",
    "    mintree = tree_Dijkstra(origin, network)\n",
    "    OD_SP = mintree[mintree['D'] == destination]\n",
    "    \n",
    "    while True:\n",
    "        if OD_SP['O'].iloc[0] == origin:\n",
    "            break\n",
    "        \n",
    "        added = mintree[mintree['D'] == OD_SP['O'].iloc[0]]\n",
    "        OD_SP = pd.concat([added, OD_SP], ignore_index = True)\n",
    "        \n",
    "    # 각 O-D에 Node Link 붙이기 : network의 Link_num 이용\n",
    "    OD_SP = pd.merge(OD_SP, network, on = ['O', 'D'], how = 'left')\n",
    "    OD_SP = OD_SP[['O', 'D', 'SP', 'Link_num']]\n",
    "    OD_SP.set_index('Link_num', drop = False, inplace = True)# 링크 번호로 네트워크 각 링크의 인덱스를 지정\n",
    "        \n",
    "    return OD_SP"
   ]
  },
  {
   "cell_type": "code",
   "execution_count": 9,
   "id": "781f2a11-0bab-4df9-b3f5-94f5981ef2f6",
   "metadata": {
    "execution": {
     "iopub.execute_input": "2022-06-08T06:19:52.327985Z",
     "iopub.status.busy": "2022-06-08T06:19:52.327985Z",
     "iopub.status.idle": "2022-06-08T06:19:52.341922Z",
     "shell.execute_reply": "2022-06-08T06:19:52.341922Z",
     "shell.execute_reply.started": "2022-06-08T06:19:52.327985Z"
    },
    "tags": []
   },
   "outputs": [],
   "source": [
    "def find_alpha(alpha_list):\n",
    "    \"\"\"Alpha 값들 중 0 이상 1 이하 실수값만을 반환\"\"\"\n",
    "    for alpha in alpha_list:\n",
    "        if alpha.is_real == True:\n",
    "            if alpha <= 1 and alpha >= 0:\n",
    "                #print(alpha)\n",
    "                return alpha\n",
    "            else:\n",
    "                pass\n",
    "        else:\n",
    "            pass"
   ]
  },
  {
   "cell_type": "code",
   "execution_count": 10,
   "id": "2f5d4512-04f2-4fad-a18e-22139cc423a6",
   "metadata": {
    "execution": {
     "iopub.execute_input": "2022-06-08T06:19:52.342918Z",
     "iopub.status.busy": "2022-06-08T06:19:52.342918Z",
     "iopub.status.idle": "2022-06-08T06:19:52.358877Z",
     "shell.execute_reply": "2022-06-08T06:19:52.357882Z",
     "shell.execute_reply.started": "2022-06-08T06:19:52.342918Z"
    },
    "tags": []
   },
   "outputs": [],
   "source": [
    "def convergence_test(network):\n",
    "    \"\"\"네트워크에 대한 convergence test를 실행하는 함수.\n",
    "    :: network :: 네트워크 데이터프레임. x_n, x_n1, Cost 열을 포함하고 있어야 함\n",
    "    :: k :: 수렴 기준. 0.000001 정도로 잡아 본다.\"\"\"\n",
    "    sum_xn = sum(network['x_n']) # 분모\n",
    "    sum_varx = sum((network['x_n1'] - network['x_n']) ** 2) # 분자\n",
    "    \n",
    "    criterion = sum_varx / sum_xn\n",
    "        \n",
    "    return criterion"
   ]
  },
  {
   "cell_type": "markdown",
   "id": "2a359315-d132-4d9d-8a73-a56df462a52e",
   "metadata": {},
   "source": [
    "# Data settings"
   ]
  },
  {
   "cell_type": "code",
   "execution_count": 11,
   "id": "f04f8fbc-38df-4a29-bf89-0910bcb03fd7",
   "metadata": {
    "execution": {
     "iopub.execute_input": "2022-06-08T06:19:52.358877Z",
     "iopub.status.busy": "2022-06-08T06:19:52.358877Z",
     "iopub.status.idle": "2022-06-08T06:19:52.373698Z",
     "shell.execute_reply": "2022-06-08T06:19:52.373698Z",
     "shell.execute_reply.started": "2022-06-08T06:19:52.358877Z"
    },
    "tags": []
   },
   "outputs": [],
   "source": [
    "data_dir = 'dataset'"
   ]
  },
  {
   "cell_type": "code",
   "execution_count": 12,
   "id": "3bb41478-5528-497c-892a-afa485f8f1b0",
   "metadata": {
    "execution": {
     "iopub.execute_input": "2022-06-08T06:19:52.374666Z",
     "iopub.status.busy": "2022-06-08T06:19:52.374666Z",
     "iopub.status.idle": "2022-06-08T06:19:52.389624Z",
     "shell.execute_reply": "2022-06-08T06:19:52.389624Z",
     "shell.execute_reply.started": "2022-06-08T06:19:52.374666Z"
    },
    "tags": []
   },
   "outputs": [],
   "source": [
    "network_file = 'Network.csv'\n",
    "network_path = os.path.join(data_dir, network_file)"
   ]
  },
  {
   "cell_type": "code",
   "execution_count": 13,
   "id": "db258224-b580-4a26-894d-5df1d337b740",
   "metadata": {
    "execution": {
     "iopub.execute_input": "2022-06-08T06:19:52.392623Z",
     "iopub.status.busy": "2022-06-08T06:19:52.392623Z",
     "iopub.status.idle": "2022-06-08T06:19:52.412565Z",
     "shell.execute_reply": "2022-06-08T06:19:52.407577Z",
     "shell.execute_reply.started": "2022-06-08T06:19:52.392623Z"
    },
    "tags": []
   },
   "outputs": [],
   "source": [
    "OD_file = 'Sioux_Falls_OD_mini.csv'\n",
    "OD_path = os.path.join(data_dir, OD_file)"
   ]
  },
  {
   "cell_type": "code",
   "execution_count": 14,
   "id": "9d2cce68-7472-47c9-b3e1-8973bf36e193",
   "metadata": {
    "execution": {
     "iopub.execute_input": "2022-06-08T06:19:52.416553Z",
     "iopub.status.busy": "2022-06-08T06:19:52.414562Z",
     "iopub.status.idle": "2022-06-08T06:19:52.437276Z",
     "shell.execute_reply": "2022-06-08T06:19:52.437276Z",
     "shell.execute_reply.started": "2022-06-08T06:19:52.416553Z"
    },
    "tags": []
   },
   "outputs": [],
   "source": [
    "network = pd.read_csv(network_path, encoding = 'UTF-8')"
   ]
  },
  {
   "cell_type": "code",
   "execution_count": 15,
   "id": "0d365954-6330-48a5-a0ac-e48aa2c2f908",
   "metadata": {
    "execution": {
     "iopub.execute_input": "2022-06-08T06:19:52.438245Z",
     "iopub.status.busy": "2022-06-08T06:19:52.438245Z",
     "iopub.status.idle": "2022-06-08T06:19:52.454203Z",
     "shell.execute_reply": "2022-06-08T06:19:52.453205Z",
     "shell.execute_reply.started": "2022-06-08T06:19:52.438245Z"
    },
    "tags": []
   },
   "outputs": [],
   "source": [
    "OD = pd.read_csv(OD_path, encoding = 'UTF-8')"
   ]
  },
  {
   "cell_type": "code",
   "execution_count": 16,
   "id": "b58d8ead-75ea-463b-b545-8ca68e89dda8",
   "metadata": {
    "execution": {
     "iopub.execute_input": "2022-06-08T06:19:52.455202Z",
     "iopub.status.busy": "2022-06-08T06:19:52.454203Z",
     "iopub.status.idle": "2022-06-08T06:19:52.486117Z",
     "shell.execute_reply": "2022-06-08T06:19:52.485121Z",
     "shell.execute_reply.started": "2022-06-08T06:19:52.454203Z"
    },
    "tags": []
   },
   "outputs": [
    {
     "data": {
      "text/html": [
       "<div>\n",
       "<style scoped>\n",
       "    .dataframe tbody tr th:only-of-type {\n",
       "        vertical-align: middle;\n",
       "    }\n",
       "\n",
       "    .dataframe tbody tr th {\n",
       "        vertical-align: top;\n",
       "    }\n",
       "\n",
       "    .dataframe thead th {\n",
       "        text-align: right;\n",
       "    }\n",
       "</style>\n",
       "<table border=\"1\" class=\"dataframe\">\n",
       "  <thead>\n",
       "    <tr style=\"text-align: right;\">\n",
       "      <th></th>\n",
       "      <th>Init node</th>\n",
       "      <th>Term node</th>\n",
       "      <th>Free Flow Time</th>\n",
       "      <th>Capacity</th>\n",
       "      <th>Length</th>\n",
       "      <th>B</th>\n",
       "      <th>Power</th>\n",
       "      <th>Speed.limit</th>\n",
       "      <th>Toll1</th>\n",
       "      <th>Toll2</th>\n",
       "      <th>Type</th>\n",
       "    </tr>\n",
       "  </thead>\n",
       "  <tbody>\n",
       "    <tr>\n",
       "      <th>0</th>\n",
       "      <td>1</td>\n",
       "      <td>2</td>\n",
       "      <td>6</td>\n",
       "      <td>25900.200640</td>\n",
       "      <td>6</td>\n",
       "      <td>0.15</td>\n",
       "      <td>4</td>\n",
       "      <td>0</td>\n",
       "      <td>0</td>\n",
       "      <td>0</td>\n",
       "      <td>1</td>\n",
       "    </tr>\n",
       "    <tr>\n",
       "      <th>1</th>\n",
       "      <td>1</td>\n",
       "      <td>3</td>\n",
       "      <td>4</td>\n",
       "      <td>23403.473190</td>\n",
       "      <td>4</td>\n",
       "      <td>0.15</td>\n",
       "      <td>4</td>\n",
       "      <td>0</td>\n",
       "      <td>0</td>\n",
       "      <td>0</td>\n",
       "      <td>1</td>\n",
       "    </tr>\n",
       "    <tr>\n",
       "      <th>2</th>\n",
       "      <td>2</td>\n",
       "      <td>1</td>\n",
       "      <td>6</td>\n",
       "      <td>25900.200640</td>\n",
       "      <td>6</td>\n",
       "      <td>0.15</td>\n",
       "      <td>4</td>\n",
       "      <td>0</td>\n",
       "      <td>0</td>\n",
       "      <td>0</td>\n",
       "      <td>1</td>\n",
       "    </tr>\n",
       "    <tr>\n",
       "      <th>3</th>\n",
       "      <td>2</td>\n",
       "      <td>6</td>\n",
       "      <td>5</td>\n",
       "      <td>4958.180928</td>\n",
       "      <td>5</td>\n",
       "      <td>0.15</td>\n",
       "      <td>4</td>\n",
       "      <td>0</td>\n",
       "      <td>0</td>\n",
       "      <td>0</td>\n",
       "      <td>1</td>\n",
       "    </tr>\n",
       "    <tr>\n",
       "      <th>4</th>\n",
       "      <td>3</td>\n",
       "      <td>1</td>\n",
       "      <td>4</td>\n",
       "      <td>23403.473190</td>\n",
       "      <td>4</td>\n",
       "      <td>0.15</td>\n",
       "      <td>4</td>\n",
       "      <td>0</td>\n",
       "      <td>0</td>\n",
       "      <td>0</td>\n",
       "      <td>1</td>\n",
       "    </tr>\n",
       "    <tr>\n",
       "      <th>...</th>\n",
       "      <td>...</td>\n",
       "      <td>...</td>\n",
       "      <td>...</td>\n",
       "      <td>...</td>\n",
       "      <td>...</td>\n",
       "      <td>...</td>\n",
       "      <td>...</td>\n",
       "      <td>...</td>\n",
       "      <td>...</td>\n",
       "      <td>...</td>\n",
       "      <td>...</td>\n",
       "    </tr>\n",
       "    <tr>\n",
       "      <th>71</th>\n",
       "      <td>23</td>\n",
       "      <td>22</td>\n",
       "      <td>4</td>\n",
       "      <td>5000.000000</td>\n",
       "      <td>4</td>\n",
       "      <td>0.25</td>\n",
       "      <td>2</td>\n",
       "      <td>0</td>\n",
       "      <td>0</td>\n",
       "      <td>0</td>\n",
       "      <td>1</td>\n",
       "    </tr>\n",
       "    <tr>\n",
       "      <th>72</th>\n",
       "      <td>23</td>\n",
       "      <td>24</td>\n",
       "      <td>2</td>\n",
       "      <td>5078.508436</td>\n",
       "      <td>2</td>\n",
       "      <td>0.25</td>\n",
       "      <td>2</td>\n",
       "      <td>0</td>\n",
       "      <td>0</td>\n",
       "      <td>0</td>\n",
       "      <td>1</td>\n",
       "    </tr>\n",
       "    <tr>\n",
       "      <th>73</th>\n",
       "      <td>24</td>\n",
       "      <td>13</td>\n",
       "      <td>4</td>\n",
       "      <td>5091.256152</td>\n",
       "      <td>4</td>\n",
       "      <td>0.25</td>\n",
       "      <td>2</td>\n",
       "      <td>0</td>\n",
       "      <td>0</td>\n",
       "      <td>0</td>\n",
       "      <td>1</td>\n",
       "    </tr>\n",
       "    <tr>\n",
       "      <th>74</th>\n",
       "      <td>24</td>\n",
       "      <td>21</td>\n",
       "      <td>3</td>\n",
       "      <td>4885.357564</td>\n",
       "      <td>3</td>\n",
       "      <td>0.25</td>\n",
       "      <td>2</td>\n",
       "      <td>0</td>\n",
       "      <td>0</td>\n",
       "      <td>0</td>\n",
       "      <td>1</td>\n",
       "    </tr>\n",
       "    <tr>\n",
       "      <th>75</th>\n",
       "      <td>24</td>\n",
       "      <td>23</td>\n",
       "      <td>2</td>\n",
       "      <td>5078.508436</td>\n",
       "      <td>2</td>\n",
       "      <td>0.25</td>\n",
       "      <td>2</td>\n",
       "      <td>0</td>\n",
       "      <td>0</td>\n",
       "      <td>0</td>\n",
       "      <td>1</td>\n",
       "    </tr>\n",
       "  </tbody>\n",
       "</table>\n",
       "<p>76 rows × 11 columns</p>\n",
       "</div>"
      ],
      "text/plain": [
       "    Init node   Term node   Free Flow Time      Capacity   Length      B  \\\n",
       "0            1           2                6  25900.200640        6  0.15   \n",
       "1            1           3                4  23403.473190        4  0.15   \n",
       "2            2           1                6  25900.200640        6  0.15   \n",
       "3            2           6                5   4958.180928        5  0.15   \n",
       "4            3           1                4  23403.473190        4  0.15   \n",
       "..         ...         ...              ...           ...      ...   ...   \n",
       "71          23          22                4   5000.000000        4  0.25   \n",
       "72          23          24                2   5078.508436        2  0.25   \n",
       "73          24          13                4   5091.256152        4  0.25   \n",
       "74          24          21                3   4885.357564        3  0.25   \n",
       "75          24          23                2   5078.508436        2  0.25   \n",
       "\n",
       "    Power  Speed.limit  Toll1  Toll2  Type  \n",
       "0       4            0      0      0     1  \n",
       "1       4            0      0      0     1  \n",
       "2       4            0      0      0     1  \n",
       "3       4            0      0      0     1  \n",
       "4       4            0      0      0     1  \n",
       "..    ...          ...    ...    ...   ...  \n",
       "71      2            0      0      0     1  \n",
       "72      2            0      0      0     1  \n",
       "73      2            0      0      0     1  \n",
       "74      2            0      0      0     1  \n",
       "75      2            0      0      0     1  \n",
       "\n",
       "[76 rows x 11 columns]"
      ]
     },
     "execution_count": 16,
     "metadata": {},
     "output_type": "execute_result"
    }
   ],
   "source": [
    "network"
   ]
  },
  {
   "cell_type": "markdown",
   "id": "831a3bfc-dc76-4c97-891d-91d880c065ee",
   "metadata": {},
   "source": [
    "# Initialization\n",
    "* **`N = 0`**\n",
    "* 초기 비용 계산 : $x_0$ = 0 (모든 링크의 통행량 = 0)인 상태에서 비용 계산\n",
    "* 초기 배정 : All-or-Nothing 방식으로 통행 배정, $x_1$ 획득"
   ]
  },
  {
   "cell_type": "markdown",
   "id": "4289ac23-2d98-477a-a98d-1e9282524898",
   "metadata": {},
   "source": [
    "## Data Ready"
   ]
  },
  {
   "cell_type": "code",
   "execution_count": 17,
   "id": "3ff0573f-b4e8-4fb4-81b5-e3ab3ddaa10d",
   "metadata": {
    "execution": {
     "iopub.execute_input": "2022-06-08T06:19:52.486117Z",
     "iopub.status.busy": "2022-06-08T06:19:52.486117Z",
     "iopub.status.idle": "2022-06-08T06:19:52.501077Z",
     "shell.execute_reply": "2022-06-08T06:19:52.501077Z",
     "shell.execute_reply.started": "2022-06-08T06:19:52.486117Z"
    },
    "tags": []
   },
   "outputs": [],
   "source": [
    "net1 = preprocessing(network)"
   ]
  },
  {
   "cell_type": "code",
   "execution_count": 18,
   "id": "b08890ca-91f4-4db7-b01a-55ceecd0c732",
   "metadata": {
    "execution": {
     "iopub.execute_input": "2022-06-08T06:19:52.502074Z",
     "iopub.status.busy": "2022-06-08T06:19:52.502074Z",
     "iopub.status.idle": "2022-06-08T06:19:52.518031Z",
     "shell.execute_reply": "2022-06-08T06:19:52.517035Z",
     "shell.execute_reply.started": "2022-06-08T06:19:52.502074Z"
    },
    "tags": []
   },
   "outputs": [
    {
     "data": {
      "text/html": [
       "<div>\n",
       "<style scoped>\n",
       "    .dataframe tbody tr th:only-of-type {\n",
       "        vertical-align: middle;\n",
       "    }\n",
       "\n",
       "    .dataframe tbody tr th {\n",
       "        vertical-align: top;\n",
       "    }\n",
       "\n",
       "    .dataframe thead th {\n",
       "        text-align: right;\n",
       "    }\n",
       "</style>\n",
       "<table border=\"1\" class=\"dataframe\">\n",
       "  <thead>\n",
       "    <tr style=\"text-align: right;\">\n",
       "      <th></th>\n",
       "      <th>O</th>\n",
       "      <th>D</th>\n",
       "      <th>FFT</th>\n",
       "      <th>Power</th>\n",
       "      <th>Capacity</th>\n",
       "      <th>B</th>\n",
       "      <th>Length</th>\n",
       "      <th>Link_num</th>\n",
       "      <th>x_n</th>\n",
       "      <th>y_n</th>\n",
       "      <th>Direction</th>\n",
       "      <th>x_n1</th>\n",
       "      <th>Cost</th>\n",
       "    </tr>\n",
       "    <tr>\n",
       "      <th>Link_num</th>\n",
       "      <th></th>\n",
       "      <th></th>\n",
       "      <th></th>\n",
       "      <th></th>\n",
       "      <th></th>\n",
       "      <th></th>\n",
       "      <th></th>\n",
       "      <th></th>\n",
       "      <th></th>\n",
       "      <th></th>\n",
       "      <th></th>\n",
       "      <th></th>\n",
       "      <th></th>\n",
       "    </tr>\n",
       "  </thead>\n",
       "  <tbody>\n",
       "    <tr>\n",
       "      <th>1</th>\n",
       "      <td>1</td>\n",
       "      <td>2</td>\n",
       "      <td>6</td>\n",
       "      <td>4</td>\n",
       "      <td>25900.200640</td>\n",
       "      <td>0.15</td>\n",
       "      <td>6</td>\n",
       "      <td>1</td>\n",
       "      <td>0</td>\n",
       "      <td>0</td>\n",
       "      <td>0</td>\n",
       "      <td>0</td>\n",
       "      <td>0</td>\n",
       "    </tr>\n",
       "    <tr>\n",
       "      <th>2</th>\n",
       "      <td>1</td>\n",
       "      <td>3</td>\n",
       "      <td>4</td>\n",
       "      <td>4</td>\n",
       "      <td>23403.473190</td>\n",
       "      <td>0.15</td>\n",
       "      <td>4</td>\n",
       "      <td>2</td>\n",
       "      <td>0</td>\n",
       "      <td>0</td>\n",
       "      <td>0</td>\n",
       "      <td>0</td>\n",
       "      <td>0</td>\n",
       "    </tr>\n",
       "    <tr>\n",
       "      <th>3</th>\n",
       "      <td>2</td>\n",
       "      <td>1</td>\n",
       "      <td>6</td>\n",
       "      <td>4</td>\n",
       "      <td>25900.200640</td>\n",
       "      <td>0.15</td>\n",
       "      <td>6</td>\n",
       "      <td>3</td>\n",
       "      <td>0</td>\n",
       "      <td>0</td>\n",
       "      <td>0</td>\n",
       "      <td>0</td>\n",
       "      <td>0</td>\n",
       "    </tr>\n",
       "    <tr>\n",
       "      <th>4</th>\n",
       "      <td>2</td>\n",
       "      <td>6</td>\n",
       "      <td>5</td>\n",
       "      <td>4</td>\n",
       "      <td>4958.180928</td>\n",
       "      <td>0.15</td>\n",
       "      <td>5</td>\n",
       "      <td>4</td>\n",
       "      <td>0</td>\n",
       "      <td>0</td>\n",
       "      <td>0</td>\n",
       "      <td>0</td>\n",
       "      <td>0</td>\n",
       "    </tr>\n",
       "    <tr>\n",
       "      <th>5</th>\n",
       "      <td>3</td>\n",
       "      <td>1</td>\n",
       "      <td>4</td>\n",
       "      <td>4</td>\n",
       "      <td>23403.473190</td>\n",
       "      <td>0.15</td>\n",
       "      <td>4</td>\n",
       "      <td>5</td>\n",
       "      <td>0</td>\n",
       "      <td>0</td>\n",
       "      <td>0</td>\n",
       "      <td>0</td>\n",
       "      <td>0</td>\n",
       "    </tr>\n",
       "  </tbody>\n",
       "</table>\n",
       "</div>"
      ],
      "text/plain": [
       "          O  D  FFT  Power      Capacity     B  Length  Link_num  x_n  y_n  \\\n",
       "Link_num                                                                     \n",
       "1         1  2    6      4  25900.200640  0.15       6         1    0    0   \n",
       "2         1  3    4      4  23403.473190  0.15       4         2    0    0   \n",
       "3         2  1    6      4  25900.200640  0.15       6         3    0    0   \n",
       "4         2  6    5      4   4958.180928  0.15       5         4    0    0   \n",
       "5         3  1    4      4  23403.473190  0.15       4         5    0    0   \n",
       "\n",
       "          Direction  x_n1  Cost  \n",
       "Link_num                         \n",
       "1                 0     0     0  \n",
       "2                 0     0     0  \n",
       "3                 0     0     0  \n",
       "4                 0     0     0  \n",
       "5                 0     0     0  "
      ]
     },
     "execution_count": 18,
     "metadata": {},
     "output_type": "execute_result"
    }
   ],
   "source": [
    "net1.head()"
   ]
  },
  {
   "cell_type": "markdown",
   "id": "c7a2aabd-e7cb-43df-a7bd-046346512aac",
   "metadata": {},
   "source": [
    "## 초기 비용 계산 : $t_a(x_a^0)$\n",
    "* $x_0$ = 0 (전부 0)임을 계산하여 Cost 계산"
   ]
  },
  {
   "cell_type": "code",
   "execution_count": 19,
   "id": "0ce531ac-8070-4ece-89f2-65bfb9a45a75",
   "metadata": {
    "execution": {
     "iopub.execute_input": "2022-06-08T06:19:52.519030Z",
     "iopub.status.busy": "2022-06-08T06:19:52.518031Z",
     "iopub.status.idle": "2022-06-08T06:19:52.548948Z",
     "shell.execute_reply": "2022-06-08T06:19:52.548948Z",
     "shell.execute_reply.started": "2022-06-08T06:19:52.519030Z"
    },
    "tags": []
   },
   "outputs": [],
   "source": [
    "net_cost = calculate_initial_cost(net1) # x0 "
   ]
  },
  {
   "cell_type": "markdown",
   "id": "09288287-7fa7-498d-8c48-2003410785e2",
   "metadata": {},
   "source": [
    "## $x_1$ 획득 : AON Assignment"
   ]
  },
  {
   "cell_type": "code",
   "execution_count": 20,
   "id": "cdc2b3a9-8c87-481f-b51c-fbe41ab81f68",
   "metadata": {
    "execution": {
     "iopub.execute_input": "2022-06-08T06:19:52.550953Z",
     "iopub.status.busy": "2022-06-08T06:19:52.549947Z",
     "iopub.status.idle": "2022-06-08T06:19:54.856265Z",
     "shell.execute_reply": "2022-06-08T06:19:54.856265Z",
     "shell.execute_reply.started": "2022-06-08T06:19:52.550953Z"
    },
    "tags": []
   },
   "outputs": [
    {
     "name": "stderr",
     "output_type": "stream",
     "text": [
      "  0%|                                                                                            | 0/4 [00:00<?, ?it/s]"
     ]
    },
    {
     "name": "stdout",
     "output_type": "stream",
     "text": [
      "(O, D) = (1, 2), Path Link_num list = [1], Add_volume = 200\n",
      "(O, D) = (1, 12), Path Link_num list = [2, 7], Add_volume = 400\n"
     ]
    },
    {
     "name": "stderr",
     "output_type": "stream",
     "text": [
      " 25%|█████████████████████                                                               | 1/4 [00:00<00:01,  1.60it/s]"
     ]
    },
    {
     "name": "stdout",
     "output_type": "stream",
     "text": [
      "(O, D) = (1, 16), Path Link_num list = [1, 4, 16, 22], Add_volume = 1000\n",
      "(O, D) = (2, 1), Path Link_num list = [3], Add_volume = 200\n"
     ]
    },
    {
     "name": "stderr",
     "output_type": "stream",
     "text": [
      " 50%|██████████████████████████████████████████                                          | 2/4 [00:01<00:01,  1.71it/s]"
     ]
    },
    {
     "name": "stdout",
     "output_type": "stream",
     "text": [
      "(O, D) = (2, 12), Path Link_num list = [3, 2, 7], Add_volume = 200\n",
      "(O, D) = (2, 16), Path Link_num list = [4, 16, 22], Add_volume = 800\n",
      "(O, D) = (12, 1), Path Link_num list = [35, 5], Add_volume = 400\n",
      "(O, D) = (12, 2), Path Link_num list = [35, 5, 1], Add_volume = 200\n"
     ]
    },
    {
     "name": "stderr",
     "output_type": "stream",
     "text": [
      " 75%|███████████████████████████████████████████████████████████████                     | 3/4 [00:01<00:00,  1.77it/s]"
     ]
    },
    {
     "name": "stdout",
     "output_type": "stream",
     "text": [
      "(O, D) = (12, 16), Path Link_num list = [36, 32, 29], Add_volume = 1400\n",
      "(O, D) = (16, 1), Path Link_num list = [47, 19, 14, 3], Add_volume = 1000\n"
     ]
    },
    {
     "name": "stderr",
     "output_type": "stream",
     "text": [
      "100%|████████████████████████████████████████████████████████████████████████████████████| 4/4 [00:02<00:00,  1.76it/s]"
     ]
    },
    {
     "name": "stdout",
     "output_type": "stream",
     "text": [
      "(O, D) = (16, 2), Path Link_num list = [47, 19, 14], Add_volume = 800\n",
      "(O, D) = (16, 12), Path Link_num list = [48, 27, 33], Add_volume = 1400\n"
     ]
    },
    {
     "name": "stderr",
     "output_type": "stream",
     "text": [
      "\n"
     ]
    }
   ],
   "source": [
    "# 각 OD별로 Dijkstra를 사용해 최단경로를 산출, \n",
    "# OD 테이블의 교통량(T)을 각 최단경로에 포함된 링크에 All-or-Nothing으로 배정하기\n",
    "\n",
    "origin_list = OD['O'].unique()\n",
    "\n",
    "for origin in tqdm(origin_list): # 각 Origin에 대하여\n",
    "\n",
    "    each_origin_OD = OD[OD['O'] == origin]\n",
    "    destination_list = each_origin_OD['D']\n",
    "    \n",
    "    for destination in destination_list: # 각 Origin의 Destin에 대하여\n",
    "        # OD별 shortest path 산출, 링크 넘버 추출\n",
    "        if origin != destination: # Cyclic flow 방지 : 기점과 종점이 같지 않은 경우만 다룬다\n",
    "            SPD = SPD_Dijkstra(origin, destination, net_cost)\n",
    "            link_list = list(SPD['Link_num'])\n",
    "            # 각 링크넘버에 OD 테이블의 교통량(T) 더해주기\n",
    "            add_volume = OD[(OD['O'] == origin) & (OD['D'] == destination)].iloc[0].loc['T'] # 각 통과 링크에 더해줄 OD 교통량 산정\n",
    "            print(f'(O, D) = ({origin}, {destination}), Path Link_num list = {link_list}, Add_volume = {add_volume}')\n",
    "            net_cost.loc[net_cost['Link_num'].isin(link_list), 'x_n'] += add_volume # All or Nothing 배정\n",
    "        else:\n",
    "            pass"
   ]
  },
  {
   "cell_type": "code",
   "execution_count": 21,
   "id": "be44c356-80d6-4a55-8366-ca381a288b25",
   "metadata": {
    "execution": {
     "iopub.execute_input": "2022-06-08T06:19:54.857425Z",
     "iopub.status.busy": "2022-06-08T06:19:54.857425Z",
     "iopub.status.idle": "2022-06-08T06:19:54.871501Z",
     "shell.execute_reply": "2022-06-08T06:19:54.871501Z",
     "shell.execute_reply.started": "2022-06-08T06:19:54.857425Z"
    },
    "tags": []
   },
   "outputs": [
    {
     "data": {
      "text/html": [
       "<div>\n",
       "<style scoped>\n",
       "    .dataframe tbody tr th:only-of-type {\n",
       "        vertical-align: middle;\n",
       "    }\n",
       "\n",
       "    .dataframe tbody tr th {\n",
       "        vertical-align: top;\n",
       "    }\n",
       "\n",
       "    .dataframe thead th {\n",
       "        text-align: right;\n",
       "    }\n",
       "</style>\n",
       "<table border=\"1\" class=\"dataframe\">\n",
       "  <thead>\n",
       "    <tr style=\"text-align: right;\">\n",
       "      <th></th>\n",
       "      <th>O</th>\n",
       "      <th>D</th>\n",
       "      <th>FFT</th>\n",
       "      <th>Power</th>\n",
       "      <th>Capacity</th>\n",
       "      <th>B</th>\n",
       "      <th>Length</th>\n",
       "      <th>Link_num</th>\n",
       "      <th>x_n</th>\n",
       "      <th>y_n</th>\n",
       "      <th>Direction</th>\n",
       "      <th>x_n1</th>\n",
       "      <th>Cost</th>\n",
       "    </tr>\n",
       "    <tr>\n",
       "      <th>Link_num</th>\n",
       "      <th></th>\n",
       "      <th></th>\n",
       "      <th></th>\n",
       "      <th></th>\n",
       "      <th></th>\n",
       "      <th></th>\n",
       "      <th></th>\n",
       "      <th></th>\n",
       "      <th></th>\n",
       "      <th></th>\n",
       "      <th></th>\n",
       "      <th></th>\n",
       "      <th></th>\n",
       "    </tr>\n",
       "  </thead>\n",
       "  <tbody>\n",
       "    <tr>\n",
       "      <th>1</th>\n",
       "      <td>1</td>\n",
       "      <td>2</td>\n",
       "      <td>6</td>\n",
       "      <td>4</td>\n",
       "      <td>25900.200640</td>\n",
       "      <td>0.15</td>\n",
       "      <td>6</td>\n",
       "      <td>1</td>\n",
       "      <td>1400</td>\n",
       "      <td>0</td>\n",
       "      <td>0</td>\n",
       "      <td>0</td>\n",
       "      <td>6.0</td>\n",
       "    </tr>\n",
       "    <tr>\n",
       "      <th>2</th>\n",
       "      <td>1</td>\n",
       "      <td>3</td>\n",
       "      <td>4</td>\n",
       "      <td>4</td>\n",
       "      <td>23403.473190</td>\n",
       "      <td>0.15</td>\n",
       "      <td>4</td>\n",
       "      <td>2</td>\n",
       "      <td>600</td>\n",
       "      <td>0</td>\n",
       "      <td>0</td>\n",
       "      <td>0</td>\n",
       "      <td>4.0</td>\n",
       "    </tr>\n",
       "    <tr>\n",
       "      <th>3</th>\n",
       "      <td>2</td>\n",
       "      <td>1</td>\n",
       "      <td>6</td>\n",
       "      <td>4</td>\n",
       "      <td>25900.200640</td>\n",
       "      <td>0.15</td>\n",
       "      <td>6</td>\n",
       "      <td>3</td>\n",
       "      <td>1400</td>\n",
       "      <td>0</td>\n",
       "      <td>0</td>\n",
       "      <td>0</td>\n",
       "      <td>6.0</td>\n",
       "    </tr>\n",
       "    <tr>\n",
       "      <th>4</th>\n",
       "      <td>2</td>\n",
       "      <td>6</td>\n",
       "      <td>5</td>\n",
       "      <td>4</td>\n",
       "      <td>4958.180928</td>\n",
       "      <td>0.15</td>\n",
       "      <td>5</td>\n",
       "      <td>4</td>\n",
       "      <td>1800</td>\n",
       "      <td>0</td>\n",
       "      <td>0</td>\n",
       "      <td>0</td>\n",
       "      <td>5.0</td>\n",
       "    </tr>\n",
       "    <tr>\n",
       "      <th>5</th>\n",
       "      <td>3</td>\n",
       "      <td>1</td>\n",
       "      <td>4</td>\n",
       "      <td>4</td>\n",
       "      <td>23403.473190</td>\n",
       "      <td>0.15</td>\n",
       "      <td>4</td>\n",
       "      <td>5</td>\n",
       "      <td>600</td>\n",
       "      <td>0</td>\n",
       "      <td>0</td>\n",
       "      <td>0</td>\n",
       "      <td>4.0</td>\n",
       "    </tr>\n",
       "    <tr>\n",
       "      <th>...</th>\n",
       "      <td>...</td>\n",
       "      <td>...</td>\n",
       "      <td>...</td>\n",
       "      <td>...</td>\n",
       "      <td>...</td>\n",
       "      <td>...</td>\n",
       "      <td>...</td>\n",
       "      <td>...</td>\n",
       "      <td>...</td>\n",
       "      <td>...</td>\n",
       "      <td>...</td>\n",
       "      <td>...</td>\n",
       "      <td>...</td>\n",
       "    </tr>\n",
       "    <tr>\n",
       "      <th>72</th>\n",
       "      <td>23</td>\n",
       "      <td>22</td>\n",
       "      <td>4</td>\n",
       "      <td>2</td>\n",
       "      <td>5000.000000</td>\n",
       "      <td>0.25</td>\n",
       "      <td>4</td>\n",
       "      <td>72</td>\n",
       "      <td>0</td>\n",
       "      <td>0</td>\n",
       "      <td>0</td>\n",
       "      <td>0</td>\n",
       "      <td>4.0</td>\n",
       "    </tr>\n",
       "    <tr>\n",
       "      <th>73</th>\n",
       "      <td>23</td>\n",
       "      <td>24</td>\n",
       "      <td>2</td>\n",
       "      <td>2</td>\n",
       "      <td>5078.508436</td>\n",
       "      <td>0.25</td>\n",
       "      <td>2</td>\n",
       "      <td>73</td>\n",
       "      <td>0</td>\n",
       "      <td>0</td>\n",
       "      <td>0</td>\n",
       "      <td>0</td>\n",
       "      <td>2.0</td>\n",
       "    </tr>\n",
       "    <tr>\n",
       "      <th>74</th>\n",
       "      <td>24</td>\n",
       "      <td>13</td>\n",
       "      <td>4</td>\n",
       "      <td>2</td>\n",
       "      <td>5091.256152</td>\n",
       "      <td>0.25</td>\n",
       "      <td>4</td>\n",
       "      <td>74</td>\n",
       "      <td>0</td>\n",
       "      <td>0</td>\n",
       "      <td>0</td>\n",
       "      <td>0</td>\n",
       "      <td>4.0</td>\n",
       "    </tr>\n",
       "    <tr>\n",
       "      <th>75</th>\n",
       "      <td>24</td>\n",
       "      <td>21</td>\n",
       "      <td>3</td>\n",
       "      <td>2</td>\n",
       "      <td>4885.357564</td>\n",
       "      <td>0.25</td>\n",
       "      <td>3</td>\n",
       "      <td>75</td>\n",
       "      <td>0</td>\n",
       "      <td>0</td>\n",
       "      <td>0</td>\n",
       "      <td>0</td>\n",
       "      <td>3.0</td>\n",
       "    </tr>\n",
       "    <tr>\n",
       "      <th>76</th>\n",
       "      <td>24</td>\n",
       "      <td>23</td>\n",
       "      <td>2</td>\n",
       "      <td>2</td>\n",
       "      <td>5078.508436</td>\n",
       "      <td>0.25</td>\n",
       "      <td>2</td>\n",
       "      <td>76</td>\n",
       "      <td>0</td>\n",
       "      <td>0</td>\n",
       "      <td>0</td>\n",
       "      <td>0</td>\n",
       "      <td>2.0</td>\n",
       "    </tr>\n",
       "  </tbody>\n",
       "</table>\n",
       "<p>76 rows × 13 columns</p>\n",
       "</div>"
      ],
      "text/plain": [
       "           O   D  FFT  Power      Capacity     B  Length  Link_num   x_n  y_n  \\\n",
       "Link_num                                                                        \n",
       "1          1   2    6      4  25900.200640  0.15       6         1  1400    0   \n",
       "2          1   3    4      4  23403.473190  0.15       4         2   600    0   \n",
       "3          2   1    6      4  25900.200640  0.15       6         3  1400    0   \n",
       "4          2   6    5      4   4958.180928  0.15       5         4  1800    0   \n",
       "5          3   1    4      4  23403.473190  0.15       4         5   600    0   \n",
       "...       ..  ..  ...    ...           ...   ...     ...       ...   ...  ...   \n",
       "72        23  22    4      2   5000.000000  0.25       4        72     0    0   \n",
       "73        23  24    2      2   5078.508436  0.25       2        73     0    0   \n",
       "74        24  13    4      2   5091.256152  0.25       4        74     0    0   \n",
       "75        24  21    3      2   4885.357564  0.25       3        75     0    0   \n",
       "76        24  23    2      2   5078.508436  0.25       2        76     0    0   \n",
       "\n",
       "          Direction  x_n1  Cost  \n",
       "Link_num                         \n",
       "1                 0     0   6.0  \n",
       "2                 0     0   4.0  \n",
       "3                 0     0   6.0  \n",
       "4                 0     0   5.0  \n",
       "5                 0     0   4.0  \n",
       "...             ...   ...   ...  \n",
       "72                0     0   4.0  \n",
       "73                0     0   2.0  \n",
       "74                0     0   4.0  \n",
       "75                0     0   3.0  \n",
       "76                0     0   2.0  \n",
       "\n",
       "[76 rows x 13 columns]"
      ]
     },
     "execution_count": 21,
     "metadata": {},
     "output_type": "execute_result"
    }
   ],
   "source": [
    "net_cost"
   ]
  },
  {
   "cell_type": "markdown",
   "id": "d9f41fe8-10d8-4266-8f45-3e33f01c9558",
   "metadata": {},
   "source": [
    "## Define Constant"
   ]
  },
  {
   "cell_type": "code",
   "execution_count": 22,
   "id": "1a60a07a-8253-4659-92c9-3e22881c6e05",
   "metadata": {
    "execution": {
     "iopub.execute_input": "2022-06-08T06:19:54.871501Z",
     "iopub.status.busy": "2022-06-08T06:19:54.871501Z",
     "iopub.status.idle": "2022-06-08T06:19:54.887894Z",
     "shell.execute_reply": "2022-06-08T06:19:54.886924Z",
     "shell.execute_reply.started": "2022-06-08T06:19:54.871501Z"
    },
    "tags": []
   },
   "outputs": [],
   "source": [
    "## Sympy :: 방정식을 풀기 위한 패키지 이용. 방정식에 포함될 각 변수들을 미리 선언하기\n",
    "d = Symbol('d') # direction\n",
    "B = Symbol('B') # B. 0.15 있는 그거\n",
    "t = Symbol('t') # t. Cost\n",
    "c = Symbol('c') # capacity\n",
    "x = Symbol('x') # x0\n",
    "alpha = Symbol('alpha') # alpha\n",
    "P = Symbol('P') # Power. 4."
   ]
  },
  {
   "cell_type": "code",
   "execution_count": 23,
   "id": "582b2061-4ffd-42f1-ac36-485e49f1c30d",
   "metadata": {
    "execution": {
     "iopub.execute_input": "2022-06-08T06:19:54.889892Z",
     "iopub.status.busy": "2022-06-08T06:19:54.888938Z",
     "iopub.status.idle": "2022-06-08T06:19:54.902880Z",
     "shell.execute_reply": "2022-06-08T06:19:54.902880Z",
     "shell.execute_reply.started": "2022-06-08T06:19:54.889892Z"
    },
    "tags": []
   },
   "outputs": [],
   "source": [
    "k = 0.000001 ### Convergence test 통과 기준"
   ]
  },
  {
   "cell_type": "markdown",
   "id": "ce7a7ebf-1a0d-46c9-bc99-3c1a9405772d",
   "metadata": {},
   "source": [
    "# Iteration\n",
    "* `while True:`를 사용해서 convergence test를 통과할 때까지 무한반복"
   ]
  },
  {
   "cell_type": "code",
   "execution_count": 24,
   "id": "6467f165-d62e-47d9-b47f-b847004fe8a8",
   "metadata": {
    "execution": {
     "iopub.execute_input": "2022-06-08T06:19:54.903849Z",
     "iopub.status.busy": "2022-06-08T06:19:54.903849Z",
     "iopub.status.idle": "2022-06-08T06:19:57.330119Z",
     "shell.execute_reply": "2022-06-08T06:19:57.330119Z",
     "shell.execute_reply.started": "2022-06-08T06:19:54.903849Z"
    },
    "tags": []
   },
   "outputs": [
    {
     "name": "stderr",
     "output_type": "stream",
     "text": [
      "  0%|                                                                                            | 0/4 [00:00<?, ?it/s]"
     ]
    },
    {
     "name": "stdout",
     "output_type": "stream",
     "text": [
      "==========================\n",
      "● Initialization\n",
      "==========================\n",
      "           x_n  y_n  Cost  Direction  x_n1\n",
      "Link_num                                  \n",
      "1         1400    0   6.0          0     0\n",
      "2          600    0   4.0          0     0\n",
      "3         1400    0   6.0          0     0\n",
      "4         1800    0   5.0          0     0\n",
      "5          600    0   4.0          0     0\n",
      "...        ...  ...   ...        ...   ...\n",
      "72           0    0   4.0          0     0\n",
      "73           0    0   2.0          0     0\n",
      "74           0    0   4.0          0     0\n",
      "75           0    0   3.0          0     0\n",
      "76           0    0   2.0          0     0\n",
      "\n",
      "[76 rows x 5 columns]\n",
      "==========================\n",
      "● Iteration : 1\n",
      "==========================\n"
     ]
    },
    {
     "name": "stderr",
     "output_type": "stream",
     "text": [
      "100%|████████████████████████████████████████████████████████████████████████████████████| 4/4 [00:02<00:00,  1.94it/s]\n"
     ]
    },
    {
     "name": "stdout",
     "output_type": "stream",
     "text": [
      "Alpha List : []\n"
     ]
    },
    {
     "ename": "TypeError",
     "evalue": "unsupported operand type(s) for *: 'NoneType' and 'int'",
     "output_type": "error",
     "traceback": [
      "\u001b[1;31m---------------------------------------------------------------------------\u001b[0m",
      "\u001b[1;31mTypeError\u001b[0m                                 Traceback (most recent call last)",
      "\u001b[1;32mC:\\dev\\Anaconda_3\\lib\\site-packages\\pandas\\core\\ops\\array_ops.py\u001b[0m in \u001b[0;36m_na_arithmetic_op\u001b[1;34m(left, right, op, is_cmp)\u001b[0m\n\u001b[0;32m    141\u001b[0m     \u001b[1;32mtry\u001b[0m\u001b[1;33m:\u001b[0m\u001b[1;33m\u001b[0m\u001b[1;33m\u001b[0m\u001b[0m\n\u001b[1;32m--> 142\u001b[1;33m         \u001b[0mresult\u001b[0m \u001b[1;33m=\u001b[0m \u001b[0mexpressions\u001b[0m\u001b[1;33m.\u001b[0m\u001b[0mevaluate\u001b[0m\u001b[1;33m(\u001b[0m\u001b[0mop\u001b[0m\u001b[1;33m,\u001b[0m \u001b[0mleft\u001b[0m\u001b[1;33m,\u001b[0m \u001b[0mright\u001b[0m\u001b[1;33m)\u001b[0m\u001b[1;33m\u001b[0m\u001b[1;33m\u001b[0m\u001b[0m\n\u001b[0m\u001b[0;32m    143\u001b[0m     \u001b[1;32mexcept\u001b[0m \u001b[0mTypeError\u001b[0m\u001b[1;33m:\u001b[0m\u001b[1;33m\u001b[0m\u001b[1;33m\u001b[0m\u001b[0m\n",
      "\u001b[1;32mC:\\dev\\Anaconda_3\\lib\\site-packages\\pandas\\core\\computation\\expressions.py\u001b[0m in \u001b[0;36mevaluate\u001b[1;34m(op, a, b, use_numexpr)\u001b[0m\n\u001b[0;32m    234\u001b[0m             \u001b[1;31m# error: \"None\" not callable\u001b[0m\u001b[1;33m\u001b[0m\u001b[1;33m\u001b[0m\u001b[1;33m\u001b[0m\u001b[0m\n\u001b[1;32m--> 235\u001b[1;33m             \u001b[1;32mreturn\u001b[0m \u001b[0m_evaluate\u001b[0m\u001b[1;33m(\u001b[0m\u001b[0mop\u001b[0m\u001b[1;33m,\u001b[0m \u001b[0mop_str\u001b[0m\u001b[1;33m,\u001b[0m \u001b[0ma\u001b[0m\u001b[1;33m,\u001b[0m \u001b[0mb\u001b[0m\u001b[1;33m)\u001b[0m  \u001b[1;31m# type: ignore[misc]\u001b[0m\u001b[1;33m\u001b[0m\u001b[1;33m\u001b[0m\u001b[0m\n\u001b[0m\u001b[0;32m    236\u001b[0m     \u001b[1;32mreturn\u001b[0m \u001b[0m_evaluate_standard\u001b[0m\u001b[1;33m(\u001b[0m\u001b[0mop\u001b[0m\u001b[1;33m,\u001b[0m \u001b[0mop_str\u001b[0m\u001b[1;33m,\u001b[0m \u001b[0ma\u001b[0m\u001b[1;33m,\u001b[0m \u001b[0mb\u001b[0m\u001b[1;33m)\u001b[0m\u001b[1;33m\u001b[0m\u001b[1;33m\u001b[0m\u001b[0m\n",
      "\u001b[1;32mC:\\dev\\Anaconda_3\\lib\\site-packages\\pandas\\core\\computation\\expressions.py\u001b[0m in \u001b[0;36m_evaluate_numexpr\u001b[1;34m(op, op_str, a, b)\u001b[0m\n\u001b[0;32m    119\u001b[0m     \u001b[1;32mif\u001b[0m \u001b[0mresult\u001b[0m \u001b[1;32mis\u001b[0m \u001b[1;32mNone\u001b[0m\u001b[1;33m:\u001b[0m\u001b[1;33m\u001b[0m\u001b[1;33m\u001b[0m\u001b[0m\n\u001b[1;32m--> 120\u001b[1;33m         \u001b[0mresult\u001b[0m \u001b[1;33m=\u001b[0m \u001b[0m_evaluate_standard\u001b[0m\u001b[1;33m(\u001b[0m\u001b[0mop\u001b[0m\u001b[1;33m,\u001b[0m \u001b[0mop_str\u001b[0m\u001b[1;33m,\u001b[0m \u001b[0ma\u001b[0m\u001b[1;33m,\u001b[0m \u001b[0mb\u001b[0m\u001b[1;33m)\u001b[0m\u001b[1;33m\u001b[0m\u001b[1;33m\u001b[0m\u001b[0m\n\u001b[0m\u001b[0;32m    121\u001b[0m \u001b[1;33m\u001b[0m\u001b[0m\n",
      "\u001b[1;32mC:\\dev\\Anaconda_3\\lib\\site-packages\\pandas\\core\\computation\\expressions.py\u001b[0m in \u001b[0;36m_evaluate_standard\u001b[1;34m(op, op_str, a, b)\u001b[0m\n\u001b[0;32m     68\u001b[0m     \u001b[1;32mwith\u001b[0m \u001b[0mnp\u001b[0m\u001b[1;33m.\u001b[0m\u001b[0merrstate\u001b[0m\u001b[1;33m(\u001b[0m\u001b[0mall\u001b[0m\u001b[1;33m=\u001b[0m\u001b[1;34m\"ignore\"\u001b[0m\u001b[1;33m)\u001b[0m\u001b[1;33m:\u001b[0m\u001b[1;33m\u001b[0m\u001b[1;33m\u001b[0m\u001b[0m\n\u001b[1;32m---> 69\u001b[1;33m         \u001b[1;32mreturn\u001b[0m \u001b[0mop\u001b[0m\u001b[1;33m(\u001b[0m\u001b[0ma\u001b[0m\u001b[1;33m,\u001b[0m \u001b[0mb\u001b[0m\u001b[1;33m)\u001b[0m\u001b[1;33m\u001b[0m\u001b[1;33m\u001b[0m\u001b[0m\n\u001b[0m\u001b[0;32m     70\u001b[0m \u001b[1;33m\u001b[0m\u001b[0m\n",
      "\u001b[1;32mC:\\dev\\Anaconda_3\\lib\\site-packages\\pandas\\core\\ops\\roperator.py\u001b[0m in \u001b[0;36mrmul\u001b[1;34m(left, right)\u001b[0m\n\u001b[0;32m     16\u001b[0m \u001b[1;32mdef\u001b[0m \u001b[0mrmul\u001b[0m\u001b[1;33m(\u001b[0m\u001b[0mleft\u001b[0m\u001b[1;33m,\u001b[0m \u001b[0mright\u001b[0m\u001b[1;33m)\u001b[0m\u001b[1;33m:\u001b[0m\u001b[1;33m\u001b[0m\u001b[1;33m\u001b[0m\u001b[0m\n\u001b[1;32m---> 17\u001b[1;33m     \u001b[1;32mreturn\u001b[0m \u001b[0mright\u001b[0m \u001b[1;33m*\u001b[0m \u001b[0mleft\u001b[0m\u001b[1;33m\u001b[0m\u001b[1;33m\u001b[0m\u001b[0m\n\u001b[0m\u001b[0;32m     18\u001b[0m \u001b[1;33m\u001b[0m\u001b[0m\n",
      "\u001b[1;31mTypeError\u001b[0m: unsupported operand type(s) for *: 'NoneType' and 'int'",
      "\nDuring handling of the above exception, another exception occurred:\n",
      "\u001b[1;31mTypeError\u001b[0m                                 Traceback (most recent call last)",
      "\u001b[1;32m<ipython-input-24-de4cd3deb495>\u001b[0m in \u001b[0;36m<module>\u001b[1;34m\u001b[0m\n\u001b[0;32m     64\u001b[0m \u001b[1;33m\u001b[0m\u001b[0m\n\u001b[0;32m     65\u001b[0m     \u001b[1;31m######### x_n값 및 Alpha 이용, >> x_n1 컬럼 값 생성\u001b[0m\u001b[1;33m\u001b[0m\u001b[1;33m\u001b[0m\u001b[1;33m\u001b[0m\u001b[0m\n\u001b[1;32m---> 66\u001b[1;33m     \u001b[0mnet_cost\u001b[0m\u001b[1;33m[\u001b[0m\u001b[1;34m'x_n1'\u001b[0m\u001b[1;33m]\u001b[0m \u001b[1;33m=\u001b[0m \u001b[0mnet_cost\u001b[0m\u001b[1;33m[\u001b[0m\u001b[1;34m'x_n'\u001b[0m\u001b[1;33m]\u001b[0m \u001b[1;33m+\u001b[0m \u001b[0mith_alpha\u001b[0m \u001b[1;33m*\u001b[0m \u001b[1;33m(\u001b[0m\u001b[0mnet_cost\u001b[0m\u001b[1;33m[\u001b[0m\u001b[1;34m'Direction'\u001b[0m\u001b[1;33m]\u001b[0m\u001b[1;33m)\u001b[0m \u001b[1;31m# 금번 iteration의 Alpha 값을 이용, x_n+1 값을 계산해준다.\u001b[0m\u001b[1;33m\u001b[0m\u001b[1;33m\u001b[0m\u001b[0m\n\u001b[0m\u001b[0;32m     67\u001b[0m \u001b[1;33m\u001b[0m\u001b[0m\n\u001b[0;32m     68\u001b[0m     \u001b[0mprint\u001b[0m\u001b[1;33m(\u001b[0m\u001b[0mnet_cost\u001b[0m\u001b[1;33m[\u001b[0m\u001b[1;33m[\u001b[0m\u001b[1;34m'x_n'\u001b[0m\u001b[1;33m,\u001b[0m \u001b[1;34m'y_n'\u001b[0m\u001b[1;33m,\u001b[0m \u001b[1;34m'Cost'\u001b[0m\u001b[1;33m,\u001b[0m \u001b[1;34m'Direction'\u001b[0m\u001b[1;33m,\u001b[0m \u001b[1;34m'x_n1'\u001b[0m\u001b[1;33m]\u001b[0m\u001b[1;33m]\u001b[0m\u001b[1;33m.\u001b[0m\u001b[0mround\u001b[0m\u001b[1;33m(\u001b[0m\u001b[1;36m3\u001b[0m\u001b[1;33m)\u001b[0m\u001b[1;33m)\u001b[0m\u001b[1;33m\u001b[0m\u001b[1;33m\u001b[0m\u001b[0m\n",
      "\u001b[1;32mC:\\dev\\Anaconda_3\\lib\\site-packages\\pandas\\core\\ops\\common.py\u001b[0m in \u001b[0;36mnew_method\u001b[1;34m(self, other)\u001b[0m\n\u001b[0;32m     63\u001b[0m         \u001b[0mother\u001b[0m \u001b[1;33m=\u001b[0m \u001b[0mitem_from_zerodim\u001b[0m\u001b[1;33m(\u001b[0m\u001b[0mother\u001b[0m\u001b[1;33m)\u001b[0m\u001b[1;33m\u001b[0m\u001b[1;33m\u001b[0m\u001b[0m\n\u001b[0;32m     64\u001b[0m \u001b[1;33m\u001b[0m\u001b[0m\n\u001b[1;32m---> 65\u001b[1;33m         \u001b[1;32mreturn\u001b[0m \u001b[0mmethod\u001b[0m\u001b[1;33m(\u001b[0m\u001b[0mself\u001b[0m\u001b[1;33m,\u001b[0m \u001b[0mother\u001b[0m\u001b[1;33m)\u001b[0m\u001b[1;33m\u001b[0m\u001b[1;33m\u001b[0m\u001b[0m\n\u001b[0m\u001b[0;32m     66\u001b[0m \u001b[1;33m\u001b[0m\u001b[0m\n\u001b[0;32m     67\u001b[0m     \u001b[1;32mreturn\u001b[0m \u001b[0mnew_method\u001b[0m\u001b[1;33m\u001b[0m\u001b[1;33m\u001b[0m\u001b[0m\n",
      "\u001b[1;32mC:\\dev\\Anaconda_3\\lib\\site-packages\\pandas\\core\\arraylike.py\u001b[0m in \u001b[0;36m__rmul__\u001b[1;34m(self, other)\u001b[0m\n\u001b[0;32m    107\u001b[0m     \u001b[1;33m@\u001b[0m\u001b[0munpack_zerodim_and_defer\u001b[0m\u001b[1;33m(\u001b[0m\u001b[1;34m\"__rmul__\"\u001b[0m\u001b[1;33m)\u001b[0m\u001b[1;33m\u001b[0m\u001b[1;33m\u001b[0m\u001b[0m\n\u001b[0;32m    108\u001b[0m     \u001b[1;32mdef\u001b[0m \u001b[0m__rmul__\u001b[0m\u001b[1;33m(\u001b[0m\u001b[0mself\u001b[0m\u001b[1;33m,\u001b[0m \u001b[0mother\u001b[0m\u001b[1;33m)\u001b[0m\u001b[1;33m:\u001b[0m\u001b[1;33m\u001b[0m\u001b[1;33m\u001b[0m\u001b[0m\n\u001b[1;32m--> 109\u001b[1;33m         \u001b[1;32mreturn\u001b[0m \u001b[0mself\u001b[0m\u001b[1;33m.\u001b[0m\u001b[0m_arith_method\u001b[0m\u001b[1;33m(\u001b[0m\u001b[0mother\u001b[0m\u001b[1;33m,\u001b[0m \u001b[0mroperator\u001b[0m\u001b[1;33m.\u001b[0m\u001b[0mrmul\u001b[0m\u001b[1;33m)\u001b[0m\u001b[1;33m\u001b[0m\u001b[1;33m\u001b[0m\u001b[0m\n\u001b[0m\u001b[0;32m    110\u001b[0m \u001b[1;33m\u001b[0m\u001b[0m\n\u001b[0;32m    111\u001b[0m     \u001b[1;33m@\u001b[0m\u001b[0munpack_zerodim_and_defer\u001b[0m\u001b[1;33m(\u001b[0m\u001b[1;34m\"__truediv__\"\u001b[0m\u001b[1;33m)\u001b[0m\u001b[1;33m\u001b[0m\u001b[1;33m\u001b[0m\u001b[0m\n",
      "\u001b[1;32mC:\\dev\\Anaconda_3\\lib\\site-packages\\pandas\\core\\series.py\u001b[0m in \u001b[0;36m_arith_method\u001b[1;34m(self, other, op)\u001b[0m\n\u001b[0;32m   4996\u001b[0m         \u001b[0mlvalues\u001b[0m \u001b[1;33m=\u001b[0m \u001b[0mextract_array\u001b[0m\u001b[1;33m(\u001b[0m\u001b[0mself\u001b[0m\u001b[1;33m,\u001b[0m \u001b[0mextract_numpy\u001b[0m\u001b[1;33m=\u001b[0m\u001b[1;32mTrue\u001b[0m\u001b[1;33m)\u001b[0m\u001b[1;33m\u001b[0m\u001b[1;33m\u001b[0m\u001b[0m\n\u001b[0;32m   4997\u001b[0m         \u001b[0mrvalues\u001b[0m \u001b[1;33m=\u001b[0m \u001b[0mextract_array\u001b[0m\u001b[1;33m(\u001b[0m\u001b[0mother\u001b[0m\u001b[1;33m,\u001b[0m \u001b[0mextract_numpy\u001b[0m\u001b[1;33m=\u001b[0m\u001b[1;32mTrue\u001b[0m\u001b[1;33m)\u001b[0m\u001b[1;33m\u001b[0m\u001b[1;33m\u001b[0m\u001b[0m\n\u001b[1;32m-> 4998\u001b[1;33m         \u001b[0mresult\u001b[0m \u001b[1;33m=\u001b[0m \u001b[0mops\u001b[0m\u001b[1;33m.\u001b[0m\u001b[0marithmetic_op\u001b[0m\u001b[1;33m(\u001b[0m\u001b[0mlvalues\u001b[0m\u001b[1;33m,\u001b[0m \u001b[0mrvalues\u001b[0m\u001b[1;33m,\u001b[0m \u001b[0mop\u001b[0m\u001b[1;33m)\u001b[0m\u001b[1;33m\u001b[0m\u001b[1;33m\u001b[0m\u001b[0m\n\u001b[0m\u001b[0;32m   4999\u001b[0m \u001b[1;33m\u001b[0m\u001b[0m\n\u001b[0;32m   5000\u001b[0m         \u001b[1;32mreturn\u001b[0m \u001b[0mself\u001b[0m\u001b[1;33m.\u001b[0m\u001b[0m_construct_result\u001b[0m\u001b[1;33m(\u001b[0m\u001b[0mresult\u001b[0m\u001b[1;33m,\u001b[0m \u001b[0mname\u001b[0m\u001b[1;33m=\u001b[0m\u001b[0mres_name\u001b[0m\u001b[1;33m)\u001b[0m\u001b[1;33m\u001b[0m\u001b[1;33m\u001b[0m\u001b[0m\n",
      "\u001b[1;32mC:\\dev\\Anaconda_3\\lib\\site-packages\\pandas\\core\\ops\\array_ops.py\u001b[0m in \u001b[0;36marithmetic_op\u001b[1;34m(left, right, op)\u001b[0m\n\u001b[0;32m    187\u001b[0m     \u001b[1;32melse\u001b[0m\u001b[1;33m:\u001b[0m\u001b[1;33m\u001b[0m\u001b[1;33m\u001b[0m\u001b[0m\n\u001b[0;32m    188\u001b[0m         \u001b[1;32mwith\u001b[0m \u001b[0mnp\u001b[0m\u001b[1;33m.\u001b[0m\u001b[0merrstate\u001b[0m\u001b[1;33m(\u001b[0m\u001b[0mall\u001b[0m\u001b[1;33m=\u001b[0m\u001b[1;34m\"ignore\"\u001b[0m\u001b[1;33m)\u001b[0m\u001b[1;33m:\u001b[0m\u001b[1;33m\u001b[0m\u001b[1;33m\u001b[0m\u001b[0m\n\u001b[1;32m--> 189\u001b[1;33m             \u001b[0mres_values\u001b[0m \u001b[1;33m=\u001b[0m \u001b[0m_na_arithmetic_op\u001b[0m\u001b[1;33m(\u001b[0m\u001b[0mlvalues\u001b[0m\u001b[1;33m,\u001b[0m \u001b[0mrvalues\u001b[0m\u001b[1;33m,\u001b[0m \u001b[0mop\u001b[0m\u001b[1;33m)\u001b[0m\u001b[1;33m\u001b[0m\u001b[1;33m\u001b[0m\u001b[0m\n\u001b[0m\u001b[0;32m    190\u001b[0m \u001b[1;33m\u001b[0m\u001b[0m\n\u001b[0;32m    191\u001b[0m     \u001b[1;32mreturn\u001b[0m \u001b[0mres_values\u001b[0m\u001b[1;33m\u001b[0m\u001b[1;33m\u001b[0m\u001b[0m\n",
      "\u001b[1;32mC:\\dev\\Anaconda_3\\lib\\site-packages\\pandas\\core\\ops\\array_ops.py\u001b[0m in \u001b[0;36m_na_arithmetic_op\u001b[1;34m(left, right, op, is_cmp)\u001b[0m\n\u001b[0;32m    147\u001b[0m             \u001b[1;31m#  will handle complex numbers incorrectly, see GH#32047\u001b[0m\u001b[1;33m\u001b[0m\u001b[1;33m\u001b[0m\u001b[1;33m\u001b[0m\u001b[0m\n\u001b[0;32m    148\u001b[0m             \u001b[1;32mraise\u001b[0m\u001b[1;33m\u001b[0m\u001b[1;33m\u001b[0m\u001b[0m\n\u001b[1;32m--> 149\u001b[1;33m         \u001b[0mresult\u001b[0m \u001b[1;33m=\u001b[0m \u001b[0m_masked_arith_op\u001b[0m\u001b[1;33m(\u001b[0m\u001b[0mleft\u001b[0m\u001b[1;33m,\u001b[0m \u001b[0mright\u001b[0m\u001b[1;33m,\u001b[0m \u001b[0mop\u001b[0m\u001b[1;33m)\u001b[0m\u001b[1;33m\u001b[0m\u001b[1;33m\u001b[0m\u001b[0m\n\u001b[0m\u001b[0;32m    150\u001b[0m \u001b[1;33m\u001b[0m\u001b[0m\n\u001b[0;32m    151\u001b[0m     \u001b[1;32mif\u001b[0m \u001b[0mis_cmp\u001b[0m \u001b[1;32mand\u001b[0m \u001b[1;33m(\u001b[0m\u001b[0mis_scalar\u001b[0m\u001b[1;33m(\u001b[0m\u001b[0mresult\u001b[0m\u001b[1;33m)\u001b[0m \u001b[1;32mor\u001b[0m \u001b[0mresult\u001b[0m \u001b[1;32mis\u001b[0m \u001b[0mNotImplemented\u001b[0m\u001b[1;33m)\u001b[0m\u001b[1;33m:\u001b[0m\u001b[1;33m\u001b[0m\u001b[1;33m\u001b[0m\u001b[0m\n",
      "\u001b[1;32mC:\\dev\\Anaconda_3\\lib\\site-packages\\pandas\\core\\ops\\array_ops.py\u001b[0m in \u001b[0;36m_masked_arith_op\u001b[1;34m(x, y, op)\u001b[0m\n\u001b[0;32m    109\u001b[0m         \u001b[1;32mif\u001b[0m \u001b[0mmask\u001b[0m\u001b[1;33m.\u001b[0m\u001b[0many\u001b[0m\u001b[1;33m(\u001b[0m\u001b[1;33m)\u001b[0m\u001b[1;33m:\u001b[0m\u001b[1;33m\u001b[0m\u001b[1;33m\u001b[0m\u001b[0m\n\u001b[0;32m    110\u001b[0m             \u001b[1;32mwith\u001b[0m \u001b[0mnp\u001b[0m\u001b[1;33m.\u001b[0m\u001b[0merrstate\u001b[0m\u001b[1;33m(\u001b[0m\u001b[0mall\u001b[0m\u001b[1;33m=\u001b[0m\u001b[1;34m\"ignore\"\u001b[0m\u001b[1;33m)\u001b[0m\u001b[1;33m:\u001b[0m\u001b[1;33m\u001b[0m\u001b[1;33m\u001b[0m\u001b[0m\n\u001b[1;32m--> 111\u001b[1;33m                 \u001b[0mresult\u001b[0m\u001b[1;33m[\u001b[0m\u001b[0mmask\u001b[0m\u001b[1;33m]\u001b[0m \u001b[1;33m=\u001b[0m \u001b[0mop\u001b[0m\u001b[1;33m(\u001b[0m\u001b[0mxrav\u001b[0m\u001b[1;33m[\u001b[0m\u001b[0mmask\u001b[0m\u001b[1;33m]\u001b[0m\u001b[1;33m,\u001b[0m \u001b[0my\u001b[0m\u001b[1;33m)\u001b[0m\u001b[1;33m\u001b[0m\u001b[1;33m\u001b[0m\u001b[0m\n\u001b[0m\u001b[0;32m    112\u001b[0m \u001b[1;33m\u001b[0m\u001b[0m\n\u001b[0;32m    113\u001b[0m     \u001b[0mresult\u001b[0m\u001b[1;33m,\u001b[0m \u001b[0m_\u001b[0m \u001b[1;33m=\u001b[0m \u001b[0mmaybe_upcast_putmask\u001b[0m\u001b[1;33m(\u001b[0m\u001b[0mresult\u001b[0m\u001b[1;33m,\u001b[0m \u001b[1;33m~\u001b[0m\u001b[0mmask\u001b[0m\u001b[1;33m,\u001b[0m \u001b[0mnp\u001b[0m\u001b[1;33m.\u001b[0m\u001b[0mnan\u001b[0m\u001b[1;33m)\u001b[0m\u001b[1;33m\u001b[0m\u001b[1;33m\u001b[0m\u001b[0m\n",
      "\u001b[1;32mC:\\dev\\Anaconda_3\\lib\\site-packages\\pandas\\core\\ops\\roperator.py\u001b[0m in \u001b[0;36mrmul\u001b[1;34m(left, right)\u001b[0m\n\u001b[0;32m     15\u001b[0m \u001b[1;33m\u001b[0m\u001b[0m\n\u001b[0;32m     16\u001b[0m \u001b[1;32mdef\u001b[0m \u001b[0mrmul\u001b[0m\u001b[1;33m(\u001b[0m\u001b[0mleft\u001b[0m\u001b[1;33m,\u001b[0m \u001b[0mright\u001b[0m\u001b[1;33m)\u001b[0m\u001b[1;33m:\u001b[0m\u001b[1;33m\u001b[0m\u001b[1;33m\u001b[0m\u001b[0m\n\u001b[1;32m---> 17\u001b[1;33m     \u001b[1;32mreturn\u001b[0m \u001b[0mright\u001b[0m \u001b[1;33m*\u001b[0m \u001b[0mleft\u001b[0m\u001b[1;33m\u001b[0m\u001b[1;33m\u001b[0m\u001b[0m\n\u001b[0m\u001b[0;32m     18\u001b[0m \u001b[1;33m\u001b[0m\u001b[0m\n\u001b[0;32m     19\u001b[0m \u001b[1;33m\u001b[0m\u001b[0m\n",
      "\u001b[1;31mTypeError\u001b[0m: unsupported operand type(s) for *: 'NoneType' and 'int'"
     ]
    }
   ],
   "source": [
    "print('==========================')\n",
    "print(f'● Initialization')\n",
    "print('==========================')\n",
    "print(net_cost[['x_n', 'y_n', 'Cost', 'Direction', 'x_n1']])\n",
    "\n",
    "start_time = datetime.now()\n",
    "\n",
    "iteration = 1\n",
    "\n",
    "while True:\n",
    "    print('==========================')\n",
    "    print(f'● Iteration : {iteration}')\n",
    "    print('==========================')\n",
    "    \n",
    "    ######### Update Link Travel Time. t1계산. 통행비용을 cost 열에 갱신.\n",
    "    ######### 전 iteration 단계에서 계산한 통행량 xn으로 통행비용 tn 계산함\n",
    "    \n",
    "    net_cost = calculate_iterative_cost(net_cost) \n",
    "    \n",
    "    ######### 통행비용 tn(Cost)을 이용하여 Dijkstra 방식으로 Shortest Path를 산정\n",
    "    ######### All-or-Nothing Assignment 실행, yn 획득\n",
    "    \n",
    "    for origin in tqdm(origin_list): # 각 Origin에 대하여\n",
    "\n",
    "        each_origin_OD = OD[OD['O'] == origin]\n",
    "        destination_list = each_origin_OD['D']\n",
    "    \n",
    "        for destination in destination_list: # 각 Origin의 Destin에 대하여\n",
    "            # OD별 shortest path 산출, 링크 넘버 추출\n",
    "            if origin != destination:\n",
    "                SPD = SPD_Dijkstra(origin, destination, net_cost)\n",
    "                link_list = list(SPD['Link_num'])\n",
    "                # 각 링크넘버에 OD 테이블의 교통량(T) 더해주기\n",
    "                add_volume = OD[(OD['O'] == origin) & (OD['D'] == destination)].iloc[0].loc['T'] # 각 통과 링크에 더해줄 OD 교통량 산정 \n",
    "                net_cost.loc[net_cost['Link_num'].isin(link_list), 'y_n'] += add_volume # All or Nothing 배정 :: y0 갱신\n",
    "            else:\n",
    "                pass\n",
    "        \n",
    "    ######### Find Move Size Alpha. 목적함수 Z(x)를 최소화하는 Alpha 값 찾기\n",
    "    ######### Find Direction d = yn - xn\n",
    "    ######### sympy를 이용하여 0 이상 1 이하의 Alpha 실근을 구한다\n",
    "    \n",
    "    net_cost['Direction'] = net_cost['y_n'] - net_cost['x_n'] # direction :: d = yn - xn 임\n",
    "    \n",
    "    total_equation = 0 # total Equation : Z(x)가 최소화되기 위한 조건식\n",
    "\n",
    "    for i in range(1, len(net_cost)+1): # 1부터 끝까지 Link_num == i에 대하여\n",
    "    \n",
    "        d = net_cost.loc[i, 'Direction'] # i링크의 direction\n",
    "        t = net_cost.loc[i, 'Cost']\n",
    "        B = net_cost.loc[i, 'B']\n",
    "        x = net_cost.loc[i, 'x_n']\n",
    "        P = net_cost.loc[i, 'Power']\n",
    "        C = net_cost.loc[i, 'Capacity']\n",
    "    \n",
    "        equation = d * t * (1 + B * (((x + alpha * d)/C)**P))\n",
    "        b\n",
    "        total_equation += equation\n",
    "    \n",
    "    alpha_list = solve(total_equation)\n",
    "    print(f'Alpha List : {alpha_list}')\n",
    "    ith_alpha = find_alpha(alpha_list) # 여기서 alpha는 0과 1 사이의 양수여야 하므로, 해당 부분만을 필터링해주는 것이다.\n",
    "    \n",
    "    ######### x_n값 및 Alpha 이용, >> x_n1 컬럼 값 생성     \n",
    "    net_cost['x_n1'] = net_cost['x_n'] + ith_alpha * (net_cost['Direction']) # 금번 iteration의 Alpha 값을 이용, x_n+1 값을 계산해준다.\n",
    "    \n",
    "    print(net_cost[['x_n', 'y_n', 'Cost', 'Direction', 'x_n1']].round(3))\n",
    "    \n",
    "    ######### Convergence Test 실행 :\n",
    "    ######### 만약 Convergence Test를 통과할 경우 본 while문은 깨bb지고 결과를 출력하면 된다.\n",
    "    ######### 만약 통과하지 못하면 본 iteration은 계속 반복된다.\n",
    "    \n",
    "    convergence = convergence_test(net_cost) # False가 저장될 시, 위 과정을 반복한다.\n",
    "    print(f'convergence criterion = {convergence}')\n",
    "    \n",
    "    if convergence <= k : # Convergence Test 통과 시 While문이 종료된다.\n",
    "        end_time = datetime.now()\n",
    "        \n",
    "        print(f'Process is finished : {start_time - end_time} seconds.')\n",
    "        break\n",
    "        \n",
    "    else:\n",
    "        net_cost['x_n'] = net_cost['x_n1']\n",
    "        net_cost['y_n'] = 0 # 초기화해주지 않으면 엄청 늘어나버린다.\n",
    "        net_cost['Direction'] = 0\n",
    "        iteration +=1"
   ]
  },
  {
   "cell_type": "code",
   "execution_count": 27,
   "id": "c0af46e5-2de7-46f2-8ee8-bc9360570fa7",
   "metadata": {
    "execution": {
     "iopub.execute_input": "2022-06-08T06:21:18.043721Z",
     "iopub.status.busy": "2022-06-08T06:21:18.043721Z",
     "iopub.status.idle": "2022-06-08T06:21:18.063668Z",
     "shell.execute_reply": "2022-06-08T06:21:18.061673Z",
     "shell.execute_reply.started": "2022-06-08T06:21:18.043721Z"
    },
    "tags": []
   },
   "outputs": [
    {
     "data": {
      "text/plain": [
       "0"
      ]
     },
     "execution_count": 27,
     "metadata": {},
     "output_type": "execute_result"
    }
   ],
   "source": []
  },
  {
   "cell_type": "code",
   "execution_count": null,
   "id": "0c1f17f1-bd0f-4881-ab15-863c776660af",
   "metadata": {
    "execution": {
     "iopub.status.busy": "2022-06-08T06:19:57.330119Z",
     "iopub.status.idle": "2022-06-08T06:19:57.330119Z",
     "shell.execute_reply": "2022-06-08T06:19:57.330119Z"
    },
    "tags": []
   },
   "outputs": [],
   "source": [
    "sum(net_cost['y_n'])"
   ]
  },
  {
   "cell_type": "code",
   "execution_count": null,
   "id": "29eb5c79-b53e-439b-a69a-b81639d5beb1",
   "metadata": {
    "execution": {
     "iopub.status.busy": "2022-06-08T06:19:57.330119Z",
     "iopub.status.idle": "2022-06-08T06:19:57.330119Z",
     "shell.execute_reply": "2022-06-08T06:19:57.330119Z"
    },
    "tags": []
   },
   "outputs": [],
   "source": [
    "sum(net_cost['x_n1'])"
   ]
  },
  {
   "cell_type": "markdown",
   "id": "397bc7dd-9bd9-47a3-9ade-ed38e727b960",
   "metadata": {},
   "source": [
    "# Save UE Result"
   ]
  },
  {
   "cell_type": "code",
   "execution_count": null,
   "id": "5b4a2299-f03e-4041-9c6a-59a652e00438",
   "metadata": {
    "execution": {
     "iopub.status.busy": "2022-06-08T06:19:57.330119Z",
     "iopub.status.idle": "2022-06-08T06:19:57.330119Z",
     "shell.execute_reply": "2022-06-08T06:19:57.330119Z"
    },
    "tags": []
   },
   "outputs": [],
   "source": [
    "result_file_name = 'UE_result.csv'\n",
    "result_file_path = os.path.join(data_dir, result_file_name)"
   ]
  },
  {
   "cell_type": "code",
   "execution_count": null,
   "id": "8a1b5725-985c-4b88-acbf-f30b5da1d044",
   "metadata": {
    "execution": {
     "iopub.status.busy": "2022-06-08T06:19:57.330119Z",
     "iopub.status.idle": "2022-06-08T06:19:57.330119Z",
     "shell.execute_reply": "2022-06-08T06:19:57.330119Z"
    },
    "tags": []
   },
   "outputs": [],
   "source": [
    "net_cost.to_csv(result_file_path, encoding = 'UTF-8')"
   ]
  }
 ],
 "metadata": {
  "kernelspec": {
   "display_name": "Python 3",
   "language": "python",
   "name": "python3"
  },
  "language_info": {
   "codemirror_mode": {
    "name": "ipython",
    "version": 3
   },
   "file_extension": ".py",
   "mimetype": "text/x-python",
   "name": "python",
   "nbconvert_exporter": "python",
   "pygments_lexer": "ipython3",
   "version": "3.8.8"
  }
 },
 "nbformat": 4,
 "nbformat_minor": 5
}
