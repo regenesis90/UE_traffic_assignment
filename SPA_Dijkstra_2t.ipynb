{
 "cells": [
  {
   "cell_type": "markdown",
   "id": "e65b11d6-2d5a-4b9d-8bc0-d1a23523b6f4",
   "metadata": {},
   "source": [
    "# Imports"
   ]
  },
  {
   "cell_type": "code",
   "execution_count": 16,
   "id": "91bcdd22-a42e-402b-b776-07040d40a8a3",
   "metadata": {
    "execution": {
     "iopub.execute_input": "2022-06-10T05:00:20.937801Z",
     "iopub.status.busy": "2022-06-10T05:00:20.936803Z",
     "iopub.status.idle": "2022-06-10T05:00:20.946434Z",
     "shell.execute_reply": "2022-06-10T05:00:20.945435Z",
     "shell.execute_reply.started": "2022-06-10T05:00:20.937801Z"
    },
    "tags": []
   },
   "outputs": [],
   "source": [
    "import pandas as pd\n",
    "import numpy as np\n",
    "from numpy import Inf\n",
    "\n",
    "import os\n",
    "\n",
    "from tqdm import tqdm"
   ]
  },
  {
   "cell_type": "markdown",
   "id": "10b675d2-607f-4944-b249-46710190ee5e",
   "metadata": {},
   "source": [
    "# Load Dataset"
   ]
  },
  {
   "cell_type": "code",
   "execution_count": 17,
   "id": "61866b46-60a3-4e47-a09c-ccb801523249",
   "metadata": {
    "execution": {
     "iopub.execute_input": "2022-06-10T05:00:20.947429Z",
     "iopub.status.busy": "2022-06-10T05:00:20.947429Z",
     "iopub.status.idle": "2022-06-10T05:00:21.007926Z",
     "shell.execute_reply": "2022-06-10T05:00:21.006928Z",
     "shell.execute_reply.started": "2022-06-10T05:00:20.947429Z"
    },
    "tags": []
   },
   "outputs": [],
   "source": [
    "data_dir = 'dataset'"
   ]
  },
  {
   "cell_type": "code",
   "execution_count": 18,
   "id": "4944b894-a436-49d5-8241-1a356a9fa1b7",
   "metadata": {
    "execution": {
     "iopub.execute_input": "2022-06-10T05:00:21.008923Z",
     "iopub.status.busy": "2022-06-10T05:00:21.008923Z",
     "iopub.status.idle": "2022-06-10T05:00:21.024730Z",
     "shell.execute_reply": "2022-06-10T05:00:21.022738Z",
     "shell.execute_reply.started": "2022-06-10T05:00:21.008923Z"
    },
    "tags": []
   },
   "outputs": [],
   "source": [
    "network_file = 'Network.csv'\n",
    "network_path = os.path.join(data_dir, network_file)"
   ]
  },
  {
   "cell_type": "code",
   "execution_count": 19,
   "id": "5fdc3d8c-8ec0-448a-b020-899a2c5b3489",
   "metadata": {
    "execution": {
     "iopub.execute_input": "2022-06-10T05:00:21.026725Z",
     "iopub.status.busy": "2022-06-10T05:00:21.025728Z",
     "iopub.status.idle": "2022-06-10T05:00:21.040271Z",
     "shell.execute_reply": "2022-06-10T05:00:21.038263Z",
     "shell.execute_reply.started": "2022-06-10T05:00:21.026725Z"
    },
    "tags": []
   },
   "outputs": [],
   "source": [
    "network = pd.read_csv(network_path, encoding = 'cp949')"
   ]
  },
  {
   "cell_type": "code",
   "execution_count": 20,
   "id": "4cda3b1b-b244-4918-a58b-366185993d2d",
   "metadata": {
    "execution": {
     "iopub.execute_input": "2022-06-10T05:00:21.041783Z",
     "iopub.status.busy": "2022-06-10T05:00:21.041783Z",
     "iopub.status.idle": "2022-06-10T05:00:21.070178Z",
     "shell.execute_reply": "2022-06-10T05:00:21.070178Z",
     "shell.execute_reply.started": "2022-06-10T05:00:21.041783Z"
    },
    "tags": []
   },
   "outputs": [
    {
     "data": {
      "text/html": [
       "<div>\n",
       "<style scoped>\n",
       "    .dataframe tbody tr th:only-of-type {\n",
       "        vertical-align: middle;\n",
       "    }\n",
       "\n",
       "    .dataframe tbody tr th {\n",
       "        vertical-align: top;\n",
       "    }\n",
       "\n",
       "    .dataframe thead th {\n",
       "        text-align: right;\n",
       "    }\n",
       "</style>\n",
       "<table border=\"1\" class=\"dataframe\">\n",
       "  <thead>\n",
       "    <tr style=\"text-align: right;\">\n",
       "      <th></th>\n",
       "      <th>Init node</th>\n",
       "      <th>Term node</th>\n",
       "      <th>Free Flow Time</th>\n",
       "      <th>Capacity</th>\n",
       "      <th>Length</th>\n",
       "      <th>B</th>\n",
       "      <th>Power</th>\n",
       "      <th>Speed.limit</th>\n",
       "      <th>Toll1</th>\n",
       "      <th>Toll2</th>\n",
       "      <th>Type</th>\n",
       "    </tr>\n",
       "  </thead>\n",
       "  <tbody>\n",
       "    <tr>\n",
       "      <th>0</th>\n",
       "      <td>1</td>\n",
       "      <td>2</td>\n",
       "      <td>6</td>\n",
       "      <td>25900.20064</td>\n",
       "      <td>6</td>\n",
       "      <td>0.15</td>\n",
       "      <td>4</td>\n",
       "      <td>0</td>\n",
       "      <td>0</td>\n",
       "      <td>0</td>\n",
       "      <td>1</td>\n",
       "    </tr>\n",
       "    <tr>\n",
       "      <th>1</th>\n",
       "      <td>1</td>\n",
       "      <td>3</td>\n",
       "      <td>4</td>\n",
       "      <td>23403.47319</td>\n",
       "      <td>4</td>\n",
       "      <td>0.15</td>\n",
       "      <td>4</td>\n",
       "      <td>0</td>\n",
       "      <td>0</td>\n",
       "      <td>0</td>\n",
       "      <td>1</td>\n",
       "    </tr>\n",
       "    <tr>\n",
       "      <th>2</th>\n",
       "      <td>2</td>\n",
       "      <td>1</td>\n",
       "      <td>6</td>\n",
       "      <td>25900.20064</td>\n",
       "      <td>6</td>\n",
       "      <td>0.15</td>\n",
       "      <td>4</td>\n",
       "      <td>0</td>\n",
       "      <td>0</td>\n",
       "      <td>0</td>\n",
       "      <td>1</td>\n",
       "    </tr>\n",
       "  </tbody>\n",
       "</table>\n",
       "</div>"
      ],
      "text/plain": [
       "   Init node   Term node   Free Flow Time     Capacity   Length      B  Power  \\\n",
       "0           1           2                6  25900.20064        6  0.15      4   \n",
       "1           1           3                4  23403.47319        4  0.15      4   \n",
       "2           2           1                6  25900.20064        6  0.15      4   \n",
       "\n",
       "   Speed.limit  Toll1  Toll2  Type  \n",
       "0            0      0      0     1  \n",
       "1            0      0      0     1  \n",
       "2            0      0      0     1  "
      ]
     },
     "execution_count": 20,
     "metadata": {},
     "output_type": "execute_result"
    }
   ],
   "source": [
    "network.head(3)"
   ]
  },
  {
   "cell_type": "code",
   "execution_count": 21,
   "id": "96ec9a11-2819-4352-a3b7-96895df7bcc5",
   "metadata": {
    "execution": {
     "iopub.execute_input": "2022-06-10T05:00:21.072662Z",
     "iopub.status.busy": "2022-06-10T05:00:21.071654Z",
     "iopub.status.idle": "2022-06-10T05:00:21.086224Z",
     "shell.execute_reply": "2022-06-10T05:00:21.085256Z",
     "shell.execute_reply.started": "2022-06-10T05:00:21.072662Z"
    },
    "tags": []
   },
   "outputs": [],
   "source": [
    "# O, D, FFT, Power, Capacity, B, ... 만 남기고 나머지는 지운다.\n",
    "# Volume, Cost라는 빈 컬럼을 생성한다.\n",
    "# cost를 구한다.\n",
    "net1 = pd.DataFrame({\n",
    "    'O' : network['Init node '],\n",
    "    'D' : network['Term node '],\n",
    "    'FFT' : network['Free Flow Time '],\n",
    "    'Power' : network['Power'],\n",
    "    'Capacity' : network['Capacity '],\n",
    "    'B' : network['B'],\n",
    "    'Length' : network['Length '],\n",
    "    'Link_num' : [i for i in range(1, len(network)+1)],\n",
    "    #'Toll' : network['Toll '],\n",
    "    'Volume' : 0,\n",
    "    'Cost' : network['Free Flow Time '],\n",
    "})"
   ]
  },
  {
   "cell_type": "code",
   "execution_count": 22,
   "id": "d9e15f06-2043-4481-be7e-0d33b1578f17",
   "metadata": {
    "execution": {
     "iopub.execute_input": "2022-06-10T05:00:21.089216Z",
     "iopub.status.busy": "2022-06-10T05:00:21.088219Z",
     "iopub.status.idle": "2022-06-10T05:00:21.120131Z",
     "shell.execute_reply": "2022-06-10T05:00:21.117621Z",
     "shell.execute_reply.started": "2022-06-10T05:00:21.089216Z"
    },
    "tags": []
   },
   "outputs": [
    {
     "data": {
      "text/html": [
       "<div>\n",
       "<style scoped>\n",
       "    .dataframe tbody tr th:only-of-type {\n",
       "        vertical-align: middle;\n",
       "    }\n",
       "\n",
       "    .dataframe tbody tr th {\n",
       "        vertical-align: top;\n",
       "    }\n",
       "\n",
       "    .dataframe thead th {\n",
       "        text-align: right;\n",
       "    }\n",
       "</style>\n",
       "<table border=\"1\" class=\"dataframe\">\n",
       "  <thead>\n",
       "    <tr style=\"text-align: right;\">\n",
       "      <th></th>\n",
       "      <th>O</th>\n",
       "      <th>D</th>\n",
       "      <th>FFT</th>\n",
       "      <th>Power</th>\n",
       "      <th>Capacity</th>\n",
       "      <th>B</th>\n",
       "      <th>Length</th>\n",
       "      <th>Link_num</th>\n",
       "      <th>Volume</th>\n",
       "      <th>Cost</th>\n",
       "    </tr>\n",
       "  </thead>\n",
       "  <tbody>\n",
       "    <tr>\n",
       "      <th>0</th>\n",
       "      <td>1</td>\n",
       "      <td>2</td>\n",
       "      <td>6</td>\n",
       "      <td>4</td>\n",
       "      <td>25900.200640</td>\n",
       "      <td>0.15</td>\n",
       "      <td>6</td>\n",
       "      <td>1</td>\n",
       "      <td>0</td>\n",
       "      <td>6</td>\n",
       "    </tr>\n",
       "    <tr>\n",
       "      <th>1</th>\n",
       "      <td>1</td>\n",
       "      <td>3</td>\n",
       "      <td>4</td>\n",
       "      <td>4</td>\n",
       "      <td>23403.473190</td>\n",
       "      <td>0.15</td>\n",
       "      <td>4</td>\n",
       "      <td>2</td>\n",
       "      <td>0</td>\n",
       "      <td>4</td>\n",
       "    </tr>\n",
       "    <tr>\n",
       "      <th>2</th>\n",
       "      <td>2</td>\n",
       "      <td>1</td>\n",
       "      <td>6</td>\n",
       "      <td>4</td>\n",
       "      <td>25900.200640</td>\n",
       "      <td>0.15</td>\n",
       "      <td>6</td>\n",
       "      <td>3</td>\n",
       "      <td>0</td>\n",
       "      <td>6</td>\n",
       "    </tr>\n",
       "    <tr>\n",
       "      <th>3</th>\n",
       "      <td>2</td>\n",
       "      <td>6</td>\n",
       "      <td>5</td>\n",
       "      <td>4</td>\n",
       "      <td>4958.180928</td>\n",
       "      <td>0.15</td>\n",
       "      <td>5</td>\n",
       "      <td>4</td>\n",
       "      <td>0</td>\n",
       "      <td>5</td>\n",
       "    </tr>\n",
       "    <tr>\n",
       "      <th>4</th>\n",
       "      <td>3</td>\n",
       "      <td>1</td>\n",
       "      <td>4</td>\n",
       "      <td>4</td>\n",
       "      <td>23403.473190</td>\n",
       "      <td>0.15</td>\n",
       "      <td>4</td>\n",
       "      <td>5</td>\n",
       "      <td>0</td>\n",
       "      <td>4</td>\n",
       "    </tr>\n",
       "    <tr>\n",
       "      <th>...</th>\n",
       "      <td>...</td>\n",
       "      <td>...</td>\n",
       "      <td>...</td>\n",
       "      <td>...</td>\n",
       "      <td>...</td>\n",
       "      <td>...</td>\n",
       "      <td>...</td>\n",
       "      <td>...</td>\n",
       "      <td>...</td>\n",
       "      <td>...</td>\n",
       "    </tr>\n",
       "    <tr>\n",
       "      <th>71</th>\n",
       "      <td>23</td>\n",
       "      <td>22</td>\n",
       "      <td>4</td>\n",
       "      <td>2</td>\n",
       "      <td>5000.000000</td>\n",
       "      <td>0.25</td>\n",
       "      <td>4</td>\n",
       "      <td>72</td>\n",
       "      <td>0</td>\n",
       "      <td>4</td>\n",
       "    </tr>\n",
       "    <tr>\n",
       "      <th>72</th>\n",
       "      <td>23</td>\n",
       "      <td>24</td>\n",
       "      <td>2</td>\n",
       "      <td>2</td>\n",
       "      <td>5078.508436</td>\n",
       "      <td>0.25</td>\n",
       "      <td>2</td>\n",
       "      <td>73</td>\n",
       "      <td>0</td>\n",
       "      <td>2</td>\n",
       "    </tr>\n",
       "    <tr>\n",
       "      <th>73</th>\n",
       "      <td>24</td>\n",
       "      <td>13</td>\n",
       "      <td>4</td>\n",
       "      <td>2</td>\n",
       "      <td>5091.256152</td>\n",
       "      <td>0.25</td>\n",
       "      <td>4</td>\n",
       "      <td>74</td>\n",
       "      <td>0</td>\n",
       "      <td>4</td>\n",
       "    </tr>\n",
       "    <tr>\n",
       "      <th>74</th>\n",
       "      <td>24</td>\n",
       "      <td>21</td>\n",
       "      <td>3</td>\n",
       "      <td>2</td>\n",
       "      <td>4885.357564</td>\n",
       "      <td>0.25</td>\n",
       "      <td>3</td>\n",
       "      <td>75</td>\n",
       "      <td>0</td>\n",
       "      <td>3</td>\n",
       "    </tr>\n",
       "    <tr>\n",
       "      <th>75</th>\n",
       "      <td>24</td>\n",
       "      <td>23</td>\n",
       "      <td>2</td>\n",
       "      <td>2</td>\n",
       "      <td>5078.508436</td>\n",
       "      <td>0.25</td>\n",
       "      <td>2</td>\n",
       "      <td>76</td>\n",
       "      <td>0</td>\n",
       "      <td>2</td>\n",
       "    </tr>\n",
       "  </tbody>\n",
       "</table>\n",
       "<p>76 rows × 10 columns</p>\n",
       "</div>"
      ],
      "text/plain": [
       "     O   D  FFT  Power      Capacity     B  Length  Link_num  Volume  Cost\n",
       "0    1   2    6      4  25900.200640  0.15       6         1       0     6\n",
       "1    1   3    4      4  23403.473190  0.15       4         2       0     4\n",
       "2    2   1    6      4  25900.200640  0.15       6         3       0     6\n",
       "3    2   6    5      4   4958.180928  0.15       5         4       0     5\n",
       "4    3   1    4      4  23403.473190  0.15       4         5       0     4\n",
       "..  ..  ..  ...    ...           ...   ...     ...       ...     ...   ...\n",
       "71  23  22    4      2   5000.000000  0.25       4        72       0     4\n",
       "72  23  24    2      2   5078.508436  0.25       2        73       0     2\n",
       "73  24  13    4      2   5091.256152  0.25       4        74       0     4\n",
       "74  24  21    3      2   4885.357564  0.25       3        75       0     3\n",
       "75  24  23    2      2   5078.508436  0.25       2        76       0     2\n",
       "\n",
       "[76 rows x 10 columns]"
      ]
     },
     "execution_count": 22,
     "metadata": {},
     "output_type": "execute_result"
    }
   ],
   "source": [
    "net1"
   ]
  },
  {
   "cell_type": "markdown",
   "id": "44148fb6-283e-473a-9bd5-97eb29dadcb2",
   "metadata": {},
   "source": [
    "# Make Graph"
   ]
  },
  {
   "cell_type": "code",
   "execution_count": 23,
   "id": "ee396e29-4e2d-4a96-b334-710ca0f898af",
   "metadata": {
    "execution": {
     "iopub.execute_input": "2022-06-10T05:00:21.121156Z",
     "iopub.status.busy": "2022-06-10T05:00:21.120131Z",
     "iopub.status.idle": "2022-06-10T05:00:21.134631Z",
     "shell.execute_reply": "2022-06-10T05:00:21.133637Z",
     "shell.execute_reply.started": "2022-06-10T05:00:21.121156Z"
    },
    "tags": []
   },
   "outputs": [],
   "source": [
    "def make_graph(network):\n",
    "    \"\"\"네트워크 데이터프레임을 투입하여 graph 객체를 만들어주는 함수\"\"\"\n",
    "    origin_array = np.array(network['O'].unique())\n",
    "    \n",
    "    graph = {} # 빈 딕셔너리 생성\n",
    "\n",
    "    for origin in origin_array:\n",
    "    \n",
    "        origin_rows = network[network['O'] == origin]\n",
    "    \n",
    "        destin_array = np.array(origin_rows['D'])\n",
    "        link_num_array = np.array(origin_rows['Link_num'])\n",
    "        cost_array = np.array(origin_rows['Cost'])\n",
    "    \n",
    "        tup_list = []\n",
    "    \n",
    "        for destin, link_num, cost in zip(destin_array, link_num_array, cost_array):\n",
    "            #tup_list.append((destin, link_num, cost))\n",
    "            tup_list.append((destin, link_num, cost))\n",
    "    \n",
    "        graph[origin] = tup_list\n",
    "    \n",
    "    return graph"
   ]
  },
  {
   "cell_type": "code",
   "execution_count": 24,
   "id": "e503e379-c29c-46a7-b66f-94201a1b9c38",
   "metadata": {
    "execution": {
     "iopub.execute_input": "2022-06-10T05:00:21.138623Z",
     "iopub.status.busy": "2022-06-10T05:00:21.137647Z",
     "iopub.status.idle": "2022-06-10T05:00:21.180314Z",
     "shell.execute_reply": "2022-06-10T05:00:21.180314Z",
     "shell.execute_reply.started": "2022-06-10T05:00:21.138623Z"
    },
    "tags": []
   },
   "outputs": [
    {
     "data": {
      "text/plain": [
       "{1: [(2, 1, 6), (3, 2, 4)],\n",
       " 2: [(1, 3, 6), (6, 4, 5)],\n",
       " 3: [(1, 5, 4), (4, 6, 4), (12, 7, 4)],\n",
       " 4: [(3, 8, 4), (5, 9, 2), (11, 10, 6)],\n",
       " 5: [(4, 11, 2), (6, 12, 4), (9, 13, 5)],\n",
       " 6: [(2, 14, 5), (5, 15, 4), (8, 16, 2)],\n",
       " 7: [(8, 17, 3), (18, 18, 2)],\n",
       " 8: [(6, 19, 2), (7, 20, 3), (9, 21, 10), (16, 22, 5)],\n",
       " 9: [(5, 23, 5), (8, 24, 10), (10, 25, 3)],\n",
       " 10: [(9, 26, 3), (11, 27, 5), (15, 28, 6), (16, 29, 4), (17, 30, 8)],\n",
       " 11: [(4, 31, 6), (10, 32, 5), (12, 33, 6), (14, 34, 4)],\n",
       " 12: [(3, 35, 4), (11, 36, 6), (13, 37, 3)],\n",
       " 13: [(12, 38, 3), (24, 39, 4)],\n",
       " 14: [(11, 40, 4), (15, 41, 5), (23, 42, 4)],\n",
       " 15: [(10, 43, 6), (14, 44, 5), (19, 45, 3), (22, 46, 3)],\n",
       " 16: [(8, 47, 5), (10, 48, 4), (17, 49, 2), (18, 50, 3)],\n",
       " 17: [(10, 51, 8), (16, 52, 2), (19, 53, 2)],\n",
       " 18: [(7, 54, 2), (16, 55, 3), (20, 56, 4)],\n",
       " 19: [(15, 57, 3), (17, 58, 2), (20, 59, 4)],\n",
       " 20: [(18, 60, 4), (19, 61, 4), (21, 62, 6), (22, 63, 5)],\n",
       " 21: [(20, 64, 6), (22, 65, 2), (24, 66, 3)],\n",
       " 22: [(15, 67, 3), (20, 68, 5), (21, 69, 2), (23, 70, 4)],\n",
       " 23: [(14, 71, 4), (22, 72, 4), (24, 73, 2)],\n",
       " 24: [(13, 74, 4), (21, 75, 3), (23, 76, 2)]}"
      ]
     },
     "execution_count": 24,
     "metadata": {},
     "output_type": "execute_result"
    }
   ],
   "source": [
    "graph = make_graph(net1)\n",
    "\n",
    "graph # Node_from : [(Node_to, Link_num, Cost)]"
   ]
  },
  {
   "cell_type": "code",
   "execution_count": 226,
   "id": "b0067281-3de0-45df-a84c-b2b93b44f463",
   "metadata": {
    "execution": {
     "iopub.execute_input": "2022-06-10T06:29:38.387974Z",
     "iopub.status.busy": "2022-06-10T06:29:38.387974Z",
     "iopub.status.idle": "2022-06-10T06:29:38.402295Z",
     "shell.execute_reply": "2022-06-10T06:29:38.401295Z",
     "shell.execute_reply.started": "2022-06-10T06:29:38.387974Z"
    },
    "tags": []
   },
   "outputs": [],
   "source": [
    "mini_graph = {\n",
    "    0: [(1, 'A', 1)],\n",
    "    1: [(0, 'B', 1), (2, 'C', 2), (3, 'D', 3)],\n",
    "    2: [(1, 'E', 2), (3, 'F', 1), (4, 'G', 5)],\n",
    "    3: [(1, 'H', 3), (2, 'I', 1), (4, 'J', 1)],\n",
    "    4: [(2, 'K', 5), (3, 'L', 1)]\n",
    "}"
   ]
  },
  {
   "cell_type": "markdown",
   "id": "442cd3e2-6830-4333-9cb2-b1c93c247147",
   "metadata": {},
   "source": [
    "# Dijkstra"
   ]
  },
  {
   "cell_type": "code",
   "execution_count": 162,
   "id": "0f3a534b-b671-4902-afdf-3a10f38ef44d",
   "metadata": {
    "execution": {
     "iopub.execute_input": "2022-06-10T06:00:57.854137Z",
     "iopub.status.busy": "2022-06-10T06:00:57.854137Z",
     "iopub.status.idle": "2022-06-10T06:00:57.862730Z",
     "shell.execute_reply": "2022-06-10T06:00:57.861731Z",
     "shell.execute_reply.started": "2022-06-10T06:00:57.854137Z"
    },
    "tags": []
   },
   "outputs": [],
   "source": [
    "# takes the graph and the starting node\n",
    "# returns a list of distances from the starting node to every other node\n",
    "def Dijkstras(graph, origin):\n",
    "    \"\"\"네트워크 그래프(graph)에 대하여, \n",
    "    시작 노드(root)으로부터 다른 모든 노드까지의 소요비용 및 경유링크 반환\"\"\"\n",
    "    \n",
    "    n = len(graph) #> Node 개수\n",
    "    \n",
    "    start_point = list(graph.keys())[0]\n",
    "    end_point = list(graph.keys())[-1]\n",
    "    \n",
    "    dist = [Inf for _ in range(n)] #> 노드 수와 동일한 \"디스턴스\" 목록을 만들고 각 값을 무한대로 초기화합니다.\n",
    "    dist[origin-start_point] = 0 #> 시작 노드에 대한 \"거리\"를 0으로 설정합니다.\n",
    "    visited = [False for _ in range(n)] #> 아직 방문한 적이 없기 때문에 각 노드에 대해 false로 설정된 \"방문한\" 노드 목록을 만듭니다.\n",
    "    \n",
    "    #path_list = []\n",
    "    \n",
    "    # loop through all the nodes\n",
    "    for _ in range(start_point, end_point+1): # 모든 노드를 루프합니다.\n",
    "        \n",
    "        start = -1 # \"start\" our node as -1 (따라서 우리는 아직 start node를 갖고 있지 않음)\n",
    "        # 모든 노드에 대해서 visitation status 방문 현황을 루프를 돌며 확인한다 :: 한번 방문한 노드를 돌아다니는 cyclic flow 방지\n",
    "        for i in range(start_point, end_point+1): \n",
    "            # 모든 노드를 다시 루프하여 최단 거리이며 아직 방문하지 않은 노드를 선택합니다.\n",
    "            # 만약 node i+1에 아직 방문하지 않았다면, 또는 i+1 노드까지의 거리가 \"시작\"노드까지의 거리보다 작을 경우\n",
    "            if not visited[i-start_point] and (start == -1 or dist[i-start_point] < dist[start]):\n",
    "                start = i-start_point #해당 노드를 방문한 노드로 설정합니다.\n",
    "        \n",
    "        # 만약 모든 노드에 방문되었거나, 이 노드에 우리가 접근할 수 없다면\n",
    "        if dist[start] == Inf:\n",
    "            #print('Break!')\n",
    "            break\n",
    "            \n",
    "        # set the node as visited :: 이 노드를 방문했다면 False를 True로 바꾼다.\n",
    "        visited[start] = True # 거리 목록의 거리를 해당 노드까지의 거리로 설정합니다.\n",
    "        each_path = []\n",
    "        \n",
    "        # 시작 노드에서 각 노드까지 거리를 현재 해당 노드에 대한 거리와 비교\n",
    "        for end, link_num, cost in graph[start+start_point]:\n",
    "            if dist[start] + cost < dist[end-start_point]:\n",
    "                dist[end-start_point] = dist[start] + cost\n",
    "                #print(graph[])\n",
    "    \n",
    "    return dist#, path_list"
   ]
  },
  {
   "cell_type": "code",
   "execution_count": 166,
   "id": "7137f306-5daa-4cff-8560-2c45f0f2ff27",
   "metadata": {
    "execution": {
     "iopub.execute_input": "2022-06-10T06:01:06.854120Z",
     "iopub.status.busy": "2022-06-10T06:01:06.854120Z",
     "iopub.status.idle": "2022-06-10T06:01:06.868642Z",
     "shell.execute_reply": "2022-06-10T06:01:06.867646Z",
     "shell.execute_reply.started": "2022-06-10T06:01:06.854120Z"
    },
    "tags": []
   },
   "outputs": [
    {
     "data": {
      "text/plain": [
       "[4, 3, 1, 0, 1]"
      ]
     },
     "execution_count": 166,
     "metadata": {},
     "output_type": "execute_result"
    }
   ],
   "source": [
    "Dijkstras(mini_graph, 3)"
   ]
  },
  {
   "cell_type": "code",
   "execution_count": 28,
   "id": "8a05a3c7-a4ca-4ad2-8d67-78d93affadab",
   "metadata": {
    "execution": {
     "iopub.execute_input": "2022-06-10T05:00:21.244760Z",
     "iopub.status.busy": "2022-06-10T05:00:21.244760Z",
     "iopub.status.idle": "2022-06-10T05:00:21.261185Z",
     "shell.execute_reply": "2022-06-10T05:00:21.260185Z",
     "shell.execute_reply.started": "2022-06-10T05:00:21.244760Z"
    },
    "tags": []
   },
   "outputs": [
    {
     "data": {
      "text/plain": [
       "{0: [(1, 1, 1)],\n",
       " 1: [(0, 2, 1), (2, 3, 2), (3, 4, 3)],\n",
       " 2: [(1, 5, 2), (3, 6, 1), (4, 7, 5)],\n",
       " 3: [(1, 8, 3), (2, 9, 1), (4, 10, 1)],\n",
       " 4: [(2, 11, 5), (3, 12, 1)]}"
      ]
     },
     "execution_count": 28,
     "metadata": {},
     "output_type": "execute_result"
    }
   ],
   "source": [
    "mini_graph"
   ]
  },
  {
   "cell_type": "code",
   "execution_count": 245,
   "id": "30f641fd-b51f-4ece-afb4-a82deaa84a09",
   "metadata": {
    "execution": {
     "iopub.execute_input": "2022-06-10T06:45:12.437070Z",
     "iopub.status.busy": "2022-06-10T06:45:12.435713Z",
     "iopub.status.idle": "2022-06-10T06:45:12.447586Z",
     "shell.execute_reply": "2022-06-10T06:45:12.446557Z",
     "shell.execute_reply.started": "2022-06-10T06:45:12.437070Z"
    },
    "tags": []
   },
   "outputs": [],
   "source": [
    "def naive_dijkstras(graph, root):\n",
    "    n = len(graph)\n",
    "    # initialize distance list as all infinities\n",
    "    dist = [Inf for _ in range(n)]\n",
    "    path = [[] for _ in range(n)]\n",
    "    # set the distance for the root to be 0\n",
    "    dist[root] = 0\n",
    "    # initialize list of visited nodes\n",
    "    visited = [False for _ in range(n)]\n",
    "    \n",
    "    # loop through all the nodes\n",
    "    for k in range(n): # \"start\" our node as -1 (so we don't have a start node yet)\n",
    "        \n",
    "        path[k].append(root)\n",
    "        \n",
    "        u = -1\n",
    "        # 모든 노드에 대해서 visitation status 방문 현황을 루프를 돌며 확인한다 :: 한번 방문한 노드를 돌아다니는 cyclic flow 방지\n",
    "        for i in range(n):\n",
    "            # 모든 노드를 다시 루프하여 최단 거리이며 아직 방문하지 않은 노드를 선택합니다.\n",
    "            # 만약 node i+1에 아직 방문하지 않았다면, 또는 i+1 노드까지의 거리가 \"시작\"노드까지의 거리보다 작을 경우\n",
    "            if not visited[i] and (u == -1 or dist[i] < dist[u]):\n",
    "                u = i\n",
    "                \n",
    "        # all the nodes have been visited or we can't reach this node\n",
    "        if dist[u] == Inf:\n",
    "            break\n",
    "        # set the node as visited\n",
    "        visited[u] = True # 거리 목록의 거리를 해당 노드까지의 거리로 설정합니다.\n",
    "        \n",
    "        # 시작 노드에서 각 노드까지 거리를 현재 해당 노드에 대한 거리와 비교\n",
    "        for v, num, l in graph[u]:\n",
    "            if dist[u] + l < dist[v]:\n",
    "                dist[v] = dist[u] + l\n",
    "                print(u, v)\n",
    "        \n",
    "    return dist #, path"
   ]
  },
  {
   "cell_type": "code",
   "execution_count": 246,
   "id": "5ae5d584-5157-4978-9e99-8dcd754d8321",
   "metadata": {
    "execution": {
     "iopub.execute_input": "2022-06-10T06:45:12.890231Z",
     "iopub.status.busy": "2022-06-10T06:45:12.890231Z",
     "iopub.status.idle": "2022-06-10T06:45:12.910186Z",
     "shell.execute_reply": "2022-06-10T06:45:12.909185Z",
     "shell.execute_reply.started": "2022-06-10T06:45:12.890231Z"
    },
    "tags": []
   },
   "outputs": [
    {
     "name": "stdout",
     "output_type": "stream",
     "text": [
      "0 1\n",
      "1 2\n",
      "1 3\n",
      "2 4\n",
      "3 4\n"
     ]
    },
    {
     "data": {
      "text/plain": [
       "([0, 1, 3, 4, 5], [[0], [0], [0], [0], [0]])"
      ]
     },
     "execution_count": 246,
     "metadata": {},
     "output_type": "execute_result"
    }
   ],
   "source": [
    "naive_dijkstras(mini_graph, 0)\n",
    "# 0-> 1까지 비용 1 걸린다.\n",
    "# 0->2까지 "
   ]
  },
  {
   "cell_type": "code",
   "execution_count": 187,
   "id": "49fb47c5-e08e-4ba0-ba4d-4e0e2a4e52a1",
   "metadata": {
    "execution": {
     "iopub.execute_input": "2022-06-10T06:07:15.434897Z",
     "iopub.status.busy": "2022-06-10T06:07:15.434897Z",
     "iopub.status.idle": "2022-06-10T06:07:15.452687Z",
     "shell.execute_reply": "2022-06-10T06:07:15.451687Z",
     "shell.execute_reply.started": "2022-06-10T06:07:15.434897Z"
    },
    "tags": []
   },
   "outputs": [
    {
     "data": {
      "text/plain": [
       "[(2, 1, 6), (3, 2, 4)]"
      ]
     },
     "execution_count": 187,
     "metadata": {},
     "output_type": "execute_result"
    }
   ],
   "source": [
    "graph[1]"
   ]
  }
 ],
 "metadata": {
  "kernelspec": {
   "display_name": "Python 3",
   "language": "python",
   "name": "python3"
  },
  "language_info": {
   "codemirror_mode": {
    "name": "ipython",
    "version": 3
   },
   "file_extension": ".py",
   "mimetype": "text/x-python",
   "name": "python",
   "nbconvert_exporter": "python",
   "pygments_lexer": "ipython3",
   "version": "3.8.8"
  }
 },
 "nbformat": 4,
 "nbformat_minor": 5
}
