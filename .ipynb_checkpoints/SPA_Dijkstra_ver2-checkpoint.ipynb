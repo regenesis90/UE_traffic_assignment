{
 "cells": [
  {
   "cell_type": "markdown",
   "id": "293307c7-331c-49c3-9cd3-562a453b34f5",
   "metadata": {},
   "source": [
    "# Imports"
   ]
  },
  {
   "cell_type": "code",
   "execution_count": 1,
   "id": "08ba568a-7475-402e-877c-421d0390f4d9",
   "metadata": {
    "execution": {
     "iopub.execute_input": "2022-06-13T01:11:50.839057Z",
     "iopub.status.busy": "2022-06-13T01:11:50.838059Z",
     "iopub.status.idle": "2022-06-13T01:11:53.280000Z",
     "shell.execute_reply": "2022-06-13T01:11:53.280000Z",
     "shell.execute_reply.started": "2022-06-13T01:11:50.838059Z"
    },
    "tags": []
   },
   "outputs": [],
   "source": [
    "import pandas as pd\n",
    "import numpy as np\n",
    "from numpy import Inf\n",
    "\n",
    "import os\n",
    "\n",
    "from tqdm import tqdm"
   ]
  },
  {
   "cell_type": "markdown",
   "id": "1f544b50-933f-4cb3-bb74-f6c6ca3d1dc8",
   "metadata": {},
   "source": [
    "# Load Dataset"
   ]
  },
  {
   "cell_type": "code",
   "execution_count": 2,
   "id": "afb8479f-b83d-4bba-b786-a59197407734",
   "metadata": {
    "execution": {
     "iopub.execute_input": "2022-06-13T01:11:53.281960Z",
     "iopub.status.busy": "2022-06-13T01:11:53.281960Z",
     "iopub.status.idle": "2022-06-13T01:11:53.299913Z",
     "shell.execute_reply": "2022-06-13T01:11:53.298921Z",
     "shell.execute_reply.started": "2022-06-13T01:11:53.281960Z"
    },
    "tags": []
   },
   "outputs": [],
   "source": [
    "data_dir = 'dataset'"
   ]
  },
  {
   "cell_type": "code",
   "execution_count": 3,
   "id": "8681e2c8-2493-4560-8102-64b2429d3414",
   "metadata": {
    "execution": {
     "iopub.execute_input": "2022-06-13T01:11:53.301937Z",
     "iopub.status.busy": "2022-06-13T01:11:53.301937Z",
     "iopub.status.idle": "2022-06-13T01:11:53.312878Z",
     "shell.execute_reply": "2022-06-13T01:11:53.311880Z",
     "shell.execute_reply.started": "2022-06-13T01:11:53.301937Z"
    },
    "tags": []
   },
   "outputs": [],
   "source": [
    "network_file = 'Network.csv'\n",
    "network_path = os.path.join(data_dir, network_file)"
   ]
  },
  {
   "cell_type": "code",
   "execution_count": 4,
   "id": "dd5fb632-50f3-403d-b9f3-f1205220cd9f",
   "metadata": {
    "execution": {
     "iopub.execute_input": "2022-06-13T01:11:53.315869Z",
     "iopub.status.busy": "2022-06-13T01:11:53.314873Z",
     "iopub.status.idle": "2022-06-13T01:11:53.344233Z",
     "shell.execute_reply": "2022-06-13T01:11:53.343232Z",
     "shell.execute_reply.started": "2022-06-13T01:11:53.315869Z"
    },
    "tags": []
   },
   "outputs": [],
   "source": [
    "network = pd.read_csv(network_path, encoding = 'cp949')"
   ]
  },
  {
   "cell_type": "code",
   "execution_count": 5,
   "id": "6a679d1a-0933-474c-bfb9-3ddcffc3ed07",
   "metadata": {
    "execution": {
     "iopub.execute_input": "2022-06-13T01:11:53.344233Z",
     "iopub.status.busy": "2022-06-13T01:11:53.344233Z",
     "iopub.status.idle": "2022-06-13T01:11:53.393016Z",
     "shell.execute_reply": "2022-06-13T01:11:53.391056Z",
     "shell.execute_reply.started": "2022-06-13T01:11:53.344233Z"
    },
    "tags": []
   },
   "outputs": [
    {
     "data": {
      "text/html": [
       "<div>\n",
       "<style scoped>\n",
       "    .dataframe tbody tr th:only-of-type {\n",
       "        vertical-align: middle;\n",
       "    }\n",
       "\n",
       "    .dataframe tbody tr th {\n",
       "        vertical-align: top;\n",
       "    }\n",
       "\n",
       "    .dataframe thead th {\n",
       "        text-align: right;\n",
       "    }\n",
       "</style>\n",
       "<table border=\"1\" class=\"dataframe\">\n",
       "  <thead>\n",
       "    <tr style=\"text-align: right;\">\n",
       "      <th></th>\n",
       "      <th>Init node</th>\n",
       "      <th>Term node</th>\n",
       "      <th>Free Flow Time</th>\n",
       "      <th>Capacity</th>\n",
       "      <th>Length</th>\n",
       "      <th>B</th>\n",
       "      <th>Power</th>\n",
       "      <th>Speed.limit</th>\n",
       "      <th>Toll1</th>\n",
       "      <th>Toll2</th>\n",
       "      <th>Type</th>\n",
       "    </tr>\n",
       "  </thead>\n",
       "  <tbody>\n",
       "    <tr>\n",
       "      <th>0</th>\n",
       "      <td>1</td>\n",
       "      <td>2</td>\n",
       "      <td>6</td>\n",
       "      <td>25900.20064</td>\n",
       "      <td>6</td>\n",
       "      <td>0.15</td>\n",
       "      <td>4</td>\n",
       "      <td>0</td>\n",
       "      <td>0</td>\n",
       "      <td>0</td>\n",
       "      <td>1</td>\n",
       "    </tr>\n",
       "    <tr>\n",
       "      <th>1</th>\n",
       "      <td>1</td>\n",
       "      <td>3</td>\n",
       "      <td>4</td>\n",
       "      <td>23403.47319</td>\n",
       "      <td>4</td>\n",
       "      <td>0.15</td>\n",
       "      <td>4</td>\n",
       "      <td>0</td>\n",
       "      <td>0</td>\n",
       "      <td>0</td>\n",
       "      <td>1</td>\n",
       "    </tr>\n",
       "    <tr>\n",
       "      <th>2</th>\n",
       "      <td>2</td>\n",
       "      <td>1</td>\n",
       "      <td>6</td>\n",
       "      <td>25900.20064</td>\n",
       "      <td>6</td>\n",
       "      <td>0.15</td>\n",
       "      <td>4</td>\n",
       "      <td>0</td>\n",
       "      <td>0</td>\n",
       "      <td>0</td>\n",
       "      <td>1</td>\n",
       "    </tr>\n",
       "  </tbody>\n",
       "</table>\n",
       "</div>"
      ],
      "text/plain": [
       "   Init node   Term node   Free Flow Time     Capacity   Length      B  Power  \\\n",
       "0           1           2                6  25900.20064        6  0.15      4   \n",
       "1           1           3                4  23403.47319        4  0.15      4   \n",
       "2           2           1                6  25900.20064        6  0.15      4   \n",
       "\n",
       "   Speed.limit  Toll1  Toll2  Type  \n",
       "0            0      0      0     1  \n",
       "1            0      0      0     1  \n",
       "2            0      0      0     1  "
      ]
     },
     "execution_count": 5,
     "metadata": {},
     "output_type": "execute_result"
    }
   ],
   "source": [
    "network.head(3)"
   ]
  },
  {
   "cell_type": "code",
   "execution_count": 6,
   "id": "37ab7d7b-e17b-4325-b1e5-7fcce9fc836b",
   "metadata": {
    "execution": {
     "iopub.execute_input": "2022-06-13T01:11:53.394041Z",
     "iopub.status.busy": "2022-06-13T01:11:53.394041Z",
     "iopub.status.idle": "2022-06-13T01:11:53.406978Z",
     "shell.execute_reply": "2022-06-13T01:11:53.406017Z",
     "shell.execute_reply.started": "2022-06-13T01:11:53.394041Z"
    },
    "tags": []
   },
   "outputs": [],
   "source": [
    "# O, D, FFT, Power, Capacity, B, ... 만 남기고 나머지는 지운다.\n",
    "# Volume, Cost라는 빈 컬럼을 생성한다.\n",
    "# cost를 구한다.\n",
    "net1 = pd.DataFrame({\n",
    "    'O' : network['Init node '],\n",
    "    'D' : network['Term node '],\n",
    "    'FFT' : network['Free Flow Time '],\n",
    "    'Power' : network['Power'],\n",
    "    'Capacity' : network['Capacity '],\n",
    "    'B' : network['B'],\n",
    "    'Length' : network['Length '],\n",
    "    'Link_num' : [i for i in range(1, len(network)+1)],\n",
    "    #'Toll' : network['Toll '],\n",
    "    'Volume' : 0,\n",
    "    'Cost' : network['Free Flow Time '],\n",
    "})"
   ]
  },
  {
   "cell_type": "code",
   "execution_count": 7,
   "id": "a4da10c9-08bd-467f-a2a7-a9cdbb798a8e",
   "metadata": {
    "execution": {
     "iopub.execute_input": "2022-06-13T01:11:53.408973Z",
     "iopub.status.busy": "2022-06-13T01:11:53.408973Z",
     "iopub.status.idle": "2022-06-13T01:11:53.437506Z",
     "shell.execute_reply": "2022-06-13T01:11:53.437506Z",
     "shell.execute_reply.started": "2022-06-13T01:11:53.408973Z"
    },
    "tags": []
   },
   "outputs": [
    {
     "data": {
      "text/html": [
       "<div>\n",
       "<style scoped>\n",
       "    .dataframe tbody tr th:only-of-type {\n",
       "        vertical-align: middle;\n",
       "    }\n",
       "\n",
       "    .dataframe tbody tr th {\n",
       "        vertical-align: top;\n",
       "    }\n",
       "\n",
       "    .dataframe thead th {\n",
       "        text-align: right;\n",
       "    }\n",
       "</style>\n",
       "<table border=\"1\" class=\"dataframe\">\n",
       "  <thead>\n",
       "    <tr style=\"text-align: right;\">\n",
       "      <th></th>\n",
       "      <th>O</th>\n",
       "      <th>D</th>\n",
       "      <th>FFT</th>\n",
       "      <th>Power</th>\n",
       "      <th>Capacity</th>\n",
       "      <th>B</th>\n",
       "      <th>Length</th>\n",
       "      <th>Link_num</th>\n",
       "      <th>Volume</th>\n",
       "      <th>Cost</th>\n",
       "    </tr>\n",
       "  </thead>\n",
       "  <tbody>\n",
       "    <tr>\n",
       "      <th>0</th>\n",
       "      <td>1</td>\n",
       "      <td>2</td>\n",
       "      <td>6</td>\n",
       "      <td>4</td>\n",
       "      <td>25900.200640</td>\n",
       "      <td>0.15</td>\n",
       "      <td>6</td>\n",
       "      <td>1</td>\n",
       "      <td>0</td>\n",
       "      <td>6</td>\n",
       "    </tr>\n",
       "    <tr>\n",
       "      <th>1</th>\n",
       "      <td>1</td>\n",
       "      <td>3</td>\n",
       "      <td>4</td>\n",
       "      <td>4</td>\n",
       "      <td>23403.473190</td>\n",
       "      <td>0.15</td>\n",
       "      <td>4</td>\n",
       "      <td>2</td>\n",
       "      <td>0</td>\n",
       "      <td>4</td>\n",
       "    </tr>\n",
       "    <tr>\n",
       "      <th>2</th>\n",
       "      <td>2</td>\n",
       "      <td>1</td>\n",
       "      <td>6</td>\n",
       "      <td>4</td>\n",
       "      <td>25900.200640</td>\n",
       "      <td>0.15</td>\n",
       "      <td>6</td>\n",
       "      <td>3</td>\n",
       "      <td>0</td>\n",
       "      <td>6</td>\n",
       "    </tr>\n",
       "    <tr>\n",
       "      <th>3</th>\n",
       "      <td>2</td>\n",
       "      <td>6</td>\n",
       "      <td>5</td>\n",
       "      <td>4</td>\n",
       "      <td>4958.180928</td>\n",
       "      <td>0.15</td>\n",
       "      <td>5</td>\n",
       "      <td>4</td>\n",
       "      <td>0</td>\n",
       "      <td>5</td>\n",
       "    </tr>\n",
       "    <tr>\n",
       "      <th>4</th>\n",
       "      <td>3</td>\n",
       "      <td>1</td>\n",
       "      <td>4</td>\n",
       "      <td>4</td>\n",
       "      <td>23403.473190</td>\n",
       "      <td>0.15</td>\n",
       "      <td>4</td>\n",
       "      <td>5</td>\n",
       "      <td>0</td>\n",
       "      <td>4</td>\n",
       "    </tr>\n",
       "    <tr>\n",
       "      <th>...</th>\n",
       "      <td>...</td>\n",
       "      <td>...</td>\n",
       "      <td>...</td>\n",
       "      <td>...</td>\n",
       "      <td>...</td>\n",
       "      <td>...</td>\n",
       "      <td>...</td>\n",
       "      <td>...</td>\n",
       "      <td>...</td>\n",
       "      <td>...</td>\n",
       "    </tr>\n",
       "    <tr>\n",
       "      <th>71</th>\n",
       "      <td>23</td>\n",
       "      <td>22</td>\n",
       "      <td>4</td>\n",
       "      <td>2</td>\n",
       "      <td>5000.000000</td>\n",
       "      <td>0.25</td>\n",
       "      <td>4</td>\n",
       "      <td>72</td>\n",
       "      <td>0</td>\n",
       "      <td>4</td>\n",
       "    </tr>\n",
       "    <tr>\n",
       "      <th>72</th>\n",
       "      <td>23</td>\n",
       "      <td>24</td>\n",
       "      <td>2</td>\n",
       "      <td>2</td>\n",
       "      <td>5078.508436</td>\n",
       "      <td>0.25</td>\n",
       "      <td>2</td>\n",
       "      <td>73</td>\n",
       "      <td>0</td>\n",
       "      <td>2</td>\n",
       "    </tr>\n",
       "    <tr>\n",
       "      <th>73</th>\n",
       "      <td>24</td>\n",
       "      <td>13</td>\n",
       "      <td>4</td>\n",
       "      <td>2</td>\n",
       "      <td>5091.256152</td>\n",
       "      <td>0.25</td>\n",
       "      <td>4</td>\n",
       "      <td>74</td>\n",
       "      <td>0</td>\n",
       "      <td>4</td>\n",
       "    </tr>\n",
       "    <tr>\n",
       "      <th>74</th>\n",
       "      <td>24</td>\n",
       "      <td>21</td>\n",
       "      <td>3</td>\n",
       "      <td>2</td>\n",
       "      <td>4885.357564</td>\n",
       "      <td>0.25</td>\n",
       "      <td>3</td>\n",
       "      <td>75</td>\n",
       "      <td>0</td>\n",
       "      <td>3</td>\n",
       "    </tr>\n",
       "    <tr>\n",
       "      <th>75</th>\n",
       "      <td>24</td>\n",
       "      <td>23</td>\n",
       "      <td>2</td>\n",
       "      <td>2</td>\n",
       "      <td>5078.508436</td>\n",
       "      <td>0.25</td>\n",
       "      <td>2</td>\n",
       "      <td>76</td>\n",
       "      <td>0</td>\n",
       "      <td>2</td>\n",
       "    </tr>\n",
       "  </tbody>\n",
       "</table>\n",
       "<p>76 rows × 10 columns</p>\n",
       "</div>"
      ],
      "text/plain": [
       "     O   D  FFT  Power      Capacity     B  Length  Link_num  Volume  Cost\n",
       "0    1   2    6      4  25900.200640  0.15       6         1       0     6\n",
       "1    1   3    4      4  23403.473190  0.15       4         2       0     4\n",
       "2    2   1    6      4  25900.200640  0.15       6         3       0     6\n",
       "3    2   6    5      4   4958.180928  0.15       5         4       0     5\n",
       "4    3   1    4      4  23403.473190  0.15       4         5       0     4\n",
       "..  ..  ..  ...    ...           ...   ...     ...       ...     ...   ...\n",
       "71  23  22    4      2   5000.000000  0.25       4        72       0     4\n",
       "72  23  24    2      2   5078.508436  0.25       2        73       0     2\n",
       "73  24  13    4      2   5091.256152  0.25       4        74       0     4\n",
       "74  24  21    3      2   4885.357564  0.25       3        75       0     3\n",
       "75  24  23    2      2   5078.508436  0.25       2        76       0     2\n",
       "\n",
       "[76 rows x 10 columns]"
      ]
     },
     "execution_count": 7,
     "metadata": {},
     "output_type": "execute_result"
    }
   ],
   "source": [
    "net1"
   ]
  },
  {
   "cell_type": "markdown",
   "id": "36f6fda4-f40d-4457-9717-990bb78350b5",
   "metadata": {},
   "source": [
    "# Make Graph"
   ]
  },
  {
   "cell_type": "code",
   "execution_count": 8,
   "id": "17fa0191-b46f-4b9b-8abd-dc1f775222fd",
   "metadata": {
    "execution": {
     "iopub.execute_input": "2022-06-13T01:11:53.439499Z",
     "iopub.status.busy": "2022-06-13T01:11:53.439499Z",
     "iopub.status.idle": "2022-06-13T01:11:53.457423Z",
     "shell.execute_reply": "2022-06-13T01:11:53.453433Z",
     "shell.execute_reply.started": "2022-06-13T01:11:53.439499Z"
    },
    "tags": []
   },
   "outputs": [],
   "source": [
    "def make_graph(network):\n",
    "    \"\"\"네트워크 데이터프레임을 투입하여 graph 객체를 만들어주는 함수\"\"\"\n",
    "    origin_array = np.array(network['O'].unique())\n",
    "    \n",
    "    graph = {} # 빈 딕셔너리 생성\n",
    "\n",
    "    for origin in origin_array:\n",
    "    \n",
    "        origin_rows = network[network['O'] == origin]\n",
    "    \n",
    "        destin_array = np.array(origin_rows['D'])\n",
    "        link_num_array = np.array(origin_rows['Link_num'])\n",
    "        cost_array = np.array(origin_rows['Cost'])\n",
    "    \n",
    "        tup_dict = {}\n",
    "    \n",
    "        for destin, link_num, cost in zip(destin_array, link_num_array, cost_array):\n",
    "            #tup_list.append((destin, link_num, cost))\n",
    "            tup_dict[destin] = (link_num, cost)\n",
    "    \n",
    "        graph[origin] = tup_dict\n",
    "    \n",
    "    return graph"
   ]
  },
  {
   "cell_type": "code",
   "execution_count": 9,
   "id": "4b0ac72a-2386-469e-90de-b61717e41b12",
   "metadata": {
    "execution": {
     "iopub.execute_input": "2022-06-13T01:11:53.459417Z",
     "iopub.status.busy": "2022-06-13T01:11:53.458420Z",
     "iopub.status.idle": "2022-06-13T01:11:53.580978Z",
     "shell.execute_reply": "2022-06-13T01:11:53.579979Z",
     "shell.execute_reply.started": "2022-06-13T01:11:53.459417Z"
    },
    "tags": []
   },
   "outputs": [
    {
     "data": {
      "text/plain": [
       "{1: {2: (1, 6), 3: (2, 4)},\n",
       " 2: {1: (3, 6), 6: (4, 5)},\n",
       " 3: {1: (5, 4), 4: (6, 4), 12: (7, 4)},\n",
       " 4: {3: (8, 4), 5: (9, 2), 11: (10, 6)},\n",
       " 5: {4: (11, 2), 6: (12, 4), 9: (13, 5)},\n",
       " 6: {2: (14, 5), 5: (15, 4), 8: (16, 2)},\n",
       " 7: {8: (17, 3), 18: (18, 2)},\n",
       " 8: {6: (19, 2), 7: (20, 3), 9: (21, 10), 16: (22, 5)},\n",
       " 9: {5: (23, 5), 8: (24, 10), 10: (25, 3)},\n",
       " 10: {9: (26, 3), 11: (27, 5), 15: (28, 6), 16: (29, 4), 17: (30, 8)},\n",
       " 11: {4: (31, 6), 10: (32, 5), 12: (33, 6), 14: (34, 4)},\n",
       " 12: {3: (35, 4), 11: (36, 6), 13: (37, 3)},\n",
       " 13: {12: (38, 3), 24: (39, 4)},\n",
       " 14: {11: (40, 4), 15: (41, 5), 23: (42, 4)},\n",
       " 15: {10: (43, 6), 14: (44, 5), 19: (45, 3), 22: (46, 3)},\n",
       " 16: {8: (47, 5), 10: (48, 4), 17: (49, 2), 18: (50, 3)},\n",
       " 17: {10: (51, 8), 16: (52, 2), 19: (53, 2)},\n",
       " 18: {7: (54, 2), 16: (55, 3), 20: (56, 4)},\n",
       " 19: {15: (57, 3), 17: (58, 2), 20: (59, 4)},\n",
       " 20: {18: (60, 4), 19: (61, 4), 21: (62, 6), 22: (63, 5)},\n",
       " 21: {20: (64, 6), 22: (65, 2), 24: (66, 3)},\n",
       " 22: {15: (67, 3), 20: (68, 5), 21: (69, 2), 23: (70, 4)},\n",
       " 23: {14: (71, 4), 22: (72, 4), 24: (73, 2)},\n",
       " 24: {13: (74, 4), 21: (75, 3), 23: (76, 2)}}"
      ]
     },
     "execution_count": 9,
     "metadata": {},
     "output_type": "execute_result"
    }
   ],
   "source": [
    "graph = make_graph(net1)\n",
    "\n",
    "graph # Node_from : [(Node_to, Link_num, Cost)]"
   ]
  },
  {
   "cell_type": "markdown",
   "id": "ad187561-32f2-4ae9-b932-b2275580e0b7",
   "metadata": {
    "execution": {
     "iopub.execute_input": "2022-06-10T07:19:31.189817Z",
     "iopub.status.busy": "2022-06-10T07:19:31.189817Z",
     "iopub.status.idle": "2022-06-10T07:19:31.207576Z",
     "shell.execute_reply": "2022-06-10T07:19:31.206573Z",
     "shell.execute_reply.started": "2022-06-10T07:19:31.189817Z"
    },
    "tags": []
   },
   "source": [
    "mini_graph = {\n",
    "    0: {1:('A', 1)},\n",
    "    1: {0:('B', 1), 2:('C', 2), 3:('D', 3)},\n",
    "    2: {1:('E', 2), 3:('F', 1), 4:('G', 5)},\n",
    "    3: {1:('H', 3), 2:('I', 1), 4:('J', 1)},\n",
    "    4: {2:('K', 5), 3:('L', 1)}\n",
    "}"
   ]
  },
  {
   "cell_type": "code",
   "execution_count": 10,
   "id": "ee0bd63c-2765-405c-81a3-762aa2035667",
   "metadata": {
    "execution": {
     "iopub.execute_input": "2022-06-13T01:11:53.581975Z",
     "iopub.status.busy": "2022-06-13T01:11:53.581975Z",
     "iopub.status.idle": "2022-06-13T01:11:53.611894Z",
     "shell.execute_reply": "2022-06-13T01:11:53.610897Z",
     "shell.execute_reply.started": "2022-06-13T01:11:53.581975Z"
    },
    "tags": []
   },
   "outputs": [],
   "source": [
    "def Dijkstra(network, O, D):\n",
    "    \"\"\" 해당 네트워크(network)의 각 기점(O), 종점(D)에 대해\n",
    "    Dijkstra 방식의 최단경로 링크 리스트를 추출해주는 함수\"\"\"\n",
    "    \n",
    "    graph = make_graph(network)\n",
    "    \n",
    "    path = {} #최단경로 저장\n",
    "    adj_node = {} #인접노드\n",
    "    \n",
    "    queue = []\n",
    "    \n",
    "    for node in graph: # 모든 노드 체크, 경로 초기화\n",
    "        path[node] = float('inf')\n",
    "        adj_node[node] = None\n",
    "        queue.append(node)\n",
    "\n",
    "    path[O] = 0\n",
    "    \n",
    "    while queue: # 방문한 노드 및 각 노드 사이의 최소경로 검색\n",
    "        key_min = queue[0]\n",
    "        min_val = path[key_min]\n",
    "        \n",
    "        for n in range(1, len(queue)):\n",
    "            if path[queue[n]] < min_val:\n",
    "                key_min = queue[n]\n",
    "                min_val = path[key_min]\n",
    "        \n",
    "        cur = key_min\n",
    "        queue.remove(cur)\n",
    "\n",
    "        for i in graph[cur]:\n",
    "            alternate = graph[cur][i][1] + path[cur]\n",
    "            \n",
    "            if path[i] > alternate:\n",
    "                path[i] = alternate\n",
    "                \n",
    "                adj_node[i] = cur\n",
    "                \n",
    "    nodes = [D]\n",
    "    target = D\n",
    "    \n",
    "    while True:\n",
    "        D = adj_node[D]\n",
    "        if D is None:\n",
    "            break\n",
    "        nodes.append(D)\n",
    "    \n",
    "    nodes.reverse()\n",
    "\n",
    "    costs = list(path.values())[target]\n",
    "\n",
    "    links = []\n",
    "    \n",
    "    for i in range(len(nodes)-1):\n",
    "        link = graph[nodes[i]][nodes[i+1]][0]\n",
    "        links.append(link)\n",
    "        \n",
    "    return costs, links #,nodes # 각 start-end별 최저비용(cost) 및 해당 구간당 경유링크, (경유노드) 반환"
   ]
  },
  {
   "cell_type": "code",
   "execution_count": 11,
   "id": "3062bf23-249e-4fbd-978a-1176ae253ef4",
   "metadata": {
    "execution": {
     "iopub.execute_input": "2022-06-13T01:11:53.611894Z",
     "iopub.status.busy": "2022-06-13T01:11:53.611894Z",
     "iopub.status.idle": "2022-06-13T01:11:53.659981Z",
     "shell.execute_reply": "2022-06-13T01:11:53.657988Z",
     "shell.execute_reply.started": "2022-06-13T01:11:53.611894Z"
    },
    "tags": []
   },
   "outputs": [
    {
     "data": {
      "text/plain": [
       "(11, [2, 6, 9])"
      ]
     },
     "execution_count": 11,
     "metadata": {},
     "output_type": "execute_result"
    }
   ],
   "source": [
    "Dijkstra(net1, 1,5)"
   ]
  },
  {
   "cell_type": "markdown",
   "id": "d148692f-6c76-4db3-8c8a-97bb2fa6a496",
   "metadata": {},
   "source": [
    "# Reference\n",
    "* https://www.codespeedy.com/how-to-implement-dijkstras-shortest-path-algorithm-in-python/"
   ]
  }
 ],
 "metadata": {
  "kernelspec": {
   "display_name": "Python 3",
   "language": "python",
   "name": "python3"
  },
  "language_info": {
   "codemirror_mode": {
    "name": "ipython",
    "version": 3
   },
   "file_extension": ".py",
   "mimetype": "text/x-python",
   "name": "python",
   "nbconvert_exporter": "python",
   "pygments_lexer": "ipython3",
   "version": "3.8.8"
  }
 },
 "nbformat": 4,
 "nbformat_minor": 5
}
