{
 "cells": [
  {
   "cell_type": "markdown",
   "id": "41f77bc4-d658-43fb-8f14-8be0ae53b4e0",
   "metadata": {},
   "source": [
    "# Imports"
   ]
  },
  {
   "cell_type": "code",
   "execution_count": 56,
   "id": "67225ffa-8fba-430f-9ab2-98c847df5e4e",
   "metadata": {
    "execution": {
     "iopub.execute_input": "2022-06-08T10:57:18.828295Z",
     "iopub.status.busy": "2022-06-08T10:57:18.828295Z",
     "iopub.status.idle": "2022-06-08T10:57:18.836273Z",
     "shell.execute_reply": "2022-06-08T10:57:18.836273Z",
     "shell.execute_reply.started": "2022-06-08T10:57:18.828295Z"
    },
    "tags": []
   },
   "outputs": [],
   "source": [
    "import pandas as pd\n",
    "import numpy as np\n",
    "\n",
    "import os\n",
    "from tqdm import tqdm\n",
    "\n",
    "from sympy import Symbol, solve # 방정식 해 구하기"
   ]
  },
  {
   "cell_type": "markdown",
   "id": "955e3ea4-0ab5-4a66-99f3-018d9e6be647",
   "metadata": {},
   "source": [
    "# Data settings"
   ]
  },
  {
   "cell_type": "markdown",
   "id": "8d2c0215-8028-44f1-b3f0-887ade768a4f",
   "metadata": {},
   "source": [
    "## Load dataset\n",
    "* 데이터셋 불러오기\n",
    "* `net` : 네트워크 파일\n",
    "* `OD` : Origin-Destination 수요"
   ]
  },
  {
   "cell_type": "code",
   "execution_count": 57,
   "id": "f0aaccb1-3aa2-4222-8fd7-678d715e138a",
   "metadata": {
    "execution": {
     "iopub.execute_input": "2022-06-08T10:57:18.837270Z",
     "iopub.status.busy": "2022-06-08T10:57:18.837270Z",
     "iopub.status.idle": "2022-06-08T10:57:18.851233Z",
     "shell.execute_reply": "2022-06-08T10:57:18.851233Z",
     "shell.execute_reply.started": "2022-06-08T10:57:18.837270Z"
    },
    "tags": []
   },
   "outputs": [],
   "source": [
    "data_dir = 'dataset'"
   ]
  },
  {
   "cell_type": "code",
   "execution_count": 58,
   "id": "187b7d09-e1c3-4cf7-8460-c1b779a7ae6c",
   "metadata": {
    "execution": {
     "iopub.execute_input": "2022-06-08T10:57:18.852230Z",
     "iopub.status.busy": "2022-06-08T10:57:18.852230Z",
     "iopub.status.idle": "2022-06-08T10:57:18.866193Z",
     "shell.execute_reply": "2022-06-08T10:57:18.866193Z",
     "shell.execute_reply.started": "2022-06-08T10:57:18.852230Z"
    },
    "tags": []
   },
   "outputs": [],
   "source": [
    "network_file = 'ex1_Network.csv'\n",
    "network_path = os.path.join(data_dir, network_file)"
   ]
  },
  {
   "cell_type": "code",
   "execution_count": 59,
   "id": "3ff06c61-d71e-454f-8a21-c7c91f6c35b6",
   "metadata": {
    "execution": {
     "iopub.execute_input": "2022-06-08T10:57:18.867191Z",
     "iopub.status.busy": "2022-06-08T10:57:18.867191Z",
     "iopub.status.idle": "2022-06-08T10:57:18.882150Z",
     "shell.execute_reply": "2022-06-08T10:57:18.882150Z",
     "shell.execute_reply.started": "2022-06-08T10:57:18.867191Z"
    },
    "tags": []
   },
   "outputs": [],
   "source": [
    "OD_file = 'ex1_OD.csv'\n",
    "OD_path = os.path.join(data_dir, OD_file)"
   ]
  },
  {
   "cell_type": "code",
   "execution_count": 60,
   "id": "3e6e788e-3290-4d42-b289-6f7831032b0d",
   "metadata": {
    "execution": {
     "iopub.execute_input": "2022-06-08T10:57:18.883148Z",
     "iopub.status.busy": "2022-06-08T10:57:18.883148Z",
     "iopub.status.idle": "2022-06-08T10:57:18.898107Z",
     "shell.execute_reply": "2022-06-08T10:57:18.898107Z",
     "shell.execute_reply.started": "2022-06-08T10:57:18.883148Z"
    },
    "tags": []
   },
   "outputs": [],
   "source": [
    "network = pd.read_csv(network_path, encoding = 'UTF-8')"
   ]
  },
  {
   "cell_type": "code",
   "execution_count": 61,
   "id": "815e3f3c-2bbe-4503-8d03-08ba12c86478",
   "metadata": {
    "execution": {
     "iopub.execute_input": "2022-06-08T10:57:18.899105Z",
     "iopub.status.busy": "2022-06-08T10:57:18.899105Z",
     "iopub.status.idle": "2022-06-08T10:57:18.914065Z",
     "shell.execute_reply": "2022-06-08T10:57:18.914065Z",
     "shell.execute_reply.started": "2022-06-08T10:57:18.899105Z"
    },
    "tags": []
   },
   "outputs": [],
   "source": [
    "OD = pd.read_csv(OD_path, encoding = 'UTF-8')"
   ]
  },
  {
   "cell_type": "code",
   "execution_count": 62,
   "id": "a42b3e82-f5e1-48c2-b2bf-7217fbd24896",
   "metadata": {
    "execution": {
     "iopub.execute_input": "2022-06-08T10:57:18.915062Z",
     "iopub.status.busy": "2022-06-08T10:57:18.915062Z",
     "iopub.status.idle": "2022-06-08T10:57:18.930023Z",
     "shell.execute_reply": "2022-06-08T10:57:18.930023Z",
     "shell.execute_reply.started": "2022-06-08T10:57:18.915062Z"
    },
    "tags": []
   },
   "outputs": [
    {
     "data": {
      "text/html": [
       "<div>\n",
       "<style scoped>\n",
       "    .dataframe tbody tr th:only-of-type {\n",
       "        vertical-align: middle;\n",
       "    }\n",
       "\n",
       "    .dataframe tbody tr th {\n",
       "        vertical-align: top;\n",
       "    }\n",
       "\n",
       "    .dataframe thead th {\n",
       "        text-align: right;\n",
       "    }\n",
       "</style>\n",
       "<table border=\"1\" class=\"dataframe\">\n",
       "  <thead>\n",
       "    <tr style=\"text-align: right;\">\n",
       "      <th></th>\n",
       "      <th>Init node</th>\n",
       "      <th>Term node</th>\n",
       "      <th>Free Flow Time</th>\n",
       "      <th>Power</th>\n",
       "      <th>Capacity</th>\n",
       "      <th>B</th>\n",
       "      <th>Length</th>\n",
       "    </tr>\n",
       "  </thead>\n",
       "  <tbody>\n",
       "    <tr>\n",
       "      <th>0</th>\n",
       "      <td>1</td>\n",
       "      <td>2</td>\n",
       "      <td>1</td>\n",
       "      <td>4</td>\n",
       "      <td>1</td>\n",
       "      <td>0.15</td>\n",
       "      <td>1</td>\n",
       "    </tr>\n",
       "    <tr>\n",
       "      <th>1</th>\n",
       "      <td>1</td>\n",
       "      <td>3</td>\n",
       "      <td>1</td>\n",
       "      <td>4</td>\n",
       "      <td>3</td>\n",
       "      <td>0.15</td>\n",
       "      <td>1</td>\n",
       "    </tr>\n",
       "    <tr>\n",
       "      <th>2</th>\n",
       "      <td>3</td>\n",
       "      <td>2</td>\n",
       "      <td>1</td>\n",
       "      <td>4</td>\n",
       "      <td>2</td>\n",
       "      <td>0.15</td>\n",
       "      <td>1</td>\n",
       "    </tr>\n",
       "  </tbody>\n",
       "</table>\n",
       "</div>"
      ],
      "text/plain": [
       "   Init node   Term node   Free Flow Time   Power  Capacity      B  Length \n",
       "0           1           2                1      4          1  0.15        1\n",
       "1           1           3                1      4          3  0.15        1\n",
       "2           3           2                1      4          2  0.15        1"
      ]
     },
     "execution_count": 62,
     "metadata": {},
     "output_type": "execute_result"
    }
   ],
   "source": [
    "network.head(3)\n",
    "#> Init node"
   ]
  },
  {
   "cell_type": "code",
   "execution_count": 63,
   "id": "3659dd99-59ea-4e4f-8196-3504b174bff0",
   "metadata": {
    "execution": {
     "iopub.execute_input": "2022-06-08T10:57:18.931020Z",
     "iopub.status.busy": "2022-06-08T10:57:18.931020Z",
     "iopub.status.idle": "2022-06-08T10:57:18.945979Z",
     "shell.execute_reply": "2022-06-08T10:57:18.945979Z",
     "shell.execute_reply.started": "2022-06-08T10:57:18.931020Z"
    },
    "tags": []
   },
   "outputs": [
    {
     "data": {
      "text/html": [
       "<div>\n",
       "<style scoped>\n",
       "    .dataframe tbody tr th:only-of-type {\n",
       "        vertical-align: middle;\n",
       "    }\n",
       "\n",
       "    .dataframe tbody tr th {\n",
       "        vertical-align: top;\n",
       "    }\n",
       "\n",
       "    .dataframe thead th {\n",
       "        text-align: right;\n",
       "    }\n",
       "</style>\n",
       "<table border=\"1\" class=\"dataframe\">\n",
       "  <thead>\n",
       "    <tr style=\"text-align: right;\">\n",
       "      <th></th>\n",
       "      <th>0</th>\n",
       "      <th>1</th>\n",
       "    </tr>\n",
       "  </thead>\n",
       "  <tbody>\n",
       "    <tr>\n",
       "      <th>O</th>\n",
       "      <td>1</td>\n",
       "      <td>3</td>\n",
       "    </tr>\n",
       "    <tr>\n",
       "      <th>D</th>\n",
       "      <td>2</td>\n",
       "      <td>2</td>\n",
       "    </tr>\n",
       "    <tr>\n",
       "      <th>T</th>\n",
       "      <td>2</td>\n",
       "      <td>2</td>\n",
       "    </tr>\n",
       "  </tbody>\n",
       "</table>\n",
       "</div>"
      ],
      "text/plain": [
       "   0  1\n",
       "O  1  3\n",
       "D  2  2\n",
       "T  2  2"
      ]
     },
     "execution_count": 63,
     "metadata": {},
     "output_type": "execute_result"
    }
   ],
   "source": [
    "OD.tail(20).T"
   ]
  },
  {
   "cell_type": "markdown",
   "id": "1c1817de-90f5-47f8-bf94-aa5cf8792f1c",
   "metadata": {},
   "source": [
    "## Preprocessing\n",
    "* 필요 변수\n",
    "    * `O` : 기점\n",
    "    * `D` : 종점\n",
    "    * `Link_num` : 링크번호\n",
    "    * `FFT` : Free Flow Time\n",
    "    * `Alpha`, `Beta` : BPR 함수에 필요한 상수들\n",
    "    * `Length` : 네트워크 길이\n",
    "    * `Toll` : 네트워크 요금\n",
    "    * `Volume` : 링크 통행량\n",
    "* `BPR Function` : `Cost = Free Flow Time * (1 + (Alpha * (Xn / Capacity))**Beta) + Length * Toll`"
   ]
  },
  {
   "cell_type": "code",
   "execution_count": 64,
   "id": "7523ba71-a37b-41f6-a467-571664ec6d77",
   "metadata": {
    "execution": {
     "iopub.execute_input": "2022-06-08T10:57:18.947975Z",
     "iopub.status.busy": "2022-06-08T10:57:18.947975Z",
     "iopub.status.idle": "2022-06-08T10:57:18.961936Z",
     "shell.execute_reply": "2022-06-08T10:57:18.961936Z",
     "shell.execute_reply.started": "2022-06-08T10:57:18.947975Z"
    },
    "tags": []
   },
   "outputs": [],
   "source": [
    "def preprocessing(network):\n",
    "    \"\"\"네트워크 객체의 컬럼 이름 및 순서를 정리해줌\n",
    "    - O, D, FFT, alpha, Capacity, beta, Length 등 만 남기고 나머지는 지운다.\n",
    "    \"\"\"\n",
    "    net = pd.DataFrame({\n",
    "        'O' : network['Init node '],\n",
    "        'D' : network['Term node '],\n",
    "        'FFT' : network['Free Flow Time '],\n",
    "        'Power' : network['Power'],\n",
    "        'Capacity' : network['Capacity '],\n",
    "        'B' : network['B'].round(2),\n",
    "        'Length' : network['Length '],\n",
    "        #'Toll' : network['Toll '],\n",
    "        'Link_num' : [i for i in range(1, len(network)+1)],\n",
    "        'x_n' : 0,\n",
    "        'y_n' : 0,\n",
    "        'Direction' : 0,\n",
    "        'x_n1' : 0,\n",
    "        'Cost' : 0\n",
    "    })\n",
    "   \n",
    "    net = net.sort_values(by = ['O', 'D']) # net1 데이터프레임을 O, D에 대하여 오름차순 정렬\n",
    "    net.set_index('Link_num', drop = False, inplace = True)# 링크 번호로 네트워크 각 링크의 인덱스를 지정\n",
    "    \n",
    "    return net"
   ]
  },
  {
   "cell_type": "code",
   "execution_count": 65,
   "id": "7d0964e5-4d39-4763-9349-571e1d8388ca",
   "metadata": {
    "execution": {
     "iopub.execute_input": "2022-06-08T10:57:18.962934Z",
     "iopub.status.busy": "2022-06-08T10:57:18.962934Z",
     "iopub.status.idle": "2022-06-08T10:57:18.979889Z",
     "shell.execute_reply": "2022-06-08T10:57:18.977898Z",
     "shell.execute_reply.started": "2022-06-08T10:57:18.962934Z"
    }
   },
   "outputs": [],
   "source": [
    "# net_cost.info()\n",
    "# 데이터 축소 :: int64 -> int16, float64 -> float16으로 바꾸어 데이터 크기를 단축해 준다.\n",
    "\n",
    "def type_change(network):\n",
    "    \"\"\"net_cost네트워크의 변수들 타입을 int16, float16으로 변화시켜 데이터 메모리 절감\"\"\"\n",
    "    network[['O', 'D', 'FFT', 'Power', 'Length', 'Link_num']] = network[['O', 'D', 'FFT', 'Power', 'Length', 'Link_num']].astype(np.int16)\n",
    "    network[['Capacity', 'B', 'x_n', 'y_n', 'Direction', 'x_n1', 'Cost']] = network[['Capacity', 'B', 'x_n', 'y_n', 'Direction', 'x_n1', 'Cost']].astype(np.float16)\n",
    "\n",
    "    return network"
   ]
  },
  {
   "cell_type": "markdown",
   "id": "f25e5fd3-42dd-4431-985d-4d9654169a9f",
   "metadata": {},
   "source": [
    "# Shortest Path Definition\n",
    "* `Dijkstra` 방식을 사용하여 각 O-D별 최단경로를 추출하는 함수 생성"
   ]
  },
  {
   "cell_type": "markdown",
   "id": "20210f2f-d49b-45f6-8028-72a5bad96729",
   "metadata": {},
   "source": [
    "## Node Range"
   ]
  },
  {
   "cell_type": "code",
   "execution_count": 66,
   "id": "9b1b4abb-27de-493d-accf-89c73a704813",
   "metadata": {
    "execution": {
     "iopub.execute_input": "2022-06-08T10:57:18.981884Z",
     "iopub.status.busy": "2022-06-08T10:57:18.981884Z",
     "iopub.status.idle": "2022-06-08T10:57:18.992853Z",
     "shell.execute_reply": "2022-06-08T10:57:18.992853Z",
     "shell.execute_reply.started": "2022-06-08T10:57:18.981884Z"
    },
    "tags": []
   },
   "outputs": [
    {
     "data": {
      "text/html": [
       "<div>\n",
       "<style scoped>\n",
       "    .dataframe tbody tr th:only-of-type {\n",
       "        vertical-align: middle;\n",
       "    }\n",
       "\n",
       "    .dataframe tbody tr th {\n",
       "        vertical-align: top;\n",
       "    }\n",
       "\n",
       "    .dataframe thead th {\n",
       "        text-align: right;\n",
       "    }\n",
       "</style>\n",
       "<table border=\"1\" class=\"dataframe\">\n",
       "  <thead>\n",
       "    <tr style=\"text-align: right;\">\n",
       "      <th></th>\n",
       "      <th>origin</th>\n",
       "      <th>start_link</th>\n",
       "      <th>end_link</th>\n",
       "    </tr>\n",
       "    <tr>\n",
       "      <th>origin</th>\n",
       "      <th></th>\n",
       "      <th></th>\n",
       "      <th></th>\n",
       "    </tr>\n",
       "  </thead>\n",
       "  <tbody>\n",
       "    <tr>\n",
       "      <th>1</th>\n",
       "      <td>1</td>\n",
       "      <td>1</td>\n",
       "      <td>2</td>\n",
       "    </tr>\n",
       "    <tr>\n",
       "      <th>3</th>\n",
       "      <td>3</td>\n",
       "      <td>3</td>\n",
       "      <td>4</td>\n",
       "    </tr>\n",
       "    <tr>\n",
       "      <th>4</th>\n",
       "      <td>4</td>\n",
       "      <td>5</td>\n",
       "      <td>5</td>\n",
       "    </tr>\n",
       "  </tbody>\n",
       "</table>\n",
       "</div>"
      ],
      "text/plain": [
       "        origin  start_link  end_link\n",
       "origin                              \n",
       "1            1           1         2\n",
       "3            3           3         4\n",
       "4            4           5         5"
      ]
     },
     "execution_count": 66,
     "metadata": {},
     "output_type": "execute_result"
    }
   ],
   "source": [
    "node_range(net1)"
   ]
  },
  {
   "cell_type": "code",
   "execution_count": 67,
   "id": "d021d4ab-67cf-4405-8ed0-02af95dabb14",
   "metadata": {
    "execution": {
     "iopub.execute_input": "2022-06-08T10:57:18.993853Z",
     "iopub.status.busy": "2022-06-08T10:57:18.993853Z",
     "iopub.status.idle": "2022-06-08T10:57:19.025773Z",
     "shell.execute_reply": "2022-06-08T10:57:19.023772Z",
     "shell.execute_reply.started": "2022-06-08T10:57:18.993853Z"
    },
    "tags": []
   },
   "outputs": [],
   "source": [
    "def node_range(network):\n",
    "    \"\"\"Sioux-Falls Network의 각 기점(Origin)에서 출발하는 링크 번호의 범위를 데이터프레임에 저장하는 함수\"\"\"\n",
    "    origin_nodes = network['O'].unique()\n",
    "    start_list = []\n",
    "    end_list = []\n",
    "    \n",
    "    for origin in origin_nodes:\n",
    "        link_list = network[network['O'] == origin]['Link_num'] # 기점이 origin인 모든 링크 번호 리스트 추출\n",
    "        link_list.sort_values() # 기점 origin에 연결된 링크 번호들을 오름차순으로 정렬\n",
    "        \n",
    "        start = link_list.iloc[0] # 링크 리스트의 첫번째 링크(가장 먼저 번호 링크)\n",
    "        end = link_list.iloc[-1] # 링크 리스트의 마지막 링크(가장 마지막 번호 링크)\n",
    "        \n",
    "        start_list.append(start)\n",
    "        end_list.append(end)\n",
    "        \n",
    "    node_link_df = pd.DataFrame({\n",
    "        'origin' : origin_nodes,\n",
    "        'start_link' : start_list,\n",
    "        'end_link' : end_list\n",
    "    })\n",
    "    \n",
    "    node_link_df.set_index('origin', drop = False, inplace = True)# 링크 번호로 네트워크 각 링크의 인덱스를 지정\n",
    "    \n",
    "    return node_link_df"
   ]
  },
  {
   "cell_type": "markdown",
   "id": "5f28d6bb-a5c9-4676-a9a8-d65947a9be78",
   "metadata": {},
   "source": [
    "## Calculate Cost : $t_a(x_a)$\n",
    "* 매 iteration마다 갱신되는 $\\alpha$, $x_{n}$ 값을 이용해서 Cost를 계산해 주는 함수\n",
    "* 따라서 iteration을 돌 때마다 다시 계산해주어야 한다."
   ]
  },
  {
   "cell_type": "code",
   "execution_count": 68,
   "id": "21e0527a-c56e-4fd4-8a39-9ba3c1d9bb54",
   "metadata": {
    "execution": {
     "iopub.execute_input": "2022-06-08T10:57:19.028759Z",
     "iopub.status.busy": "2022-06-08T10:57:19.028759Z",
     "iopub.status.idle": "2022-06-08T10:57:19.038732Z",
     "shell.execute_reply": "2022-06-08T10:57:19.038732Z",
     "shell.execute_reply.started": "2022-06-08T10:57:19.028759Z"
    },
    "tags": []
   },
   "outputs": [],
   "source": [
    "def calculate_initial_cost(network):\n",
    "    \"\"\"\n",
    "    BPR 함수를 사용하여 링크 통행비용을 계산하는 함수.\n",
    "    최초 비용을 계산해주므로, Cost 자리에 Free Flow Time을 적용해야 한다.\n",
    "    :: 필요 변수 :: FFT, Power, B, X0, Capacity, Length, Toll\n",
    "    :: BPR 함수 :: Cost = Free Flow Time * (1 + B * (X_n / Capacity)**Power)\n",
    "    \"\"\"\n",
    "    network['Cost'] = network['FFT'] * (1 + network['B'] * (network['x_n'] / network['Capacity'])**network['Power']) #+ (net1['Length'] * net1['Toll'])\n",
    "    \n",
    "    return network"
   ]
  },
  {
   "cell_type": "code",
   "execution_count": 69,
   "id": "2347b0df-139e-4a59-9333-6afd44ed4fe3",
   "metadata": {
    "execution": {
     "iopub.execute_input": "2022-06-08T10:57:19.040726Z",
     "iopub.status.busy": "2022-06-08T10:57:19.040726Z",
     "iopub.status.idle": "2022-06-08T10:57:19.053692Z",
     "shell.execute_reply": "2022-06-08T10:57:19.053692Z",
     "shell.execute_reply.started": "2022-06-08T10:57:19.040726Z"
    }
   },
   "outputs": [],
   "source": [
    "def calculate_iterative_cost(network):\n",
    "    \"\"\"\n",
    "    BPR 함수를 사용하여 Iteration을 돌면서 링크 통행비용을 계산하는 함수. \n",
    "    매 iteration마다 갱신되는 x_n 등을 이용하므로, 매 iteration마다 다시 계산해주어야 한다.\n",
    "    :: 필요 변수 :: FFT, Power, B, X0, Capacity, Length, Toll\n",
    "    :: BPR 함수 :: Cost1 = Cost * (1 + B * (X_n / Capacity)**Power)\n",
    "    \"\"\"\n",
    "    network['Cost'] = network['Cost'] * (1 + network['B'] * (network['x_n'] / network['Capacity'])**network['Power']) #+ (net1['Length'] * net1['Toll'])\n",
    "    \n",
    "    return network"
   ]
  },
  {
   "cell_type": "markdown",
   "id": "8636d950-695f-46c0-9bc3-41456489c2ab",
   "metadata": {},
   "source": [
    "## Shortest Path Algorithm : Dijkstra"
   ]
  },
  {
   "cell_type": "code",
   "execution_count": 22,
   "id": "1bd4ecf9-d766-4759-864a-47ff4459f121",
   "metadata": {
    "execution": {
     "iopub.execute_input": "2022-06-08T10:46:25.560652Z",
     "iopub.status.busy": "2022-06-08T10:46:25.560652Z",
     "iopub.status.idle": "2022-06-08T10:46:25.574653Z",
     "shell.execute_reply": "2022-06-08T10:46:25.574653Z",
     "shell.execute_reply.started": "2022-06-08T10:46:25.560652Z"
    },
    "tags": []
   },
   "outputs": [],
   "source": [
    "def tree_Dijkstra(origin, network):\n",
    "    \"\"\"Dijkstra 방법을 이용해 Shortest Path를 구하기 위한 경로 트리를 구해주는 과정.\n",
    "    이때 network는 반드시 cost 컬럼을 포함하고 있어야 합니다.\"\"\"\n",
    "    \n",
    "    SP_df = pd.DataFrame({\n",
    "        'To' : network['O'].unique(),\n",
    "        'From' : 0,\n",
    "        'C1' : 999,\n",
    "        'Fin' : 0\n",
    "    })\n",
    "    \n",
    "    SP_df.loc[SP_df['To'] == origin, 'C1'] = 0 # 'To' 열 값이 origin과 같은 행의 C1 열 값을 0으로 치환하기\n",
    "    SP_df = SP_df.sort_values(by = ['C1', 'To']).reset_index(drop = True) # cost_df 를 C1과 To값에 따라서 정렬하기\n",
    "    \n",
    "    node_link = node_range(network) # 각 origin을 기점으로 하는 링크번호 범위 데이터프레임\n",
    "    \n",
    "    while True:\n",
    "        if sum(SP_df['Fin']) == len(SP_df):\n",
    "            break\n",
    "\n",
    "        a = SP_df.loc[0, 'To'] # cost_df의 1행 1열 데이터\n",
    "        ac = SP_df.loc[0, 'C1'] # cost_df의 1행 3열 데이터\n",
    "        \n",
    "        SP_df.loc[0, 'Fin'] = 1\n",
    "        SP_df = SP_df.sort_values(by = ['To']).reset_index(drop = True)\n",
    "            \n",
    "        # DN : Dijkstra next updating node, D : Dijkstra iteration term\n",
    "        node_a = node_link[node_link['origin'] == a] # node_range의 링크 중, origin이 a인 행만 추출\n",
    "        start_link_a = node_a['start_link'].iloc[0] # origin a에 연결된 link들 중 첫번째 번호\n",
    "        end_link_a = node_a['end_link'].iloc[0] # origin a에 연결된 link들 중 마지막 번호\n",
    "            \n",
    "        DN = network[(network['Link_num'] >= start_link_a) & (network['Link_num'] <= end_link_a)]\n",
    "        \n",
    "        DN = DN[['D', 'Cost']]\n",
    "        DN.rename(columns = {'D' : 'To', 'Cost' : 'C'}, inplace = True)\n",
    "            \n",
    "        SP_df = pd.merge(SP_df, DN, on = ['To'], how = 'left') \n",
    "            \n",
    "        SP_df = SP_df.fillna(999) # SP_df의 C 값 중 값이 없어 NaN인 값들을 999로 채우기\n",
    "        #SP_df = SP_df.sort_values(by = 'To').reset_index(drop = True)\n",
    "            \n",
    "        upset = list(SP_df[SP_df['C1'] > (SP_df['C'] + ac)]['To']) ######### 진짜 여기서 죽는줄알았음 헛갈림 주의\n",
    "        \n",
    "        #print(upset)\n",
    "        #print(Pk)\n",
    "            \n",
    "        if len(upset) > 0:\n",
    "            SP_df.loc[SP_df['To'].isin(upset), 'Fin'] = 0\n",
    "            SP_df.loc[SP_df['To'].isin(upset), 'C1'] = SP_df.loc[SP_df['To'].isin(upset), 'C'] + ac\n",
    "            SP_df.loc[SP_df['To'].isin(upset), 'From'] = a\n",
    "            \n",
    "        SP_df = SP_df.iloc[:, 0:-1]\n",
    "        SP_df = SP_df.sort_values(by = ['Fin', 'C1', 'To']).reset_index(drop = True)\n",
    "    \n",
    "    SP_output = pd.DataFrame({\n",
    "        'O' : SP_df['From'],\n",
    "        'D' : SP_df['To'],\n",
    "        'SP' : SP_df['C1']\n",
    "    })\n",
    "    \n",
    "    SP_output = SP_output.sort_values(by = 'SP').reset_index(drop = True)\n",
    "    \n",
    "    return SP_output"
   ]
  },
  {
   "cell_type": "code",
   "execution_count": 28,
   "id": "3c74a1f9-2286-46e6-99c1-bbf3373ab8a4",
   "metadata": {
    "execution": {
     "iopub.execute_input": "2022-06-08T10:46:57.300449Z",
     "iopub.status.busy": "2022-06-08T10:46:57.300449Z",
     "iopub.status.idle": "2022-06-08T10:46:57.311420Z",
     "shell.execute_reply": "2022-06-08T10:46:57.311420Z",
     "shell.execute_reply.started": "2022-06-08T10:46:57.300449Z"
    },
    "tags": []
   },
   "outputs": [],
   "source": [
    "def SPD_Dijkstra(origin, destination, network):\n",
    "    \"\"\"주어진 네트워크 및 비용(SP)을 바탕으로,\n",
    "    origin >> destination으로 향하는 최단 경로를 구해주는 함수.\n",
    "    network 데이터프레임은 반드시 cost 열을 포함하고 있어야 합니다.\"\"\"\n",
    "    \n",
    "    mintree = tree_Dijkstra(origin, network)\n",
    "    OD_SP = mintree[mintree['D'] == destination]\n",
    "    \n",
    "    while True:\n",
    "        if OD_SP['O'].iloc[0] == origin:\n",
    "            break\n",
    "        \n",
    "        added = mintree[mintree['D'] == OD_SP['O'].iloc[0]]\n",
    "        OD_SP = pd.concat([added, OD_SP], ignore_index = True)\n",
    "        \n",
    "    # 각 O-D에 Node Link 붙이기 : network의 Link_num 이용\n",
    "    OD_SP = pd.merge(OD_SP, network, on = ['O', 'D'], how = 'left')\n",
    "    OD_SP = OD_SP[['O', 'D', 'SP', 'Link_num']]\n",
    "    OD_SP.set_index('Link_num', drop = False, inplace = True)# 링크 번호로 네트워크 각 링크의 인덱스를 지정\n",
    "        \n",
    "    return OD_SP"
   ]
  },
  {
   "cell_type": "markdown",
   "id": "831a3bfc-dc76-4c97-891d-91d880c065ee",
   "metadata": {},
   "source": [
    "# Initialization\n",
    "* **`N = 0`**\n",
    "* 초기 비용 계산 : $x_0$ = 0 (모든 링크의 통행량 = 0)인 상태에서 비용 계산\n",
    "* 초기 배정 : All-or-Nothing 방식으로 통행 배정, $x_1$ 획득"
   ]
  },
  {
   "cell_type": "markdown",
   "id": "4289ac23-2d98-477a-a98d-1e9282524898",
   "metadata": {},
   "source": [
    "## Data Ready"
   ]
  },
  {
   "cell_type": "code",
   "execution_count": 84,
   "id": "3ff0573f-b4e8-4fb4-81b5-e3ab3ddaa10d",
   "metadata": {
    "execution": {
     "iopub.execute_input": "2022-06-08T10:58:53.559283Z",
     "iopub.status.busy": "2022-06-08T10:58:53.559283Z",
     "iopub.status.idle": "2022-06-08T10:58:53.578204Z",
     "shell.execute_reply": "2022-06-08T10:58:53.578204Z",
     "shell.execute_reply.started": "2022-06-08T10:58:53.559283Z"
    },
    "tags": []
   },
   "outputs": [],
   "source": [
    "net1 = preprocessing(network)"
   ]
  },
  {
   "cell_type": "code",
   "execution_count": 85,
   "id": "59afbb4c-f2b4-4cd1-b3fe-3452305a339e",
   "metadata": {
    "execution": {
     "iopub.execute_input": "2022-06-08T10:58:54.244466Z",
     "iopub.status.busy": "2022-06-08T10:58:54.244466Z",
     "iopub.status.idle": "2022-06-08T10:58:54.267406Z",
     "shell.execute_reply": "2022-06-08T10:58:54.266408Z",
     "shell.execute_reply.started": "2022-06-08T10:58:54.244466Z"
    },
    "tags": []
   },
   "outputs": [
    {
     "data": {
      "text/html": [
       "<div>\n",
       "<style scoped>\n",
       "    .dataframe tbody tr th:only-of-type {\n",
       "        vertical-align: middle;\n",
       "    }\n",
       "\n",
       "    .dataframe tbody tr th {\n",
       "        vertical-align: top;\n",
       "    }\n",
       "\n",
       "    .dataframe thead th {\n",
       "        text-align: right;\n",
       "    }\n",
       "</style>\n",
       "<table border=\"1\" class=\"dataframe\">\n",
       "  <thead>\n",
       "    <tr style=\"text-align: right;\">\n",
       "      <th></th>\n",
       "      <th>O</th>\n",
       "      <th>D</th>\n",
       "      <th>FFT</th>\n",
       "      <th>Power</th>\n",
       "      <th>Capacity</th>\n",
       "      <th>B</th>\n",
       "      <th>Length</th>\n",
       "      <th>Link_num</th>\n",
       "      <th>x_n</th>\n",
       "      <th>y_n</th>\n",
       "      <th>Direction</th>\n",
       "      <th>x_n1</th>\n",
       "      <th>Cost</th>\n",
       "    </tr>\n",
       "    <tr>\n",
       "      <th>Link_num</th>\n",
       "      <th></th>\n",
       "      <th></th>\n",
       "      <th></th>\n",
       "      <th></th>\n",
       "      <th></th>\n",
       "      <th></th>\n",
       "      <th></th>\n",
       "      <th></th>\n",
       "      <th></th>\n",
       "      <th></th>\n",
       "      <th></th>\n",
       "      <th></th>\n",
       "      <th></th>\n",
       "    </tr>\n",
       "  </thead>\n",
       "  <tbody>\n",
       "    <tr>\n",
       "      <th>1</th>\n",
       "      <td>1</td>\n",
       "      <td>2</td>\n",
       "      <td>1</td>\n",
       "      <td>4</td>\n",
       "      <td>1</td>\n",
       "      <td>0.15</td>\n",
       "      <td>1</td>\n",
       "      <td>1</td>\n",
       "      <td>0</td>\n",
       "      <td>0</td>\n",
       "      <td>0</td>\n",
       "      <td>0</td>\n",
       "      <td>0</td>\n",
       "    </tr>\n",
       "    <tr>\n",
       "      <th>2</th>\n",
       "      <td>1</td>\n",
       "      <td>3</td>\n",
       "      <td>1</td>\n",
       "      <td>4</td>\n",
       "      <td>3</td>\n",
       "      <td>0.15</td>\n",
       "      <td>1</td>\n",
       "      <td>2</td>\n",
       "      <td>0</td>\n",
       "      <td>0</td>\n",
       "      <td>0</td>\n",
       "      <td>0</td>\n",
       "      <td>0</td>\n",
       "    </tr>\n",
       "    <tr>\n",
       "      <th>3</th>\n",
       "      <td>3</td>\n",
       "      <td>2</td>\n",
       "      <td>1</td>\n",
       "      <td>4</td>\n",
       "      <td>2</td>\n",
       "      <td>0.15</td>\n",
       "      <td>1</td>\n",
       "      <td>3</td>\n",
       "      <td>0</td>\n",
       "      <td>0</td>\n",
       "      <td>0</td>\n",
       "      <td>0</td>\n",
       "      <td>0</td>\n",
       "    </tr>\n",
       "  </tbody>\n",
       "</table>\n",
       "</div>"
      ],
      "text/plain": [
       "          O  D  FFT  Power  Capacity     B  Length  Link_num  x_n  y_n  \\\n",
       "Link_num                                                                 \n",
       "1         1  2    1      4         1  0.15       1         1    0    0   \n",
       "2         1  3    1      4         3  0.15       1         2    0    0   \n",
       "3         3  2    1      4         2  0.15       1         3    0    0   \n",
       "\n",
       "          Direction  x_n1  Cost  \n",
       "Link_num                         \n",
       "1                 0     0     0  \n",
       "2                 0     0     0  \n",
       "3                 0     0     0  "
      ]
     },
     "execution_count": 85,
     "metadata": {},
     "output_type": "execute_result"
    }
   ],
   "source": [
    "net1.head(3)"
   ]
  },
  {
   "cell_type": "markdown",
   "id": "c7a2aabd-e7cb-43df-a7bd-046346512aac",
   "metadata": {},
   "source": [
    "## 초기 비용 계산 : $t_a(x_a^0)$\n",
    "* $x_0$ = 0 (전부 0)임을 계산하여 Cost 계산"
   ]
  },
  {
   "cell_type": "code",
   "execution_count": 86,
   "id": "0ce531ac-8070-4ece-89f2-65bfb9a45a75",
   "metadata": {
    "execution": {
     "iopub.execute_input": "2022-06-08T10:58:56.110924Z",
     "iopub.status.busy": "2022-06-08T10:58:56.110924Z",
     "iopub.status.idle": "2022-06-08T10:58:56.127853Z",
     "shell.execute_reply": "2022-06-08T10:58:56.126856Z",
     "shell.execute_reply.started": "2022-06-08T10:58:56.110924Z"
    },
    "tags": []
   },
   "outputs": [],
   "source": [
    "net1 = calculate_initial_cost(net1) # x0 "
   ]
  },
  {
   "cell_type": "code",
   "execution_count": 87,
   "id": "b52d501b-d0d3-4c51-873e-bd98437961e9",
   "metadata": {
    "execution": {
     "iopub.execute_input": "2022-06-08T10:58:57.066349Z",
     "iopub.status.busy": "2022-06-08T10:58:57.066349Z",
     "iopub.status.idle": "2022-06-08T10:58:57.091250Z",
     "shell.execute_reply": "2022-06-08T10:58:57.089261Z",
     "shell.execute_reply.started": "2022-06-08T10:58:57.066349Z"
    },
    "tags": []
   },
   "outputs": [
    {
     "data": {
      "text/html": [
       "<div>\n",
       "<style scoped>\n",
       "    .dataframe tbody tr th:only-of-type {\n",
       "        vertical-align: middle;\n",
       "    }\n",
       "\n",
       "    .dataframe tbody tr th {\n",
       "        vertical-align: top;\n",
       "    }\n",
       "\n",
       "    .dataframe thead th {\n",
       "        text-align: right;\n",
       "    }\n",
       "</style>\n",
       "<table border=\"1\" class=\"dataframe\">\n",
       "  <thead>\n",
       "    <tr style=\"text-align: right;\">\n",
       "      <th></th>\n",
       "      <th>O</th>\n",
       "      <th>D</th>\n",
       "      <th>FFT</th>\n",
       "      <th>Power</th>\n",
       "      <th>Capacity</th>\n",
       "      <th>B</th>\n",
       "      <th>Length</th>\n",
       "      <th>Link_num</th>\n",
       "      <th>x_n</th>\n",
       "      <th>y_n</th>\n",
       "      <th>Direction</th>\n",
       "      <th>x_n1</th>\n",
       "      <th>Cost</th>\n",
       "    </tr>\n",
       "    <tr>\n",
       "      <th>Link_num</th>\n",
       "      <th></th>\n",
       "      <th></th>\n",
       "      <th></th>\n",
       "      <th></th>\n",
       "      <th></th>\n",
       "      <th></th>\n",
       "      <th></th>\n",
       "      <th></th>\n",
       "      <th></th>\n",
       "      <th></th>\n",
       "      <th></th>\n",
       "      <th></th>\n",
       "      <th></th>\n",
       "    </tr>\n",
       "  </thead>\n",
       "  <tbody>\n",
       "    <tr>\n",
       "      <th>1</th>\n",
       "      <td>1</td>\n",
       "      <td>2</td>\n",
       "      <td>1</td>\n",
       "      <td>4</td>\n",
       "      <td>1</td>\n",
       "      <td>0.15</td>\n",
       "      <td>1</td>\n",
       "      <td>1</td>\n",
       "      <td>0</td>\n",
       "      <td>0</td>\n",
       "      <td>0</td>\n",
       "      <td>0</td>\n",
       "      <td>1.0</td>\n",
       "    </tr>\n",
       "    <tr>\n",
       "      <th>2</th>\n",
       "      <td>1</td>\n",
       "      <td>3</td>\n",
       "      <td>1</td>\n",
       "      <td>4</td>\n",
       "      <td>3</td>\n",
       "      <td>0.15</td>\n",
       "      <td>1</td>\n",
       "      <td>2</td>\n",
       "      <td>0</td>\n",
       "      <td>0</td>\n",
       "      <td>0</td>\n",
       "      <td>0</td>\n",
       "      <td>1.0</td>\n",
       "    </tr>\n",
       "    <tr>\n",
       "      <th>3</th>\n",
       "      <td>3</td>\n",
       "      <td>2</td>\n",
       "      <td>1</td>\n",
       "      <td>4</td>\n",
       "      <td>2</td>\n",
       "      <td>0.15</td>\n",
       "      <td>1</td>\n",
       "      <td>3</td>\n",
       "      <td>0</td>\n",
       "      <td>0</td>\n",
       "      <td>0</td>\n",
       "      <td>0</td>\n",
       "      <td>1.0</td>\n",
       "    </tr>\n",
       "    <tr>\n",
       "      <th>4</th>\n",
       "      <td>3</td>\n",
       "      <td>4</td>\n",
       "      <td>1</td>\n",
       "      <td>4</td>\n",
       "      <td>4</td>\n",
       "      <td>0.15</td>\n",
       "      <td>1</td>\n",
       "      <td>4</td>\n",
       "      <td>0</td>\n",
       "      <td>0</td>\n",
       "      <td>0</td>\n",
       "      <td>0</td>\n",
       "      <td>1.0</td>\n",
       "    </tr>\n",
       "    <tr>\n",
       "      <th>5</th>\n",
       "      <td>4</td>\n",
       "      <td>2</td>\n",
       "      <td>1</td>\n",
       "      <td>4</td>\n",
       "      <td>5</td>\n",
       "      <td>0.15</td>\n",
       "      <td>1</td>\n",
       "      <td>5</td>\n",
       "      <td>0</td>\n",
       "      <td>0</td>\n",
       "      <td>0</td>\n",
       "      <td>0</td>\n",
       "      <td>1.0</td>\n",
       "    </tr>\n",
       "  </tbody>\n",
       "</table>\n",
       "</div>"
      ],
      "text/plain": [
       "          O  D  FFT  Power  Capacity     B  Length  Link_num  x_n  y_n  \\\n",
       "Link_num                                                                 \n",
       "1         1  2    1      4         1  0.15       1         1    0    0   \n",
       "2         1  3    1      4         3  0.15       1         2    0    0   \n",
       "3         3  2    1      4         2  0.15       1         3    0    0   \n",
       "4         3  4    1      4         4  0.15       1         4    0    0   \n",
       "5         4  2    1      4         5  0.15       1         5    0    0   \n",
       "\n",
       "          Direction  x_n1  Cost  \n",
       "Link_num                         \n",
       "1                 0     0   1.0  \n",
       "2                 0     0   1.0  \n",
       "3                 0     0   1.0  \n",
       "4                 0     0   1.0  \n",
       "5                 0     0   1.0  "
      ]
     },
     "execution_count": 87,
     "metadata": {},
     "output_type": "execute_result"
    }
   ],
   "source": [
    "net1.head()"
   ]
  },
  {
   "cell_type": "markdown",
   "id": "09288287-7fa7-498d-8c48-2003410785e2",
   "metadata": {},
   "source": [
    "## $x_1$ 획득 : AON Assignment"
   ]
  },
  {
   "cell_type": "code",
   "execution_count": 92,
   "id": "cdc2b3a9-8c87-481f-b51c-fbe41ab81f68",
   "metadata": {
    "execution": {
     "iopub.execute_input": "2022-06-08T10:59:58.045511Z",
     "iopub.status.busy": "2022-06-08T10:59:58.044515Z",
     "iopub.status.idle": "2022-06-08T10:59:58.108344Z",
     "shell.execute_reply": "2022-06-08T10:59:58.106352Z",
     "shell.execute_reply.started": "2022-06-08T10:59:58.045511Z"
    },
    "tags": []
   },
   "outputs": [
    {
     "name": "stderr",
     "output_type": "stream",
     "text": [
      "  0%|                                                                                            | 0/2 [00:00<?, ?it/s]"
     ]
    },
    {
     "name": "stdout",
     "output_type": "stream",
     "text": [
      "[1 3]\n",
      "-------- origin = 1 --------\n",
      "0    2\n",
      "Name: D, dtype: int64\n"
     ]
    },
    {
     "name": "stderr",
     "output_type": "stream",
     "text": [
      "\n"
     ]
    },
    {
     "ename": "IndexError",
     "evalue": "single positional indexer is out-of-bounds",
     "output_type": "error",
     "traceback": [
      "\u001b[1;31m---------------------------------------------------------------------------\u001b[0m",
      "\u001b[1;31mIndexError\u001b[0m                                Traceback (most recent call last)",
      "\u001b[1;32m<ipython-input-92-f2274112a304>\u001b[0m in \u001b[0;36m<module>\u001b[1;34m\u001b[0m\n\u001b[0;32m     15\u001b[0m         \u001b[1;31m# OD별 shortest path 산출, 링크 넘버 추출\u001b[0m\u001b[1;33m\u001b[0m\u001b[1;33m\u001b[0m\u001b[1;33m\u001b[0m\u001b[0m\n\u001b[0;32m     16\u001b[0m         \u001b[1;32mif\u001b[0m \u001b[0morigin\u001b[0m \u001b[1;33m!=\u001b[0m \u001b[0mdestination\u001b[0m\u001b[1;33m:\u001b[0m\u001b[1;33m\u001b[0m\u001b[1;33m\u001b[0m\u001b[0m\n\u001b[1;32m---> 17\u001b[1;33m             \u001b[0mSPD\u001b[0m \u001b[1;33m=\u001b[0m \u001b[0mSPD_Dijkstra\u001b[0m\u001b[1;33m(\u001b[0m\u001b[0morigin\u001b[0m\u001b[1;33m,\u001b[0m \u001b[0mdestination\u001b[0m\u001b[1;33m,\u001b[0m \u001b[0mnet1\u001b[0m\u001b[1;33m)\u001b[0m\u001b[1;33m\u001b[0m\u001b[1;33m\u001b[0m\u001b[0m\n\u001b[0m\u001b[0;32m     18\u001b[0m             \u001b[0mlink_list\u001b[0m \u001b[1;33m=\u001b[0m \u001b[0mlist\u001b[0m\u001b[1;33m(\u001b[0m\u001b[0mSPD\u001b[0m\u001b[1;33m[\u001b[0m\u001b[1;34m'Link_num'\u001b[0m\u001b[1;33m]\u001b[0m\u001b[1;33m)\u001b[0m\u001b[1;33m\u001b[0m\u001b[1;33m\u001b[0m\u001b[0m\n\u001b[0;32m     19\u001b[0m             \u001b[1;31m# 각 링크넘버에 OD 테이블의 교통량(T) 더해주기\u001b[0m\u001b[1;33m\u001b[0m\u001b[1;33m\u001b[0m\u001b[1;33m\u001b[0m\u001b[0m\n",
      "\u001b[1;32m<ipython-input-28-09faac8e764c>\u001b[0m in \u001b[0;36mSPD_Dijkstra\u001b[1;34m(origin, destination, network)\u001b[0m\n\u001b[0;32m      8\u001b[0m \u001b[1;33m\u001b[0m\u001b[0m\n\u001b[0;32m      9\u001b[0m     \u001b[1;32mwhile\u001b[0m \u001b[1;32mTrue\u001b[0m\u001b[1;33m:\u001b[0m\u001b[1;33m\u001b[0m\u001b[1;33m\u001b[0m\u001b[0m\n\u001b[1;32m---> 10\u001b[1;33m         \u001b[1;32mif\u001b[0m \u001b[0mOD_SP\u001b[0m\u001b[1;33m[\u001b[0m\u001b[1;34m'O'\u001b[0m\u001b[1;33m]\u001b[0m\u001b[1;33m.\u001b[0m\u001b[0miloc\u001b[0m\u001b[1;33m[\u001b[0m\u001b[1;36m0\u001b[0m\u001b[1;33m]\u001b[0m \u001b[1;33m==\u001b[0m \u001b[0morigin\u001b[0m\u001b[1;33m:\u001b[0m\u001b[1;33m\u001b[0m\u001b[1;33m\u001b[0m\u001b[0m\n\u001b[0m\u001b[0;32m     11\u001b[0m             \u001b[1;32mbreak\u001b[0m\u001b[1;33m\u001b[0m\u001b[1;33m\u001b[0m\u001b[0m\n\u001b[0;32m     12\u001b[0m \u001b[1;33m\u001b[0m\u001b[0m\n",
      "\u001b[1;32mC:\\dev\\Anaconda_3\\lib\\site-packages\\pandas\\core\\indexing.py\u001b[0m in \u001b[0;36m__getitem__\u001b[1;34m(self, key)\u001b[0m\n\u001b[0;32m    893\u001b[0m \u001b[1;33m\u001b[0m\u001b[0m\n\u001b[0;32m    894\u001b[0m             \u001b[0mmaybe_callable\u001b[0m \u001b[1;33m=\u001b[0m \u001b[0mcom\u001b[0m\u001b[1;33m.\u001b[0m\u001b[0mapply_if_callable\u001b[0m\u001b[1;33m(\u001b[0m\u001b[0mkey\u001b[0m\u001b[1;33m,\u001b[0m \u001b[0mself\u001b[0m\u001b[1;33m.\u001b[0m\u001b[0mobj\u001b[0m\u001b[1;33m)\u001b[0m\u001b[1;33m\u001b[0m\u001b[1;33m\u001b[0m\u001b[0m\n\u001b[1;32m--> 895\u001b[1;33m             \u001b[1;32mreturn\u001b[0m \u001b[0mself\u001b[0m\u001b[1;33m.\u001b[0m\u001b[0m_getitem_axis\u001b[0m\u001b[1;33m(\u001b[0m\u001b[0mmaybe_callable\u001b[0m\u001b[1;33m,\u001b[0m \u001b[0maxis\u001b[0m\u001b[1;33m=\u001b[0m\u001b[0maxis\u001b[0m\u001b[1;33m)\u001b[0m\u001b[1;33m\u001b[0m\u001b[1;33m\u001b[0m\u001b[0m\n\u001b[0m\u001b[0;32m    896\u001b[0m \u001b[1;33m\u001b[0m\u001b[0m\n\u001b[0;32m    897\u001b[0m     \u001b[1;32mdef\u001b[0m \u001b[0m_is_scalar_access\u001b[0m\u001b[1;33m(\u001b[0m\u001b[0mself\u001b[0m\u001b[1;33m,\u001b[0m \u001b[0mkey\u001b[0m\u001b[1;33m:\u001b[0m \u001b[0mTuple\u001b[0m\u001b[1;33m)\u001b[0m\u001b[1;33m:\u001b[0m\u001b[1;33m\u001b[0m\u001b[1;33m\u001b[0m\u001b[0m\n",
      "\u001b[1;32mC:\\dev\\Anaconda_3\\lib\\site-packages\\pandas\\core\\indexing.py\u001b[0m in \u001b[0;36m_getitem_axis\u001b[1;34m(self, key, axis)\u001b[0m\n\u001b[0;32m   1499\u001b[0m \u001b[1;33m\u001b[0m\u001b[0m\n\u001b[0;32m   1500\u001b[0m             \u001b[1;31m# validate the location\u001b[0m\u001b[1;33m\u001b[0m\u001b[1;33m\u001b[0m\u001b[1;33m\u001b[0m\u001b[0m\n\u001b[1;32m-> 1501\u001b[1;33m             \u001b[0mself\u001b[0m\u001b[1;33m.\u001b[0m\u001b[0m_validate_integer\u001b[0m\u001b[1;33m(\u001b[0m\u001b[0mkey\u001b[0m\u001b[1;33m,\u001b[0m \u001b[0maxis\u001b[0m\u001b[1;33m)\u001b[0m\u001b[1;33m\u001b[0m\u001b[1;33m\u001b[0m\u001b[0m\n\u001b[0m\u001b[0;32m   1502\u001b[0m \u001b[1;33m\u001b[0m\u001b[0m\n\u001b[0;32m   1503\u001b[0m             \u001b[1;32mreturn\u001b[0m \u001b[0mself\u001b[0m\u001b[1;33m.\u001b[0m\u001b[0mobj\u001b[0m\u001b[1;33m.\u001b[0m\u001b[0m_ixs\u001b[0m\u001b[1;33m(\u001b[0m\u001b[0mkey\u001b[0m\u001b[1;33m,\u001b[0m \u001b[0maxis\u001b[0m\u001b[1;33m=\u001b[0m\u001b[0maxis\u001b[0m\u001b[1;33m)\u001b[0m\u001b[1;33m\u001b[0m\u001b[1;33m\u001b[0m\u001b[0m\n",
      "\u001b[1;32mC:\\dev\\Anaconda_3\\lib\\site-packages\\pandas\\core\\indexing.py\u001b[0m in \u001b[0;36m_validate_integer\u001b[1;34m(self, key, axis)\u001b[0m\n\u001b[0;32m   1442\u001b[0m         \u001b[0mlen_axis\u001b[0m \u001b[1;33m=\u001b[0m \u001b[0mlen\u001b[0m\u001b[1;33m(\u001b[0m\u001b[0mself\u001b[0m\u001b[1;33m.\u001b[0m\u001b[0mobj\u001b[0m\u001b[1;33m.\u001b[0m\u001b[0m_get_axis\u001b[0m\u001b[1;33m(\u001b[0m\u001b[0maxis\u001b[0m\u001b[1;33m)\u001b[0m\u001b[1;33m)\u001b[0m\u001b[1;33m\u001b[0m\u001b[1;33m\u001b[0m\u001b[0m\n\u001b[0;32m   1443\u001b[0m         \u001b[1;32mif\u001b[0m \u001b[0mkey\u001b[0m \u001b[1;33m>=\u001b[0m \u001b[0mlen_axis\u001b[0m \u001b[1;32mor\u001b[0m \u001b[0mkey\u001b[0m \u001b[1;33m<\u001b[0m \u001b[1;33m-\u001b[0m\u001b[0mlen_axis\u001b[0m\u001b[1;33m:\u001b[0m\u001b[1;33m\u001b[0m\u001b[1;33m\u001b[0m\u001b[0m\n\u001b[1;32m-> 1444\u001b[1;33m             \u001b[1;32mraise\u001b[0m \u001b[0mIndexError\u001b[0m\u001b[1;33m(\u001b[0m\u001b[1;34m\"single positional indexer is out-of-bounds\"\u001b[0m\u001b[1;33m)\u001b[0m\u001b[1;33m\u001b[0m\u001b[1;33m\u001b[0m\u001b[0m\n\u001b[0m\u001b[0;32m   1445\u001b[0m \u001b[1;33m\u001b[0m\u001b[0m\n\u001b[0;32m   1446\u001b[0m     \u001b[1;31m# -------------------------------------------------------------------\u001b[0m\u001b[1;33m\u001b[0m\u001b[1;33m\u001b[0m\u001b[1;33m\u001b[0m\u001b[0m\n",
      "\u001b[1;31mIndexError\u001b[0m: single positional indexer is out-of-bounds"
     ]
    }
   ],
   "source": [
    "# 각 OD별로 Dijkstra를 사용해 최단경로를 산출, \n",
    "# OD 테이블의 교통량(T)을 각 최단경로에 포함된 링크에 All-or-Nothing으로 배정하기\n",
    "\n",
    "origin_list = OD['O'].unique()\n",
    "\n",
    "for origin in tqdm(origin_list): # 각 Origin에 대하여\n",
    "\n",
    "    each_origin_OD = OD[OD['O'] == origin]\n",
    "    destination_list = each_origin_OD['D']\n",
    "    \n",
    "    for destination in destination_list: # 각 Origin의 Destin에 대하여\n",
    "        # OD별 shortest path 산출, 링크 넘버 추출\n",
    "        if origin != destination:\n",
    "            SPD = SPD_Dijkstra(origin, destination, net1)\n",
    "            link_list = list(SPD['Link_num'])\n",
    "            # 각 링크넘버에 OD 테이블의 교통량(T) 더해주기\n",
    "            add_volume = OD[(OD['O'] == origin) & (OD['D'] == destination)].iloc[0].loc['T'] # 각 통과 링크에 더해줄 OD 교통량 산정\n",
    "            print(f'(O, D) = ({origin}, {destination}), Path Link_num list = {link_list}, Add_volume = {add_volume}')\n",
    "            net1.loc[net1['Link_num'].isin(link_list), 'x_n'] += add_volume # All or Nothing 배정\n",
    "        else:\n",
    "            pass"
   ]
  },
  {
   "cell_type": "code",
   "execution_count": null,
   "id": "9130c76d-f13d-4e15-a086-fbc9517445b6",
   "metadata": {
    "tags": []
   },
   "outputs": [],
   "source": [
    "net1.head()"
   ]
  },
  {
   "cell_type": "code",
   "execution_count": null,
   "id": "350dabc9-ac60-4974-9541-3ff9ebf851cd",
   "metadata": {
    "tags": []
   },
   "outputs": [],
   "source": [
    "net_cost = net1 #### net 1 보존. Iteration 잘못되어도 여기서 다시 시작하자."
   ]
  },
  {
   "cell_type": "markdown",
   "id": "ce7a7ebf-1a0d-46c9-bc99-3c1a9405772d",
   "metadata": {},
   "source": [
    "# Iteration"
   ]
  },
  {
   "cell_type": "markdown",
   "id": "76a8c9ed-f93a-4ced-8530-5e243a105b3d",
   "metadata": {},
   "source": [
    "## $t_1$ 계산 : 통행비용 갱신\n",
    "* Update Link Travel Time\n",
    "* 전 단계에서 계산한 통행량 $x_1$로 통행비용(Cost) 갱신"
   ]
  },
  {
   "cell_type": "code",
   "execution_count": null,
   "id": "c1fce208-cedc-42da-97b4-72477fe715d6",
   "metadata": {
    "tags": []
   },
   "outputs": [],
   "source": [
    "net_cost = calculate_iterative_cost(net_cost) # Cost 갱신"
   ]
  },
  {
   "cell_type": "code",
   "execution_count": null,
   "id": "f6d4c2e0-821e-468c-9cf2-ebece1aa2af4",
   "metadata": {
    "tags": []
   },
   "outputs": [],
   "source": [
    "net_cost.head(20)"
   ]
  },
  {
   "cell_type": "markdown",
   "id": "06cd7bfc-3756-4c69-86df-af75b2fffee5",
   "metadata": {},
   "source": [
    "## $y_1$ 획득 : AON Assignment\n",
    "* 전 단계의 $t_1$(Cost)을 이용, Dijkstra로 Shortest Path 계산\n",
    "* All or Nothing Assignment 실행, y1 획득"
   ]
  },
  {
   "cell_type": "code",
   "execution_count": null,
   "id": "7b525ca6-4665-4616-8249-42768cb7d56e",
   "metadata": {
    "tags": []
   },
   "outputs": [],
   "source": [
    "for origin in tqdm(origin_list): # 각 Origin에 대하여 -- Origin은 불변임. OD는 불변이다.\n",
    "    \n",
    "    #print(f'origin = {origin}')\n",
    "    each_origin_OD = OD[OD['O'] == origin]\n",
    "    destination_list = each_origin_OD['D']\n",
    "    \n",
    "    for destination in destination_list: # 각 Origin의 Destin에 대하여\n",
    "        # OD별 shortest path 산출, 링크 넘버 추출\n",
    "        if origin != destination:\n",
    "            SPD = SPD_Dijkstra(origin, destination, net_cost) ### 변화된 Cost 열을 이용해서 또다시 최단경로 계산(경로가 바뀜)\n",
    "            link_list = list(SPD['Link_num']) # 바뀐 경로들이 포함한 링크 리스트 나열\n",
    "            # 각 링크넘버에 OD 테이블의 교통량(T) 더해주기\n",
    "            add_volume = OD[(OD['O'] == origin) & (OD['D'] == destination)].iloc[0].loc['T'] # 각 통과 링크에 더해줄 OD 교통량 산정 \n",
    "            #print(f'(O, D) = ({origin}, {destination}), Path Link_num list = {link_list}, Add_volume = {add_volume}')\n",
    "            net_cost.loc[net_cost['Link_num'].isin(link_list), 'y_n'] += add_volume # All or Nothing 배정 :: y_n 갱신\n",
    "        else:\n",
    "            pass"
   ]
  },
  {
   "cell_type": "code",
   "execution_count": null,
   "id": "c8c9c764-15f2-4fd2-b8d2-b3c253cec73a",
   "metadata": {
    "tags": []
   },
   "outputs": [],
   "source": [
    "net_cost.head(20)"
   ]
  },
  {
   "cell_type": "code",
   "execution_count": null,
   "id": "93f19de7-de47-4204-8599-8854b7c9117b",
   "metadata": {
    "tags": []
   },
   "outputs": [],
   "source": [
    "sum(net_cost['x_n'])"
   ]
  },
  {
   "cell_type": "code",
   "execution_count": null,
   "id": "4556d16d-582c-462b-8688-2b9f0acf58a6",
   "metadata": {
    "tags": []
   },
   "outputs": [],
   "source": [
    "sum(net_cost['y_n'])"
   ]
  },
  {
   "cell_type": "markdown",
   "id": "ab4537b7-c918-46d1-9749-2789a4e7809b",
   "metadata": {},
   "source": [
    "## Find Move Size $\\alpha$\n",
    "* Finding Direction : $d = y_1-x_1$ \n",
    "* 목적함수 $Z(x)$를 최소화하는 $\\alpha$ 값 찾기\n",
    "* 즉, $\\sum(y_a^n-x_a^n)*t_a*(x_a^n+\\alpha(y_a^n-x_a^n) = 0$이 되는 $\\alpha$ 값 찾기"
   ]
  },
  {
   "cell_type": "code",
   "execution_count": null,
   "id": "2937104d-05b9-4623-a220-1f7615a1b953",
   "metadata": {
    "tags": []
   },
   "outputs": [],
   "source": [
    "net_cost['Direction'] = net_cost['y_n'] - net_cost['x_n'] # direction :: d = yn - xn 임"
   ]
  },
  {
   "cell_type": "code",
   "execution_count": null,
   "id": "32a23424-e1aa-46ad-a5d1-63dfed4c812f",
   "metadata": {
    "tags": []
   },
   "outputs": [],
   "source": [
    "net_cost['Direction'].unique()"
   ]
  },
  {
   "cell_type": "code",
   "execution_count": null,
   "id": "c21b8832-06d6-4727-ab3f-415f8d1caaf9",
   "metadata": {
    "tags": []
   },
   "outputs": [],
   "source": [
    "net_cost"
   ]
  },
  {
   "cell_type": "code",
   "execution_count": null,
   "id": "e194ef3f-0973-4e10-8a39-e912fcba06c6",
   "metadata": {
    "tags": []
   },
   "outputs": [],
   "source": [
    "## Sympy :: 방정식을 풀기 위한 패키지 이용. 방정식에 포함될 각 변수들을 선언하기\n",
    "\n",
    "d = Symbol('d') # direction\n",
    "B = Symbol('B') # B. 0.15 있는 그거\n",
    "t = Symbol('t') # t. Cost\n",
    "c = Symbol('c') # capacity\n",
    "x = Symbol('x') # x0\n",
    "alpha = Symbol('alpha') # alpha\n",
    "P = Symbol('P') # Power. 4."
   ]
  },
  {
   "cell_type": "code",
   "execution_count": null,
   "id": "96c36907-d0cf-4ea2-9308-b6ff5af20ccf",
   "metadata": {
    "tags": []
   },
   "outputs": [],
   "source": [
    "total_equation = 0 # total Equation : Z(x)가 최소화되기 위한 조건식\n",
    "\n",
    "for i in tqdm(range(1, len(net_cost)+1)): # 1부터 끝까지 Link_num == i에 대하여\n",
    "    \n",
    "    d = net_cost.loc[i, 'Direction'] # i링크의 direction\n",
    "    t = net_cost.loc[i, 'Cost']\n",
    "    B = net_cost.loc[i, 'B']\n",
    "    x = net_cost.loc[i, 'x_n']\n",
    "    P = net_cost.loc[i, 'Power']\n",
    "    C = net_cost.loc[i, 'Capacity']\n",
    "    \n",
    "    equation = d * t * (1 + B * (((x + alpha * d)/C)**P))\n",
    "    #print(equation)\n",
    "    \n",
    "    total_equation += equation"
   ]
  },
  {
   "cell_type": "code",
   "execution_count": null,
   "id": "ebf0bc88-3c3a-43a3-8038-ced0500db504",
   "metadata": {
    "tags": []
   },
   "outputs": [],
   "source": [
    "alpha_list = solve(total_equation) # 여기서 alpha는 0과 1 사이의 양수여야 하므로, 해당 부분만을 필터링해준다.\n",
    "print(alpha_list)"
   ]
  },
  {
   "cell_type": "code",
   "execution_count": null,
   "id": "781f2a11-0bab-4df9-b3f5-94f5981ef2f6",
   "metadata": {
    "tags": []
   },
   "outputs": [],
   "source": [
    "def find_alpha(alpha_list):\n",
    "    \"\"\"Alpha 값들 중 0 이상 1 이하 실수값만을 반환\"\"\"\n",
    "    for alpha in alpha_list:\n",
    "        if alpha.is_real == True:\n",
    "            if alpha <= 1 and alpha >= 0:\n",
    "                #print(alpha)\n",
    "                return alpha\n",
    "            else:\n",
    "                pass\n",
    "        else:\n",
    "            pass"
   ]
  },
  {
   "cell_type": "code",
   "execution_count": null,
   "id": "19213d34-9258-4619-9728-fed018d12140",
   "metadata": {
    "tags": []
   },
   "outputs": [],
   "source": [
    "ith_alpha = find_alpha(alpha_list)\n",
    "print(ith_alpha) #### 금번 iteration의 alpha를 구했다."
   ]
  },
  {
   "cell_type": "markdown",
   "id": "e2751214-b99e-416b-acbf-9f25067c9ffd",
   "metadata": {},
   "source": [
    "## $x_2$ 계산\n",
    "* $\\alpha$ 값을 이용하여 $x_2$ 값을 계산\n",
    "* $x_2 = x_1 + \\alpha*(y_1 - x_1)$"
   ]
  },
  {
   "cell_type": "code",
   "execution_count": null,
   "id": "d18db2ee-45bc-492f-b69f-abc76dcc2417",
   "metadata": {
    "tags": []
   },
   "outputs": [],
   "source": [
    "net_cost['x_n1'] = net_cost['x_n'] + ith_alpha * (net_cost['Direction'])"
   ]
  },
  {
   "cell_type": "code",
   "execution_count": null,
   "id": "22a5c696-5c9f-45ca-bce8-f5c65d81fd92",
   "metadata": {
    "tags": []
   },
   "outputs": [],
   "source": [
    "net_cost.head()"
   ]
  },
  {
   "cell_type": "markdown",
   "id": "e3070efd-2e59-4fec-8a8c-8bfa4421499a",
   "metadata": {},
   "source": [
    "## Convergence Test\n",
    "* 컨버전스 테스트 실행\n",
    "* 만약 컨버전스 테스트를 통과하지 못할 시, 이 $x_2$를 이용해서 iteration을 반복하게 된다."
   ]
  },
  {
   "cell_type": "code",
   "execution_count": null,
   "id": "2f5d4512-04f2-4fad-a18e-22139cc423a6",
   "metadata": {
    "tags": []
   },
   "outputs": [],
   "source": [
    "def convergence_test(network):\n",
    "    \"\"\"네트워크에 대한 convergence test를 실행하는 함수.\n",
    "    :: network :: 네트워크 데이터프레임. x_n, x_n1, Cost 열을 포함하고 있어야 함\n",
    "    :: k :: 수렴 기준. 0.000001 정도로 잡아 본다.\"\"\"\n",
    "    sum_xn = sum(network['x_n']) # 분모\n",
    "    sum_varx = sum((network['x_n1'] - network['x_n']) ** 2)**(1/2) # 분자\n",
    "    \n",
    "    criterion = sum_varx / sum_xn\n",
    "        \n",
    "    return criterion"
   ]
  },
  {
   "cell_type": "code",
   "execution_count": null,
   "id": "3e84d2d4-5eae-4e04-b577-82481b73ca8b",
   "metadata": {
    "tags": []
   },
   "outputs": [],
   "source": [
    "criterion = convergence_test(net_cost)\n",
    "print(criterion)"
   ]
  },
  {
   "cell_type": "code",
   "execution_count": null,
   "id": "d737bc7b-fbe4-4c34-9325-0fe69560d778",
   "metadata": {
    "tags": []
   },
   "outputs": [],
   "source": [
    "net_cost['x_n'] = net_cost['x_n1']\n",
    "net_cost['y_n'] = 0 # 초기화해주지 않으면 엄청 늘어나버린다.\n",
    "net_cost['Direction'] = 0\n",
    "net_cost['x_n1'] = 0"
   ]
  }
 ],
 "metadata": {
  "kernelspec": {
   "display_name": "Python 3",
   "language": "python",
   "name": "python3"
  },
  "language_info": {
   "codemirror_mode": {
    "name": "ipython",
    "version": 3
   },
   "file_extension": ".py",
   "mimetype": "text/x-python",
   "name": "python",
   "nbconvert_exporter": "python",
   "pygments_lexer": "ipython3",
   "version": "3.8.8"
  }
 },
 "nbformat": 4,
 "nbformat_minor": 5
}
